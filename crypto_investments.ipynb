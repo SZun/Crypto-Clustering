{
 "cells": [
  {
   "cell_type": "markdown",
   "metadata": {},
   "source": [
    "# Module 10 Application\n",
    "\n",
    "## Challenge: Crypto Clustering\n",
    "\n",
    "In this Challenge, you’ll combine your financial Python programming skills with the new unsupervised learning skills that you acquired in this module.\n",
    "\n",
    "The CSV file provided for this challenge contains price change data of cryptocurrencies in different periods.\n",
    "\n",
    "The steps for this challenge are broken out into the following sections:\n",
    "\n",
    "* Import the Data (provided in the starter code)\n",
    "* Prepare the Data (provided in the starter code)\n",
    "* Find the Best Value for `k` Using the Original Data\n",
    "* Cluster Cryptocurrencies with K-means Using the Original Data\n",
    "* Optimize Clusters with Principal Component Analysis\n",
    "* Find the Best Value for `k` Using the PCA Data\n",
    "* Cluster the Cryptocurrencies with K-means Using the PCA Data\n",
    "* Visualize and Compare the Results"
   ]
  },
  {
   "cell_type": "markdown",
   "metadata": {},
   "source": [
    "### Import the Data\n",
    "\n",
    "This section imports the data into a new DataFrame. It follows these steps:\n",
    "\n",
    "1. Read  the “crypto_market_data.csv” file from the Resources folder into a DataFrame, and use `index_col=\"coin_id\"` to set the cryptocurrency name as the index. Review the DataFrame.\n",
    "\n",
    "2. Generate the summary statistics, and use HvPlot to visualize your data to observe what your DataFrame contains.\n",
    "\n",
    "\n",
    "> **Rewind:** The [Pandas`describe()`function](https://pandas.pydata.org/pandas-docs/stable/reference/api/pandas.DataFrame.describe.html) generates summary statistics for a DataFrame. "
   ]
  },
  {
   "cell_type": "code",
   "execution_count": 651,
   "metadata": {},
   "outputs": [],
   "source": [
    "# Import required libraries and dependencies\n",
    "import pandas as pd\n",
    "import hvplot.pandas\n",
    "from pathlib import Path\n",
    "from sklearn.cluster import KMeans\n",
    "from sklearn.decomposition import PCA\n",
    "from sklearn.preprocessing import StandardScaler"
   ]
  },
  {
   "cell_type": "code",
   "execution_count": 652,
   "metadata": {},
   "outputs": [
    {
     "data": {
      "text/html": [
       "<div>\n",
       "<style scoped>\n",
       "    .dataframe tbody tr th:only-of-type {\n",
       "        vertical-align: middle;\n",
       "    }\n",
       "\n",
       "    .dataframe tbody tr th {\n",
       "        vertical-align: top;\n",
       "    }\n",
       "\n",
       "    .dataframe thead th {\n",
       "        text-align: right;\n",
       "    }\n",
       "</style>\n",
       "<table border=\"1\" class=\"dataframe\">\n",
       "  <thead>\n",
       "    <tr style=\"text-align: right;\">\n",
       "      <th></th>\n",
       "      <th>price_change_percentage_24h</th>\n",
       "      <th>price_change_percentage_7d</th>\n",
       "      <th>price_change_percentage_14d</th>\n",
       "      <th>price_change_percentage_30d</th>\n",
       "      <th>price_change_percentage_60d</th>\n",
       "      <th>price_change_percentage_200d</th>\n",
       "      <th>price_change_percentage_1y</th>\n",
       "    </tr>\n",
       "    <tr>\n",
       "      <th>coin_id</th>\n",
       "      <th></th>\n",
       "      <th></th>\n",
       "      <th></th>\n",
       "      <th></th>\n",
       "      <th></th>\n",
       "      <th></th>\n",
       "      <th></th>\n",
       "    </tr>\n",
       "  </thead>\n",
       "  <tbody>\n",
       "    <tr>\n",
       "      <th>bitcoin</th>\n",
       "      <td>1.08388</td>\n",
       "      <td>7.60278</td>\n",
       "      <td>6.57509</td>\n",
       "      <td>7.67258</td>\n",
       "      <td>-3.25185</td>\n",
       "      <td>83.51840</td>\n",
       "      <td>37.51761</td>\n",
       "    </tr>\n",
       "    <tr>\n",
       "      <th>ethereum</th>\n",
       "      <td>0.22392</td>\n",
       "      <td>10.38134</td>\n",
       "      <td>4.80849</td>\n",
       "      <td>0.13169</td>\n",
       "      <td>-12.88890</td>\n",
       "      <td>186.77418</td>\n",
       "      <td>101.96023</td>\n",
       "    </tr>\n",
       "    <tr>\n",
       "      <th>tether</th>\n",
       "      <td>-0.21173</td>\n",
       "      <td>0.04935</td>\n",
       "      <td>0.00640</td>\n",
       "      <td>-0.04237</td>\n",
       "      <td>0.28037</td>\n",
       "      <td>-0.00542</td>\n",
       "      <td>0.01954</td>\n",
       "    </tr>\n",
       "    <tr>\n",
       "      <th>ripple</th>\n",
       "      <td>-0.37819</td>\n",
       "      <td>-0.60926</td>\n",
       "      <td>2.24984</td>\n",
       "      <td>0.23455</td>\n",
       "      <td>-17.55245</td>\n",
       "      <td>39.53888</td>\n",
       "      <td>-16.60193</td>\n",
       "    </tr>\n",
       "    <tr>\n",
       "      <th>bitcoin-cash</th>\n",
       "      <td>2.90585</td>\n",
       "      <td>17.09717</td>\n",
       "      <td>14.75334</td>\n",
       "      <td>15.74903</td>\n",
       "      <td>-13.71793</td>\n",
       "      <td>21.66042</td>\n",
       "      <td>14.49384</td>\n",
       "    </tr>\n",
       "    <tr>\n",
       "      <th>binancecoin</th>\n",
       "      <td>2.10423</td>\n",
       "      <td>12.85511</td>\n",
       "      <td>6.80688</td>\n",
       "      <td>0.05865</td>\n",
       "      <td>36.33486</td>\n",
       "      <td>155.61937</td>\n",
       "      <td>69.69195</td>\n",
       "    </tr>\n",
       "    <tr>\n",
       "      <th>chainlink</th>\n",
       "      <td>-0.23935</td>\n",
       "      <td>20.69459</td>\n",
       "      <td>9.30098</td>\n",
       "      <td>-11.21747</td>\n",
       "      <td>-43.69522</td>\n",
       "      <td>403.22917</td>\n",
       "      <td>325.13186</td>\n",
       "    </tr>\n",
       "    <tr>\n",
       "      <th>cardano</th>\n",
       "      <td>0.00322</td>\n",
       "      <td>13.99302</td>\n",
       "      <td>5.55476</td>\n",
       "      <td>10.10553</td>\n",
       "      <td>-22.84776</td>\n",
       "      <td>264.51418</td>\n",
       "      <td>156.09756</td>\n",
       "    </tr>\n",
       "    <tr>\n",
       "      <th>litecoin</th>\n",
       "      <td>-0.06341</td>\n",
       "      <td>6.60221</td>\n",
       "      <td>7.28931</td>\n",
       "      <td>1.21662</td>\n",
       "      <td>-17.23960</td>\n",
       "      <td>27.49919</td>\n",
       "      <td>-12.66408</td>\n",
       "    </tr>\n",
       "    <tr>\n",
       "      <th>bitcoin-cash-sv</th>\n",
       "      <td>0.92530</td>\n",
       "      <td>3.29641</td>\n",
       "      <td>-1.86656</td>\n",
       "      <td>2.88926</td>\n",
       "      <td>-24.87434</td>\n",
       "      <td>7.42562</td>\n",
       "      <td>93.73082</td>\n",
       "    </tr>\n",
       "  </tbody>\n",
       "</table>\n",
       "</div>"
      ],
      "text/plain": [
       "                 price_change_percentage_24h  price_change_percentage_7d  \\\n",
       "coin_id                                                                    \n",
       "bitcoin                              1.08388                     7.60278   \n",
       "ethereum                             0.22392                    10.38134   \n",
       "tether                              -0.21173                     0.04935   \n",
       "ripple                              -0.37819                    -0.60926   \n",
       "bitcoin-cash                         2.90585                    17.09717   \n",
       "binancecoin                          2.10423                    12.85511   \n",
       "chainlink                           -0.23935                    20.69459   \n",
       "cardano                              0.00322                    13.99302   \n",
       "litecoin                            -0.06341                     6.60221   \n",
       "bitcoin-cash-sv                      0.92530                     3.29641   \n",
       "\n",
       "                 price_change_percentage_14d  price_change_percentage_30d  \\\n",
       "coin_id                                                                     \n",
       "bitcoin                              6.57509                      7.67258   \n",
       "ethereum                             4.80849                      0.13169   \n",
       "tether                               0.00640                     -0.04237   \n",
       "ripple                               2.24984                      0.23455   \n",
       "bitcoin-cash                        14.75334                     15.74903   \n",
       "binancecoin                          6.80688                      0.05865   \n",
       "chainlink                            9.30098                    -11.21747   \n",
       "cardano                              5.55476                     10.10553   \n",
       "litecoin                             7.28931                      1.21662   \n",
       "bitcoin-cash-sv                     -1.86656                      2.88926   \n",
       "\n",
       "                 price_change_percentage_60d  price_change_percentage_200d  \\\n",
       "coin_id                                                                      \n",
       "bitcoin                             -3.25185                      83.51840   \n",
       "ethereum                           -12.88890                     186.77418   \n",
       "tether                               0.28037                      -0.00542   \n",
       "ripple                             -17.55245                      39.53888   \n",
       "bitcoin-cash                       -13.71793                      21.66042   \n",
       "binancecoin                         36.33486                     155.61937   \n",
       "chainlink                          -43.69522                     403.22917   \n",
       "cardano                            -22.84776                     264.51418   \n",
       "litecoin                           -17.23960                      27.49919   \n",
       "bitcoin-cash-sv                    -24.87434                       7.42562   \n",
       "\n",
       "                 price_change_percentage_1y  \n",
       "coin_id                                      \n",
       "bitcoin                            37.51761  \n",
       "ethereum                          101.96023  \n",
       "tether                              0.01954  \n",
       "ripple                            -16.60193  \n",
       "bitcoin-cash                       14.49384  \n",
       "binancecoin                        69.69195  \n",
       "chainlink                         325.13186  \n",
       "cardano                           156.09756  \n",
       "litecoin                          -12.66408  \n",
       "bitcoin-cash-sv                    93.73082  "
      ]
     },
     "execution_count": 652,
     "metadata": {},
     "output_type": "execute_result"
    }
   ],
   "source": [
    "# Load the data into a Pandas DataFrame\n",
    "df_market_data = pd.read_csv(\n",
    "    Path(\"Resources/crypto_market_data.csv\"),\n",
    "    index_col=\"coin_id\")\n",
    "\n",
    "# Display sample data\n",
    "df_market_data.head(10)"
   ]
  },
  {
   "cell_type": "code",
   "execution_count": 653,
   "metadata": {},
   "outputs": [
    {
     "data": {
      "text/html": [
       "<div>\n",
       "<style scoped>\n",
       "    .dataframe tbody tr th:only-of-type {\n",
       "        vertical-align: middle;\n",
       "    }\n",
       "\n",
       "    .dataframe tbody tr th {\n",
       "        vertical-align: top;\n",
       "    }\n",
       "\n",
       "    .dataframe thead th {\n",
       "        text-align: right;\n",
       "    }\n",
       "</style>\n",
       "<table border=\"1\" class=\"dataframe\">\n",
       "  <thead>\n",
       "    <tr style=\"text-align: right;\">\n",
       "      <th></th>\n",
       "      <th>price_change_percentage_24h</th>\n",
       "      <th>price_change_percentage_7d</th>\n",
       "      <th>price_change_percentage_14d</th>\n",
       "      <th>price_change_percentage_30d</th>\n",
       "      <th>price_change_percentage_60d</th>\n",
       "      <th>price_change_percentage_200d</th>\n",
       "      <th>price_change_percentage_1y</th>\n",
       "    </tr>\n",
       "  </thead>\n",
       "  <tbody>\n",
       "    <tr>\n",
       "      <th>count</th>\n",
       "      <td>41.000000</td>\n",
       "      <td>41.000000</td>\n",
       "      <td>41.000000</td>\n",
       "      <td>41.000000</td>\n",
       "      <td>41.000000</td>\n",
       "      <td>41.000000</td>\n",
       "      <td>41.000000</td>\n",
       "    </tr>\n",
       "    <tr>\n",
       "      <th>mean</th>\n",
       "      <td>-0.269686</td>\n",
       "      <td>4.497147</td>\n",
       "      <td>0.185787</td>\n",
       "      <td>1.545693</td>\n",
       "      <td>-0.094119</td>\n",
       "      <td>236.537432</td>\n",
       "      <td>347.667956</td>\n",
       "    </tr>\n",
       "    <tr>\n",
       "      <th>std</th>\n",
       "      <td>2.694793</td>\n",
       "      <td>6.375218</td>\n",
       "      <td>8.376939</td>\n",
       "      <td>26.344218</td>\n",
       "      <td>47.365803</td>\n",
       "      <td>435.225304</td>\n",
       "      <td>1247.842884</td>\n",
       "    </tr>\n",
       "    <tr>\n",
       "      <th>min</th>\n",
       "      <td>-13.527860</td>\n",
       "      <td>-6.094560</td>\n",
       "      <td>-18.158900</td>\n",
       "      <td>-34.705480</td>\n",
       "      <td>-44.822480</td>\n",
       "      <td>-0.392100</td>\n",
       "      <td>-17.567530</td>\n",
       "    </tr>\n",
       "    <tr>\n",
       "      <th>25%</th>\n",
       "      <td>-0.608970</td>\n",
       "      <td>0.047260</td>\n",
       "      <td>-5.026620</td>\n",
       "      <td>-10.438470</td>\n",
       "      <td>-25.907990</td>\n",
       "      <td>21.660420</td>\n",
       "      <td>0.406170</td>\n",
       "    </tr>\n",
       "    <tr>\n",
       "      <th>50%</th>\n",
       "      <td>-0.063410</td>\n",
       "      <td>3.296410</td>\n",
       "      <td>0.109740</td>\n",
       "      <td>-0.042370</td>\n",
       "      <td>-7.544550</td>\n",
       "      <td>83.905200</td>\n",
       "      <td>69.691950</td>\n",
       "    </tr>\n",
       "    <tr>\n",
       "      <th>75%</th>\n",
       "      <td>0.612090</td>\n",
       "      <td>7.602780</td>\n",
       "      <td>5.510740</td>\n",
       "      <td>4.578130</td>\n",
       "      <td>0.657260</td>\n",
       "      <td>216.177610</td>\n",
       "      <td>168.372510</td>\n",
       "    </tr>\n",
       "    <tr>\n",
       "      <th>max</th>\n",
       "      <td>4.840330</td>\n",
       "      <td>20.694590</td>\n",
       "      <td>24.239190</td>\n",
       "      <td>140.795700</td>\n",
       "      <td>223.064370</td>\n",
       "      <td>2227.927820</td>\n",
       "      <td>7852.089700</td>\n",
       "    </tr>\n",
       "  </tbody>\n",
       "</table>\n",
       "</div>"
      ],
      "text/plain": [
       "       price_change_percentage_24h  price_change_percentage_7d  \\\n",
       "count                    41.000000                   41.000000   \n",
       "mean                     -0.269686                    4.497147   \n",
       "std                       2.694793                    6.375218   \n",
       "min                     -13.527860                   -6.094560   \n",
       "25%                      -0.608970                    0.047260   \n",
       "50%                      -0.063410                    3.296410   \n",
       "75%                       0.612090                    7.602780   \n",
       "max                       4.840330                   20.694590   \n",
       "\n",
       "       price_change_percentage_14d  price_change_percentage_30d  \\\n",
       "count                    41.000000                    41.000000   \n",
       "mean                      0.185787                     1.545693   \n",
       "std                       8.376939                    26.344218   \n",
       "min                     -18.158900                   -34.705480   \n",
       "25%                      -5.026620                   -10.438470   \n",
       "50%                       0.109740                    -0.042370   \n",
       "75%                       5.510740                     4.578130   \n",
       "max                      24.239190                   140.795700   \n",
       "\n",
       "       price_change_percentage_60d  price_change_percentage_200d  \\\n",
       "count                    41.000000                     41.000000   \n",
       "mean                     -0.094119                    236.537432   \n",
       "std                      47.365803                    435.225304   \n",
       "min                     -44.822480                     -0.392100   \n",
       "25%                     -25.907990                     21.660420   \n",
       "50%                      -7.544550                     83.905200   \n",
       "75%                       0.657260                    216.177610   \n",
       "max                     223.064370                   2227.927820   \n",
       "\n",
       "       price_change_percentage_1y  \n",
       "count                   41.000000  \n",
       "mean                   347.667956  \n",
       "std                   1247.842884  \n",
       "min                    -17.567530  \n",
       "25%                      0.406170  \n",
       "50%                     69.691950  \n",
       "75%                    168.372510  \n",
       "max                   7852.089700  "
      ]
     },
     "execution_count": 653,
     "metadata": {},
     "output_type": "execute_result"
    }
   ],
   "source": [
    "# Generate summary statistics\n",
    "df_market_data.describe()"
   ]
  },
  {
   "cell_type": "code",
   "execution_count": 654,
   "metadata": {},
   "outputs": [
    {
     "data": {},
     "metadata": {},
     "output_type": "display_data"
    },
    {
     "data": {
      "application/vnd.holoviews_exec.v0+json": "",
      "text/html": [
       "<div id='67962'>\n",
       "\n",
       "\n",
       "\n",
       "\n",
       "\n",
       "  <div class=\"bk-root\" id=\"ff3e9fd9-3438-4f4b-9303-f660d94c2a3a\" data-root-id=\"67962\"></div>\n",
       "</div>\n",
       "<script type=\"application/javascript\">(function(root) {\n",
       "  function embed_document(root) {\n",
       "    var docs_json = {\"fb85886d-c584-4ad7-929e-d03676f93bfe\":{\"defs\":[{\"extends\":null,\"module\":null,\"name\":\"ReactiveHTML1\",\"overrides\":[],\"properties\":[]},{\"extends\":null,\"module\":null,\"name\":\"FlexBox1\",\"overrides\":[],\"properties\":[{\"default\":\"flex-start\",\"kind\":null,\"name\":\"align_content\"},{\"default\":\"flex-start\",\"kind\":null,\"name\":\"align_items\"},{\"default\":\"row\",\"kind\":null,\"name\":\"flex_direction\"},{\"default\":\"wrap\",\"kind\":null,\"name\":\"flex_wrap\"},{\"default\":\"flex-start\",\"kind\":null,\"name\":\"justify_content\"}]},{\"extends\":null,\"module\":null,\"name\":\"GridStack1\",\"overrides\":[],\"properties\":[{\"default\":\"warn\",\"kind\":null,\"name\":\"mode\"},{\"default\":null,\"kind\":null,\"name\":\"ncols\"},{\"default\":null,\"kind\":null,\"name\":\"nrows\"},{\"default\":true,\"kind\":null,\"name\":\"allow_resize\"},{\"default\":true,\"kind\":null,\"name\":\"allow_drag\"},{\"default\":[],\"kind\":null,\"name\":\"state\"}]},{\"extends\":null,\"module\":null,\"name\":\"click1\",\"overrides\":[],\"properties\":[{\"default\":\"\",\"kind\":null,\"name\":\"terminal_output\"},{\"default\":\"\",\"kind\":null,\"name\":\"debug_name\"},{\"default\":0,\"kind\":null,\"name\":\"clears\"}]},{\"extends\":null,\"module\":null,\"name\":\"TemplateActions1\",\"overrides\":[],\"properties\":[{\"default\":0,\"kind\":null,\"name\":\"open_modal\"},{\"default\":0,\"kind\":null,\"name\":\"close_modal\"}]},{\"extends\":null,\"module\":null,\"name\":\"MaterialTemplateActions1\",\"overrides\":[],\"properties\":[{\"default\":0,\"kind\":null,\"name\":\"open_modal\"},{\"default\":0,\"kind\":null,\"name\":\"close_modal\"}]}],\"roots\":{\"references\":[{\"attributes\":{\"source\":{\"id\":\"68029\"}},\"id\":\"68036\",\"type\":\"CDSView\"},{\"attributes\":{\"line_color\":\"#30a2da\",\"line_width\":2,\"x\":{\"field\":\"coin_id\"},\"y\":{\"field\":\"value\"}},\"id\":\"68028\",\"type\":\"Line\"},{\"attributes\":{\"source\":{\"id\":\"68075\"}},\"id\":\"68082\",\"type\":\"CDSView\"},{\"attributes\":{\"line_alpha\":0.1,\"line_color\":\"#17becf\",\"line_width\":2,\"x\":{\"field\":\"coin_id\"},\"y\":{\"field\":\"value\"}},\"id\":\"68133\",\"type\":\"Line\"},{\"attributes\":{},\"id\":\"68102\",\"type\":\"Selection\"},{\"attributes\":{\"data\":{\"Variable\":[\"price_change_percentage_60d\",\"price_change_percentage_60d\",\"price_change_percentage_60d\",\"price_change_percentage_60d\",\"price_change_percentage_60d\",\"price_change_percentage_60d\",\"price_change_percentage_60d\",\"price_change_percentage_60d\",\"price_change_percentage_60d\",\"price_change_percentage_60d\",\"price_change_percentage_60d\",\"price_change_percentage_60d\",\"price_change_percentage_60d\",\"price_change_percentage_60d\",\"price_change_percentage_60d\",\"price_change_percentage_60d\",\"price_change_percentage_60d\",\"price_change_percentage_60d\",\"price_change_percentage_60d\",\"price_change_percentage_60d\",\"price_change_percentage_60d\",\"price_change_percentage_60d\",\"price_change_percentage_60d\",\"price_change_percentage_60d\",\"price_change_percentage_60d\",\"price_change_percentage_60d\",\"price_change_percentage_60d\",\"price_change_percentage_60d\",\"price_change_percentage_60d\",\"price_change_percentage_60d\",\"price_change_percentage_60d\",\"price_change_percentage_60d\",\"price_change_percentage_60d\",\"price_change_percentage_60d\",\"price_change_percentage_60d\",\"price_change_percentage_60d\",\"price_change_percentage_60d\",\"price_change_percentage_60d\",\"price_change_percentage_60d\",\"price_change_percentage_60d\",\"price_change_percentage_60d\"],\"coin_id\":[\"bitcoin\",\"ethereum\",\"tether\",\"ripple\",\"bitcoin-cash\",\"binancecoin\",\"chainlink\",\"cardano\",\"litecoin\",\"bitcoin-cash-sv\",\"crypto-com-chain\",\"usd-coin\",\"eos\",\"monero\",\"tron\",\"tezos\",\"okb\",\"stellar\",\"cosmos\",\"cdai\",\"neo\",\"wrapped-bitcoin\",\"leo-token\",\"huobi-token\",\"nem\",\"binance-usd\",\"iota\",\"vechain\",\"zcash\",\"theta-token\",\"dash\",\"ethereum-classic\",\"ethlend\",\"maker\",\"havven\",\"omisego\",\"celsius-degree-token\",\"ontology\",\"ftx-token\",\"true-usd\",\"digibyte\"],\"value\":{\"__ndarray__\":\"FvvL7skDCsAs1JrmHccpwKjjMQOV8dE/2qz6XG2NMcBzol2FlG8rwIleRrHcKkJAN8MN+PzYRcBi26LMBtk2wCEf9GxWPTHAq5UJv9TfOMBg5dAi23kwwDygbMoV3qU/l631RUIrPsDNzMzMzNxEQJm7lpAPGhZAms5OBkdpRsBKe4MvTKYGwEsfuqC+zT7APL1SliHOHMC4AZ8fRgjlP9L7xteeCStAFqQZi6azDMCvJeSDni0ewDeOWItPQQvAXvQVpBm3VEDaOGItPgW4PwpLPKBsQkHAaw4QzNHPRcAJM23/yoo0wBmQvd79AVRAfa62Yn85OsBVGFsIcug5wLCsNCkFHQFA529CIQKeMsA0uoPYmbZDwPKwUGua0VNA/pqsUQ/ia0Ao8iTpmllAwFuxv+yenBdAmrFoOjsZ0D8s1JrmHRc/wA==\",\"dtype\":\"float64\",\"order\":\"little\",\"shape\":[41]}},\"selected\":{\"id\":\"68102\"},\"selection_policy\":{\"id\":\"68124\"}},\"id\":\"68101\",\"type\":\"ColumnDataSource\"},{\"attributes\":{\"label\":{\"value\":\"price_change_percentage_1y\"},\"renderers\":[{\"id\":\"68165\"}]},\"id\":\"68189\",\"type\":\"LegendItem\"},{\"attributes\":{\"data\":{\"Variable\":[\"price_change_percentage_7d\",\"price_change_percentage_7d\",\"price_change_percentage_7d\",\"price_change_percentage_7d\",\"price_change_percentage_7d\",\"price_change_percentage_7d\",\"price_change_percentage_7d\",\"price_change_percentage_7d\",\"price_change_percentage_7d\",\"price_change_percentage_7d\",\"price_change_percentage_7d\",\"price_change_percentage_7d\",\"price_change_percentage_7d\",\"price_change_percentage_7d\",\"price_change_percentage_7d\",\"price_change_percentage_7d\",\"price_change_percentage_7d\",\"price_change_percentage_7d\",\"price_change_percentage_7d\",\"price_change_percentage_7d\",\"price_change_percentage_7d\",\"price_change_percentage_7d\",\"price_change_percentage_7d\",\"price_change_percentage_7d\",\"price_change_percentage_7d\",\"price_change_percentage_7d\",\"price_change_percentage_7d\",\"price_change_percentage_7d\",\"price_change_percentage_7d\",\"price_change_percentage_7d\",\"price_change_percentage_7d\",\"price_change_percentage_7d\",\"price_change_percentage_7d\",\"price_change_percentage_7d\",\"price_change_percentage_7d\",\"price_change_percentage_7d\",\"price_change_percentage_7d\",\"price_change_percentage_7d\",\"price_change_percentage_7d\",\"price_change_percentage_7d\",\"price_change_percentage_7d\"],\"coin_id\":[\"bitcoin\",\"ethereum\",\"tether\",\"ripple\",\"bitcoin-cash\",\"binancecoin\",\"chainlink\",\"cardano\",\"litecoin\",\"bitcoin-cash-sv\",\"crypto-com-chain\",\"usd-coin\",\"eos\",\"monero\",\"tron\",\"tezos\",\"okb\",\"stellar\",\"cosmos\",\"cdai\",\"neo\",\"wrapped-bitcoin\",\"leo-token\",\"huobi-token\",\"nem\",\"binance-usd\",\"iota\",\"vechain\",\"zcash\",\"theta-token\",\"dash\",\"ethereum-classic\",\"ethlend\",\"maker\",\"havven\",\"omisego\",\"celsius-degree-token\",\"ontology\",\"ftx-token\",\"true-usd\",\"digibyte\"],\"value\":{\"__ndarray__\":\"RbsKKT9pHkAzUBn/PsMkQL99HThnRKk/yVnY0w5/47/+JhQi4BgxQBL3WPrQtSlA7yB2ptCxNEA/jBAebfwrQPFL/bypaBpArKjBNAxfCkByv0NRoK8WwPlJtU/HY76/lPsdigL99L+n6Egu/5EvQE1KQbeX9BBA0m9fB87pIUBlU67wLjcSwKbtX1lpkgBAZwqd19gVMEBcIEHxY8ytP3wnZr0YigNAOh4zUBmfHUD3Hi457pT1vzNQGf8+4/k/kQ96Nqs+6781Y9F0djKoP2dEaW/wRRhAgXhdv2A3/L/8GHPXErIkQP8JLlbUYBjAVU0QdR9gFEDRlnMprmoIQGCrBIvD2RBAAiuHFtlOIECbG9MTllgRQKhXyjLEURtAqn06HjNQ4z+UvDrHgGzzvwltOZfiahxAsD2zJEBNxT8yj/zBwHPlPw==\",\"dtype\":\"float64\",\"order\":\"little\",\"shape\":[41]}},\"selected\":{\"id\":\"68030\"},\"selection_policy\":{\"id\":\"68046\"}},\"id\":\"68029\",\"type\":\"ColumnDataSource\"},{\"attributes\":{},\"id\":\"68160\",\"type\":\"Selection\"},{\"attributes\":{\"click_policy\":\"mute\",\"coordinates\":null,\"group\":null,\"items\":[{\"id\":\"68027\"},{\"id\":\"68049\"},{\"id\":\"68073\"},{\"id\":\"68099\"},{\"id\":\"68127\"},{\"id\":\"68157\"},{\"id\":\"68189\"}],\"location\":[0,0],\"title\":\"Variable\"},\"id\":\"68026\",\"type\":\"Legend\"},{\"attributes\":{\"data\":{\"Variable\":[\"price_change_percentage_14d\",\"price_change_percentage_14d\",\"price_change_percentage_14d\",\"price_change_percentage_14d\",\"price_change_percentage_14d\",\"price_change_percentage_14d\",\"price_change_percentage_14d\",\"price_change_percentage_14d\",\"price_change_percentage_14d\",\"price_change_percentage_14d\",\"price_change_percentage_14d\",\"price_change_percentage_14d\",\"price_change_percentage_14d\",\"price_change_percentage_14d\",\"price_change_percentage_14d\",\"price_change_percentage_14d\",\"price_change_percentage_14d\",\"price_change_percentage_14d\",\"price_change_percentage_14d\",\"price_change_percentage_14d\",\"price_change_percentage_14d\",\"price_change_percentage_14d\",\"price_change_percentage_14d\",\"price_change_percentage_14d\",\"price_change_percentage_14d\",\"price_change_percentage_14d\",\"price_change_percentage_14d\",\"price_change_percentage_14d\",\"price_change_percentage_14d\",\"price_change_percentage_14d\",\"price_change_percentage_14d\",\"price_change_percentage_14d\",\"price_change_percentage_14d\",\"price_change_percentage_14d\",\"price_change_percentage_14d\",\"price_change_percentage_14d\",\"price_change_percentage_14d\",\"price_change_percentage_14d\",\"price_change_percentage_14d\",\"price_change_percentage_14d\",\"price_change_percentage_14d\"],\"coin_id\":[\"bitcoin\",\"ethereum\",\"tether\",\"ripple\",\"bitcoin-cash\",\"binancecoin\",\"chainlink\",\"cardano\",\"litecoin\",\"bitcoin-cash-sv\",\"crypto-com-chain\",\"usd-coin\",\"eos\",\"monero\",\"tron\",\"tezos\",\"okb\",\"stellar\",\"cosmos\",\"cdai\",\"neo\",\"wrapped-bitcoin\",\"leo-token\",\"huobi-token\",\"nem\",\"binance-usd\",\"iota\",\"vechain\",\"zcash\",\"theta-token\",\"dash\",\"ethereum-classic\",\"ethlend\",\"maker\",\"havven\",\"omisego\",\"celsius-degree-token\",\"ontology\",\"ftx-token\",\"true-usd\",\"digibyte\"],\"value\":{\"__ndarray__\":\"zQaZZORMGkB5knTN5DsTQC1DHOviNno/ctwpHaz/AUCLic3HtYEtQJgvL8A+OhtACoDxDBqaIkAOhGQBEzgWQICfceFAKB1AIVnABG7d/b8xsfm4NhQhwGtI3GPpQ3e/pfeNrz0z8j8ao3VUNWkyQBUA4xk0dPY/VIzzN6GQAkCXrfVFQhsUwKpla32RUPG/Qgkzbf8KFkDPg7uzdtvFP8MN+PwwsiPAYFlpUgo6GkB3+GuyRh0cwM2v5gDBHN0/jliLTwEwBUDWrZ6T3jeuP7pOIy2VNw7Am1Wfq60oMsAJM23/yioXQJfK2xFOSxrAQE0tW+uL4D9OucK7XET0v0SLbOf7mSPA/pqsUQ/R978vaYzWUZUqwDtT6LzGbirAvodLjjs9OEByUMJM2x8lwJ30vvG1Z8q/ZCMQr+sXvD+7D0BqE0cdwA==\",\"dtype\":\"float64\",\"order\":\"little\",\"shape\":[41]}},\"selected\":{\"id\":\"68052\"},\"selection_policy\":{\"id\":\"68070\"}},\"id\":\"68051\",\"type\":\"ColumnDataSource\"},{\"attributes\":{},\"id\":\"68096\",\"type\":\"UnionRenderers\"},{\"attributes\":{\"coordinates\":null,\"data_source\":{\"id\":\"68075\"},\"glyph\":{\"id\":\"68078\"},\"group\":null,\"hover_glyph\":null,\"muted_glyph\":{\"id\":\"68080\"},\"nonselection_glyph\":{\"id\":\"68079\"},\"selection_glyph\":{\"id\":\"68100\"},\"view\":{\"id\":\"68082\"}},\"id\":\"68081\",\"type\":\"GlyphRenderer\"},{\"attributes\":{\"line_alpha\":0.2,\"line_color\":\"#9467bd\",\"line_width\":2,\"x\":{\"field\":\"coin_id\"},\"y\":{\"field\":\"value\"}},\"id\":\"68164\",\"type\":\"Line\"},{\"attributes\":{\"below\":[{\"id\":\"67982\"}],\"center\":[{\"id\":\"67984\"},{\"id\":\"67988\"}],\"height\":400,\"left\":[{\"id\":\"67985\"}],\"margin\":[5,5,5,5],\"min_border_bottom\":10,\"min_border_left\":10,\"min_border_right\":10,\"min_border_top\":10,\"renderers\":[{\"id\":\"68014\"},{\"id\":\"68035\"},{\"id\":\"68057\"},{\"id\":\"68081\"},{\"id\":\"68107\"},{\"id\":\"68135\"},{\"id\":\"68165\"}],\"right\":[{\"id\":\"68026\"}],\"sizing_mode\":\"fixed\",\"title\":{\"id\":\"67974\"},\"toolbar\":{\"id\":\"67995\"},\"width\":800,\"x_range\":{\"id\":\"67964\"},\"x_scale\":{\"id\":\"67978\"},\"y_range\":{\"id\":\"67965\"},\"y_scale\":{\"id\":\"67980\"}},\"id\":\"67973\",\"subtype\":\"Figure\",\"type\":\"Plot\"},{\"attributes\":{\"source\":{\"id\":\"68008\"}},\"id\":\"68015\",\"type\":\"CDSView\"},{\"attributes\":{\"line_color\":\"#6d904f\",\"line_width\":2,\"x\":{\"field\":\"coin_id\"},\"y\":{\"field\":\"value\"}},\"id\":\"68100\",\"type\":\"Line\"},{\"attributes\":{\"line_alpha\":0.1,\"line_color\":\"#9467bd\",\"line_width\":2,\"x\":{\"field\":\"coin_id\"},\"y\":{\"field\":\"value\"}},\"id\":\"68163\",\"type\":\"Line\"},{\"attributes\":{\"label\":{\"value\":\"price_change_percentage_24h\"},\"renderers\":[{\"id\":\"68014\"}]},\"id\":\"68027\",\"type\":\"LegendItem\"},{\"attributes\":{\"line_color\":\"#8b8b8b\",\"line_width\":2,\"x\":{\"field\":\"coin_id\"},\"y\":{\"field\":\"value\"}},\"id\":\"68104\",\"type\":\"Line\"},{\"attributes\":{\"line_color\":\"#17becf\",\"line_width\":2,\"x\":{\"field\":\"coin_id\"},\"y\":{\"field\":\"value\"}},\"id\":\"68158\",\"type\":\"Line\"},{\"attributes\":{},\"id\":\"68154\",\"type\":\"UnionRenderers\"},{\"attributes\":{\"coordinates\":null,\"data_source\":{\"id\":\"68029\"},\"glyph\":{\"id\":\"68032\"},\"group\":null,\"hover_glyph\":null,\"muted_glyph\":{\"id\":\"68034\"},\"nonselection_glyph\":{\"id\":\"68033\"},\"selection_glyph\":{\"id\":\"68050\"},\"view\":{\"id\":\"68036\"}},\"id\":\"68035\",\"type\":\"GlyphRenderer\"},{\"attributes\":{\"data\":{\"Variable\":[\"price_change_percentage_24h\",\"price_change_percentage_24h\",\"price_change_percentage_24h\",\"price_change_percentage_24h\",\"price_change_percentage_24h\",\"price_change_percentage_24h\",\"price_change_percentage_24h\",\"price_change_percentage_24h\",\"price_change_percentage_24h\",\"price_change_percentage_24h\",\"price_change_percentage_24h\",\"price_change_percentage_24h\",\"price_change_percentage_24h\",\"price_change_percentage_24h\",\"price_change_percentage_24h\",\"price_change_percentage_24h\",\"price_change_percentage_24h\",\"price_change_percentage_24h\",\"price_change_percentage_24h\",\"price_change_percentage_24h\",\"price_change_percentage_24h\",\"price_change_percentage_24h\",\"price_change_percentage_24h\",\"price_change_percentage_24h\",\"price_change_percentage_24h\",\"price_change_percentage_24h\",\"price_change_percentage_24h\",\"price_change_percentage_24h\",\"price_change_percentage_24h\",\"price_change_percentage_24h\",\"price_change_percentage_24h\",\"price_change_percentage_24h\",\"price_change_percentage_24h\",\"price_change_percentage_24h\",\"price_change_percentage_24h\",\"price_change_percentage_24h\",\"price_change_percentage_24h\",\"price_change_percentage_24h\",\"price_change_percentage_24h\",\"price_change_percentage_24h\",\"price_change_percentage_24h\"],\"coin_id\":[\"bitcoin\",\"ethereum\",\"tether\",\"ripple\",\"bitcoin-cash\",\"binancecoin\",\"chainlink\",\"cardano\",\"litecoin\",\"bitcoin-cash-sv\",\"crypto-com-chain\",\"usd-coin\",\"eos\",\"monero\",\"tron\",\"tezos\",\"okb\",\"stellar\",\"cosmos\",\"cdai\",\"neo\",\"wrapped-bitcoin\",\"leo-token\",\"huobi-token\",\"nem\",\"binance-usd\",\"iota\",\"vechain\",\"zcash\",\"theta-token\",\"dash\",\"ethereum-classic\",\"ethlend\",\"maker\",\"havven\",\"omisego\",\"celsius-degree-token\",\"ontology\",\"ftx-token\",\"true-usd\",\"digibyte\"],\"value\":{\"__ndarray__\":\"nZ0MjpJX8T8MzXUaaanMP5mByvj3Gcu/wCZr1EM02L8ep+hILj8HQL0Yyol21QBAwhcmUwWjzr//CS5W1GBqP7JGPUSjO7C/QKTfvg6c7T8urYbEPZbjPzeJQWDl0Ma/1pC4x9KHwj87NgLxun7bP90HILWJk7M/JjYf14aK5b83iUFg5dAFwG3i5H6HIvC/5nlwd9Zu7r9i83FtqBjLP+iHEcKjjd8/M9yAzw+j8T/fGtgqweLAv+RmuAGfH9q/UdobfGEy678D7KNTVz67v8YzaOif4No/teBFX0Ga9D8G2Eenrnzjvx+duvJZPhLAoMN8eQH28L+cxCCwcmjdv667eapDDivAX5hMFYxK479EUaBP5EkQwAZkr3d/XBNA0JuKVBgbBEDqBDQRNrz1vxo09E9wseo/tI6qJoi6r79qMA3DR8QHQA==\",\"dtype\":\"float64\",\"order\":\"little\",\"shape\":[41]}},\"selected\":{\"id\":\"68009\"},\"selection_policy\":{\"id\":\"68023\"}},\"id\":\"68008\",\"type\":\"ColumnDataSource\"},{\"attributes\":{\"line_alpha\":0.2,\"line_color\":\"#fc4f30\",\"line_width\":2,\"x\":{\"field\":\"coin_id\"},\"y\":{\"field\":\"value\"}},\"id\":\"68034\",\"type\":\"Line\"},{\"attributes\":{\"line_alpha\":0.2,\"line_color\":\"#8b8b8b\",\"line_width\":2,\"x\":{\"field\":\"coin_id\"},\"y\":{\"field\":\"value\"}},\"id\":\"68106\",\"type\":\"Line\"},{\"attributes\":{\"source\":{\"id\":\"68159\"}},\"id\":\"68166\",\"type\":\"CDSView\"},{\"attributes\":{},\"id\":\"68023\",\"type\":\"UnionRenderers\"},{\"attributes\":{\"line_alpha\":0.1,\"line_color\":\"#8b8b8b\",\"line_width\":2,\"x\":{\"field\":\"coin_id\"},\"y\":{\"field\":\"value\"}},\"id\":\"68105\",\"type\":\"Line\"},{\"attributes\":{},\"id\":\"68124\",\"type\":\"UnionRenderers\"},{\"attributes\":{\"coordinates\":null,\"data_source\":{\"id\":\"68159\"},\"glyph\":{\"id\":\"68162\"},\"group\":null,\"hover_glyph\":null,\"muted_glyph\":{\"id\":\"68164\"},\"nonselection_glyph\":{\"id\":\"68163\"},\"selection_glyph\":{\"id\":\"68190\"},\"view\":{\"id\":\"68166\"}},\"id\":\"68165\",\"type\":\"GlyphRenderer\"},{\"attributes\":{\"axis\":{\"id\":\"67985\"},\"coordinates\":null,\"dimension\":1,\"grid_line_color\":null,\"group\":null,\"ticker\":null},\"id\":\"67988\",\"type\":\"Grid\"},{\"attributes\":{\"callback\":null,\"renderers\":[{\"id\":\"68014\"},{\"id\":\"68035\"},{\"id\":\"68057\"},{\"id\":\"68081\"},{\"id\":\"68107\"},{\"id\":\"68135\"},{\"id\":\"68165\"}],\"tags\":[\"hv_created\"],\"tooltips\":[[\"Variable\",\"@{Variable}\"],[\"coin_id\",\"@{coin_id}\"],[\"value\",\"@{value}\"]]},\"id\":\"67966\",\"type\":\"HoverTool\"},{\"attributes\":{\"coordinates\":null,\"group\":null,\"text_color\":\"black\",\"text_font_size\":\"12pt\"},\"id\":\"67974\",\"type\":\"Title\"},{\"attributes\":{},\"id\":\"67980\",\"type\":\"LinearScale\"},{\"attributes\":{\"line_alpha\":0.2,\"line_color\":\"#30a2da\",\"line_width\":2,\"x\":{\"field\":\"coin_id\"},\"y\":{\"field\":\"value\"}},\"id\":\"68013\",\"type\":\"Line\"},{\"attributes\":{\"line_alpha\":0.1,\"line_color\":\"#fc4f30\",\"line_width\":2,\"x\":{\"field\":\"coin_id\"},\"y\":{\"field\":\"value\"}},\"id\":\"68033\",\"type\":\"Line\"},{\"attributes\":{\"source\":{\"id\":\"68101\"}},\"id\":\"68108\",\"type\":\"CDSView\"},{\"attributes\":{\"line_color\":\"#fc4f30\",\"line_width\":2,\"x\":{\"field\":\"coin_id\"},\"y\":{\"field\":\"value\"}},\"id\":\"68050\",\"type\":\"Line\"},{\"attributes\":{},\"id\":\"68186\",\"type\":\"UnionRenderers\"},{\"attributes\":{\"line_color\":\"#9467bd\",\"line_width\":2,\"x\":{\"field\":\"coin_id\"},\"y\":{\"field\":\"value\"}},\"id\":\"68190\",\"type\":\"Line\"},{\"attributes\":{},\"id\":\"67983\",\"type\":\"CategoricalTicker\"},{\"attributes\":{\"label\":{\"value\":\"price_change_percentage_7d\"},\"renderers\":[{\"id\":\"68035\"}]},\"id\":\"68049\",\"type\":\"LegendItem\"},{\"attributes\":{\"label\":{\"value\":\"price_change_percentage_200d\"},\"renderers\":[{\"id\":\"68135\"}]},\"id\":\"68157\",\"type\":\"LegendItem\"},{\"attributes\":{},\"id\":\"68004\",\"type\":\"AllLabels\"},{\"attributes\":{\"factors\":[\"bitcoin\",\"ethereum\",\"tether\",\"ripple\",\"bitcoin-cash\",\"binancecoin\",\"chainlink\",\"cardano\",\"litecoin\",\"bitcoin-cash-sv\",\"crypto-com-chain\",\"usd-coin\",\"eos\",\"monero\",\"tron\",\"tezos\",\"okb\",\"stellar\",\"cosmos\",\"cdai\",\"neo\",\"wrapped-bitcoin\",\"leo-token\",\"huobi-token\",\"nem\",\"binance-usd\",\"iota\",\"vechain\",\"zcash\",\"theta-token\",\"dash\",\"ethereum-classic\",\"ethlend\",\"maker\",\"havven\",\"omisego\",\"celsius-degree-token\",\"ontology\",\"ftx-token\",\"true-usd\",\"digibyte\"],\"tags\":[[[\"coin_id\",\"coin_id\",null]]]},\"id\":\"67964\",\"type\":\"FactorRange\"},{\"attributes\":{\"axis_label\":\"coin_id\",\"coordinates\":null,\"formatter\":{\"id\":\"68003\"},\"group\":null,\"major_label_orientation\":1.5707963267948966,\"major_label_policy\":{\"id\":\"68004\"},\"ticker\":{\"id\":\"67983\"}},\"id\":\"67982\",\"type\":\"CategoricalAxis\"},{\"attributes\":{},\"id\":\"68052\",\"type\":\"Selection\"},{\"attributes\":{\"line_color\":\"#17becf\",\"line_width\":2,\"x\":{\"field\":\"coin_id\"},\"y\":{\"field\":\"value\"}},\"id\":\"68132\",\"type\":\"Line\"},{\"attributes\":{\"line_alpha\":0.2,\"line_color\":\"#17becf\",\"line_width\":2,\"x\":{\"field\":\"coin_id\"},\"y\":{\"field\":\"value\"}},\"id\":\"68134\",\"type\":\"Line\"},{\"attributes\":{\"coordinates\":null,\"data_source\":{\"id\":\"68129\"},\"glyph\":{\"id\":\"68132\"},\"group\":null,\"hover_glyph\":null,\"muted_glyph\":{\"id\":\"68134\"},\"nonselection_glyph\":{\"id\":\"68133\"},\"selection_glyph\":{\"id\":\"68158\"},\"view\":{\"id\":\"68136\"}},\"id\":\"68135\",\"type\":\"GlyphRenderer\"},{\"attributes\":{},\"id\":\"68046\",\"type\":\"UnionRenderers\"},{\"attributes\":{},\"id\":\"67978\",\"type\":\"CategoricalScale\"},{\"attributes\":{},\"id\":\"68070\",\"type\":\"UnionRenderers\"},{\"attributes\":{\"axis\":{\"id\":\"67982\"},\"coordinates\":null,\"grid_line_color\":null,\"group\":null,\"ticker\":null},\"id\":\"67984\",\"type\":\"Grid\"},{\"attributes\":{},\"id\":\"67986\",\"type\":\"BasicTicker\"},{\"attributes\":{\"axis_label\":\"\",\"coordinates\":null,\"formatter\":{\"id\":\"68006\"},\"group\":null,\"major_label_policy\":{\"id\":\"68007\"},\"ticker\":{\"id\":\"67986\"}},\"id\":\"67985\",\"type\":\"LinearAxis\"},{\"attributes\":{\"line_color\":\"#9467bd\",\"line_width\":2,\"x\":{\"field\":\"coin_id\"},\"y\":{\"field\":\"value\"}},\"id\":\"68162\",\"type\":\"Line\"},{\"attributes\":{\"data\":{\"Variable\":[\"price_change_percentage_200d\",\"price_change_percentage_200d\",\"price_change_percentage_200d\",\"price_change_percentage_200d\",\"price_change_percentage_200d\",\"price_change_percentage_200d\",\"price_change_percentage_200d\",\"price_change_percentage_200d\",\"price_change_percentage_200d\",\"price_change_percentage_200d\",\"price_change_percentage_200d\",\"price_change_percentage_200d\",\"price_change_percentage_200d\",\"price_change_percentage_200d\",\"price_change_percentage_200d\",\"price_change_percentage_200d\",\"price_change_percentage_200d\",\"price_change_percentage_200d\",\"price_change_percentage_200d\",\"price_change_percentage_200d\",\"price_change_percentage_200d\",\"price_change_percentage_200d\",\"price_change_percentage_200d\",\"price_change_percentage_200d\",\"price_change_percentage_200d\",\"price_change_percentage_200d\",\"price_change_percentage_200d\",\"price_change_percentage_200d\",\"price_change_percentage_200d\",\"price_change_percentage_200d\",\"price_change_percentage_200d\",\"price_change_percentage_200d\",\"price_change_percentage_200d\",\"price_change_percentage_200d\",\"price_change_percentage_200d\",\"price_change_percentage_200d\",\"price_change_percentage_200d\",\"price_change_percentage_200d\",\"price_change_percentage_200d\",\"price_change_percentage_200d\",\"price_change_percentage_200d\"],\"coin_id\":[\"bitcoin\",\"ethereum\",\"tether\",\"ripple\",\"bitcoin-cash\",\"binancecoin\",\"chainlink\",\"cardano\",\"litecoin\",\"bitcoin-cash-sv\",\"crypto-com-chain\",\"usd-coin\",\"eos\",\"monero\",\"tron\",\"tezos\",\"okb\",\"stellar\",\"cosmos\",\"cdai\",\"neo\",\"wrapped-bitcoin\",\"leo-token\",\"huobi-token\",\"nem\",\"binance-usd\",\"iota\",\"vechain\",\"zcash\",\"theta-token\",\"dash\",\"ethereum-classic\",\"ethlend\",\"maker\",\"havven\",\"omisego\",\"celsius-degree-token\",\"ontology\",\"ftx-token\",\"true-usd\",\"digibyte\"],\"value\":{\"__ndarray__\":\"xY8xdy3hVED0piIVxlhnQBe86CtIM3a/9zsUBfrEQ0DTn/1IEak1QPTDCOHRc2NAl3MprqozeUAexM4UOohwQIB9dOrKfztAFhiyutWzHUCN7iB2plZsQIQqNXugFcS/ZHWr56QPMkALe9rhrzBlQH+8V61MnGBA5nlwd9a2RUARHm0csfpDQC+Lic3HJ1VAkj8YeO4/Z0AOvjCZKhjZv2vUQzS61GNAtRX7y+75VEC5GW7A52cwQAPso1NXHkVAKa4q+64Fa0A7NgLxun65P+TaUDHOwVdAyM1wAz7bcEAFwHgGDaNeQH3Qs1k1lYtAOUVHcvnvGEANGvonuMgkQCYZOQvbZ6FAGD4ipkSiVED5MeauZXeDQHi0ccQaSoJAC170FcTYmEB1PGagMmJLQC2yne+nvkxAndfYJaq3tr9R9wFIbSl+QA==\",\"dtype\":\"float64\",\"order\":\"little\",\"shape\":[41]}},\"selected\":{\"id\":\"68130\"},\"selection_policy\":{\"id\":\"68154\"}},\"id\":\"68129\",\"type\":\"ColumnDataSource\"},{\"attributes\":{\"coordinates\":null,\"data_source\":{\"id\":\"68051\"},\"glyph\":{\"id\":\"68054\"},\"group\":null,\"hover_glyph\":null,\"muted_glyph\":{\"id\":\"68056\"},\"nonselection_glyph\":{\"id\":\"68055\"},\"selection_glyph\":{\"id\":\"68074\"},\"view\":{\"id\":\"68058\"}},\"id\":\"68057\",\"type\":\"GlyphRenderer\"},{\"attributes\":{\"source\":{\"id\":\"68129\"}},\"id\":\"68136\",\"type\":\"CDSView\"},{\"attributes\":{\"data\":{\"Variable\":[\"price_change_percentage_1y\",\"price_change_percentage_1y\",\"price_change_percentage_1y\",\"price_change_percentage_1y\",\"price_change_percentage_1y\",\"price_change_percentage_1y\",\"price_change_percentage_1y\",\"price_change_percentage_1y\",\"price_change_percentage_1y\",\"price_change_percentage_1y\",\"price_change_percentage_1y\",\"price_change_percentage_1y\",\"price_change_percentage_1y\",\"price_change_percentage_1y\",\"price_change_percentage_1y\",\"price_change_percentage_1y\",\"price_change_percentage_1y\",\"price_change_percentage_1y\",\"price_change_percentage_1y\",\"price_change_percentage_1y\",\"price_change_percentage_1y\",\"price_change_percentage_1y\",\"price_change_percentage_1y\",\"price_change_percentage_1y\",\"price_change_percentage_1y\",\"price_change_percentage_1y\",\"price_change_percentage_1y\",\"price_change_percentage_1y\",\"price_change_percentage_1y\",\"price_change_percentage_1y\",\"price_change_percentage_1y\",\"price_change_percentage_1y\",\"price_change_percentage_1y\",\"price_change_percentage_1y\",\"price_change_percentage_1y\",\"price_change_percentage_1y\",\"price_change_percentage_1y\",\"price_change_percentage_1y\",\"price_change_percentage_1y\",\"price_change_percentage_1y\",\"price_change_percentage_1y\"],\"coin_id\":[\"bitcoin\",\"ethereum\",\"tether\",\"ripple\",\"bitcoin-cash\",\"binancecoin\",\"chainlink\",\"cardano\",\"litecoin\",\"bitcoin-cash-sv\",\"crypto-com-chain\",\"usd-coin\",\"eos\",\"monero\",\"tron\",\"tezos\",\"okb\",\"stellar\",\"cosmos\",\"cdai\",\"neo\",\"wrapped-bitcoin\",\"leo-token\",\"huobi-token\",\"nem\",\"binance-usd\",\"iota\",\"vechain\",\"zcash\",\"theta-token\",\"dash\",\"ethereum-classic\",\"ethlend\",\"maker\",\"havven\",\"omisego\",\"celsius-degree-token\",\"ontology\",\"ftx-token\",\"true-usd\",\"digibyte\"],\"value\":{\"__ndarray__\":\"kQpjC0HCQkDWqIdodH1ZQN/42jNLApQ/NXugFRiaMMDN6bKY2PwsQOcdp+hIbFFAaTo7GRxSdEC6LCY2H4NjQPnaM0sCVCnA0NA/wcVuV0CQvd798RBzQL4wmSoYlci/t39lpUmRMcDovMYuUaFhQEPKT6p9nk1A6PaSxmiAYUBdUN8yp75hQMzuycNCnStAw7ZFmQ2cVEAHsTOFzmvSvx/0bFZ9aWBAhhvw+WHEQkAN/RNcrAA1QN8Vwf9WkjhAS7A4nPkWaUAVUn5S7dPBPzUk7rH04Q/AIsMq3shbaUBf0hito7hUQPyMCwcC64VAzsKedvirA8Dwoq8gzTgmQHRGlPYWrL5Ayk+qfTpOJUDfiVkvRjaFQEfJq3MMC3RAnFCIgONmn0CsVib8Uk8pwNttF5rrC2VAyXGndLD+2T/ZfFwbKgxnQA==\",\"dtype\":\"float64\",\"order\":\"little\",\"shape\":[41]}},\"selected\":{\"id\":\"68160\"},\"selection_policy\":{\"id\":\"68186\"}},\"id\":\"68159\",\"type\":\"ColumnDataSource\"},{\"attributes\":{},\"id\":\"68006\",\"type\":\"BasicTickFormatter\"},{\"attributes\":{},\"id\":\"68009\",\"type\":\"Selection\"},{\"attributes\":{},\"id\":\"68003\",\"type\":\"CategoricalTickFormatter\"},{\"attributes\":{\"margin\":[5,5,5,5],\"name\":\"HSpacer136934\",\"sizing_mode\":\"stretch_width\"},\"id\":\"67963\",\"type\":\"Spacer\"},{\"attributes\":{\"line_color\":\"#30a2da\",\"line_width\":2,\"x\":{\"field\":\"coin_id\"},\"y\":{\"field\":\"value\"}},\"id\":\"68011\",\"type\":\"Line\"},{\"attributes\":{\"label\":{\"value\":\"price_change_percentage_60d\"},\"renderers\":[{\"id\":\"68107\"}]},\"id\":\"68127\",\"type\":\"LegendItem\"},{\"attributes\":{\"coordinates\":null,\"data_source\":{\"id\":\"68008\"},\"glyph\":{\"id\":\"68011\"},\"group\":null,\"hover_glyph\":null,\"muted_glyph\":{\"id\":\"68013\"},\"nonselection_glyph\":{\"id\":\"68012\"},\"selection_glyph\":{\"id\":\"68028\"},\"view\":{\"id\":\"68015\"}},\"id\":\"68014\",\"type\":\"GlyphRenderer\"},{\"attributes\":{\"data\":{\"Variable\":[\"price_change_percentage_30d\",\"price_change_percentage_30d\",\"price_change_percentage_30d\",\"price_change_percentage_30d\",\"price_change_percentage_30d\",\"price_change_percentage_30d\",\"price_change_percentage_30d\",\"price_change_percentage_30d\",\"price_change_percentage_30d\",\"price_change_percentage_30d\",\"price_change_percentage_30d\",\"price_change_percentage_30d\",\"price_change_percentage_30d\",\"price_change_percentage_30d\",\"price_change_percentage_30d\",\"price_change_percentage_30d\",\"price_change_percentage_30d\",\"price_change_percentage_30d\",\"price_change_percentage_30d\",\"price_change_percentage_30d\",\"price_change_percentage_30d\",\"price_change_percentage_30d\",\"price_change_percentage_30d\",\"price_change_percentage_30d\",\"price_change_percentage_30d\",\"price_change_percentage_30d\",\"price_change_percentage_30d\",\"price_change_percentage_30d\",\"price_change_percentage_30d\",\"price_change_percentage_30d\",\"price_change_percentage_30d\",\"price_change_percentage_30d\",\"price_change_percentage_30d\",\"price_change_percentage_30d\",\"price_change_percentage_30d\",\"price_change_percentage_30d\",\"price_change_percentage_30d\",\"price_change_percentage_30d\",\"price_change_percentage_30d\",\"price_change_percentage_30d\",\"price_change_percentage_30d\"],\"coin_id\":[\"bitcoin\",\"ethereum\",\"tether\",\"ripple\",\"bitcoin-cash\",\"binancecoin\",\"chainlink\",\"cardano\",\"litecoin\",\"bitcoin-cash-sv\",\"crypto-com-chain\",\"usd-coin\",\"eos\",\"monero\",\"tron\",\"tezos\",\"okb\",\"stellar\",\"cosmos\",\"cdai\",\"neo\",\"wrapped-bitcoin\",\"leo-token\",\"huobi-token\",\"nem\",\"binance-usd\",\"iota\",\"vechain\",\"zcash\",\"theta-token\",\"dash\",\"ethereum-classic\",\"ethlend\",\"maker\",\"havven\",\"omisego\",\"celsius-degree-token\",\"ontology\",\"ftx-token\",\"true-usd\",\"digibyte\"],\"value\":{\"__ndarray__\":\"VMa/z7iwHkAl6ZrJN9vAP/28qUiFsaW/L26jAbwFzj8dcjPcgH8vQPMf0m9fB64/5bhTOlhvJsBnfjUHCDYkQGWNeohGd/M/sCDNWDQdB0Cmft5UpHIxwJgvL8A+OsW/t0WZDTKJEsDeVKTC2HpDQEzD8BExNSnAjWK5pdVALMDjjcwjf+AkwIrIsIo3QiDAjliLTwFQEkAWpBmLpnMBwE3WqIdo9DXAVG8NbJWAHUAnMQisHJoIQGA8g4b+CQrACcTr+gU7DcCPpQ9dUN+SP80Bgjl6nBDA9S1zuixWLMBC7Eyh83odQEku/yH9bj9AtTf4wmQqH8Am/FI/byoHQNjYJaq3/j3A9GxWfa62MECdRloqb9c0wF4R/G8lOyLArK3YX3aZYUC1/SsrTVpBwP/PYb68ICXAFR3J5T+knz+ndLD+z4EqQA==\",\"dtype\":\"float64\",\"order\":\"little\",\"shape\":[41]}},\"selected\":{\"id\":\"68076\"},\"selection_policy\":{\"id\":\"68096\"}},\"id\":\"68075\",\"type\":\"ColumnDataSource\"},{\"attributes\":{\"children\":[{\"id\":\"67963\"},{\"id\":\"67973\"},{\"id\":\"68389\"}],\"margin\":[0,0,0,0],\"name\":\"Row136930\",\"tags\":[\"embedded\"]},\"id\":\"67962\",\"type\":\"Row\"},{\"attributes\":{\"line_alpha\":0.1,\"line_color\":\"#e5ae38\",\"line_width\":2,\"x\":{\"field\":\"coin_id\"},\"y\":{\"field\":\"value\"}},\"id\":\"68055\",\"type\":\"Line\"},{\"attributes\":{},\"id\":\"67989\",\"type\":\"SaveTool\"},{\"attributes\":{\"line_alpha\":0.2,\"line_color\":\"#e5ae38\",\"line_width\":2,\"x\":{\"field\":\"coin_id\"},\"y\":{\"field\":\"value\"}},\"id\":\"68056\",\"type\":\"Line\"},{\"attributes\":{\"end\":8641.780918,\"reset_end\":8641.780918,\"reset_start\":-834.5136980000001,\"start\":-834.5136980000001,\"tags\":[[[\"value\",\"value\",null]]]},\"id\":\"67965\",\"type\":\"Range1d\"},{\"attributes\":{\"source\":{\"id\":\"68051\"}},\"id\":\"68058\",\"type\":\"CDSView\"},{\"attributes\":{},\"id\":\"67990\",\"type\":\"PanTool\"},{\"attributes\":{\"line_alpha\":0.1,\"line_color\":\"#30a2da\",\"line_width\":2,\"x\":{\"field\":\"coin_id\"},\"y\":{\"field\":\"value\"}},\"id\":\"68012\",\"type\":\"Line\"},{\"attributes\":{\"line_color\":\"#e5ae38\",\"line_width\":2,\"x\":{\"field\":\"coin_id\"},\"y\":{\"field\":\"value\"}},\"id\":\"68074\",\"type\":\"Line\"},{\"attributes\":{},\"id\":\"67991\",\"type\":\"WheelZoomTool\"},{\"attributes\":{\"coordinates\":null,\"data_source\":{\"id\":\"68101\"},\"glyph\":{\"id\":\"68104\"},\"group\":null,\"hover_glyph\":null,\"muted_glyph\":{\"id\":\"68106\"},\"nonselection_glyph\":{\"id\":\"68105\"},\"selection_glyph\":{\"id\":\"68128\"},\"view\":{\"id\":\"68108\"}},\"id\":\"68107\",\"type\":\"GlyphRenderer\"},{\"attributes\":{\"tools\":[{\"id\":\"67966\"},{\"id\":\"67989\"},{\"id\":\"67990\"},{\"id\":\"67991\"},{\"id\":\"67992\"},{\"id\":\"67993\"}]},\"id\":\"67995\",\"type\":\"Toolbar\"},{\"attributes\":{\"line_color\":\"#6d904f\",\"line_width\":2,\"x\":{\"field\":\"coin_id\"},\"y\":{\"field\":\"value\"}},\"id\":\"68078\",\"type\":\"Line\"},{\"attributes\":{\"line_color\":\"#8b8b8b\",\"line_width\":2,\"x\":{\"field\":\"coin_id\"},\"y\":{\"field\":\"value\"}},\"id\":\"68128\",\"type\":\"Line\"},{\"attributes\":{\"overlay\":{\"id\":\"67994\"}},\"id\":\"67992\",\"type\":\"BoxZoomTool\"},{\"attributes\":{\"label\":{\"value\":\"price_change_percentage_14d\"},\"renderers\":[{\"id\":\"68057\"}]},\"id\":\"68073\",\"type\":\"LegendItem\"},{\"attributes\":{},\"id\":\"68130\",\"type\":\"Selection\"},{\"attributes\":{\"line_color\":\"#e5ae38\",\"line_width\":2,\"x\":{\"field\":\"coin_id\"},\"y\":{\"field\":\"value\"}},\"id\":\"68054\",\"type\":\"Line\"},{\"attributes\":{},\"id\":\"68007\",\"type\":\"AllLabels\"},{\"attributes\":{\"line_color\":\"#fc4f30\",\"line_width\":2,\"x\":{\"field\":\"coin_id\"},\"y\":{\"field\":\"value\"}},\"id\":\"68032\",\"type\":\"Line\"},{\"attributes\":{\"line_alpha\":0.2,\"line_color\":\"#6d904f\",\"line_width\":2,\"x\":{\"field\":\"coin_id\"},\"y\":{\"field\":\"value\"}},\"id\":\"68080\",\"type\":\"Line\"},{\"attributes\":{},\"id\":\"67993\",\"type\":\"ResetTool\"},{\"attributes\":{},\"id\":\"68076\",\"type\":\"Selection\"},{\"attributes\":{\"line_alpha\":0.1,\"line_color\":\"#6d904f\",\"line_width\":2,\"x\":{\"field\":\"coin_id\"},\"y\":{\"field\":\"value\"}},\"id\":\"68079\",\"type\":\"Line\"},{\"attributes\":{},\"id\":\"68030\",\"type\":\"Selection\"},{\"attributes\":{\"margin\":[5,5,5,5],\"name\":\"HSpacer136935\",\"sizing_mode\":\"stretch_width\"},\"id\":\"68389\",\"type\":\"Spacer\"},{\"attributes\":{\"label\":{\"value\":\"price_change_percentage_30d\"},\"renderers\":[{\"id\":\"68081\"}]},\"id\":\"68099\",\"type\":\"LegendItem\"},{\"attributes\":{\"bottom_units\":\"screen\",\"coordinates\":null,\"fill_alpha\":0.5,\"fill_color\":\"lightgrey\",\"group\":null,\"left_units\":\"screen\",\"level\":\"overlay\",\"line_alpha\":1.0,\"line_color\":\"black\",\"line_dash\":[4,4],\"line_width\":2,\"right_units\":\"screen\",\"syncable\":false,\"top_units\":\"screen\"},\"id\":\"67994\",\"type\":\"BoxAnnotation\"}],\"root_ids\":[\"67962\"]},\"title\":\"Bokeh Application\",\"version\":\"2.4.2\"}};\n",
       "    var render_items = [{\"docid\":\"fb85886d-c584-4ad7-929e-d03676f93bfe\",\"root_ids\":[\"67962\"],\"roots\":{\"67962\":\"ff3e9fd9-3438-4f4b-9303-f660d94c2a3a\"}}];\n",
       "    root.Bokeh.embed.embed_items_notebook(docs_json, render_items);\n",
       "  }\n",
       "  if (root.Bokeh !== undefined && root.Bokeh.Panel !== undefined) {\n",
       "    embed_document(root);\n",
       "  } else {\n",
       "    var attempts = 0;\n",
       "    var timer = setInterval(function(root) {\n",
       "      if (root.Bokeh !== undefined && root.Bokeh.Panel !== undefined) {\n",
       "        clearInterval(timer);\n",
       "        embed_document(root);\n",
       "      } else if (document.readyState == \"complete\") {\n",
       "        attempts++;\n",
       "        if (attempts > 200) {\n",
       "          clearInterval(timer);\n",
       "          console.log(\"Bokeh: ERROR: Unable to run BokehJS code because BokehJS library is missing\");\n",
       "        }\n",
       "      }\n",
       "    }, 25, root)\n",
       "  }\n",
       "})(window);</script>"
      ],
      "text/plain": [
       ":NdOverlay   [Variable]\n",
       "   :Curve   [coin_id]   (value)"
      ]
     },
     "execution_count": 654,
     "metadata": {
      "application/vnd.holoviews_exec.v0+json": {
       "id": "67962"
      }
     },
     "output_type": "execute_result"
    }
   ],
   "source": [
    "# Plot your data to see what's in your DataFrame\n",
    "df_market_data.hvplot.line(\n",
    "    width=800,\n",
    "    height=400,\n",
    "    rot=90\n",
    ")"
   ]
  },
  {
   "cell_type": "markdown",
   "metadata": {},
   "source": [
    "---"
   ]
  },
  {
   "cell_type": "markdown",
   "metadata": {},
   "source": [
    "### Prepare the Data\n",
    "\n",
    "This section prepares the data before running the K-Means algorithm. It follows these steps:\n",
    "\n",
    "1. Use the `StandardScaler` module from scikit-learn to normalize the CSV file data. This will require you to utilize the `fit_transform` function.\n",
    "\n",
    "2. Create a DataFrame that contains the scaled data. Be sure to set the `coin_id` index from the original DataFrame as the index for the new DataFrame. Review the resulting DataFrame.\n"
   ]
  },
  {
   "cell_type": "code",
   "execution_count": 655,
   "metadata": {},
   "outputs": [],
   "source": [
    "# Use the `StandardScaler()` module from scikit-learn to normalize the data from the CSV file\n",
    "scaled_data = StandardScaler().fit_transform(df_market_data)"
   ]
  },
  {
   "cell_type": "code",
   "execution_count": 656,
   "metadata": {},
   "outputs": [
    {
     "data": {
      "text/html": [
       "<div>\n",
       "<style scoped>\n",
       "    .dataframe tbody tr th:only-of-type {\n",
       "        vertical-align: middle;\n",
       "    }\n",
       "\n",
       "    .dataframe tbody tr th {\n",
       "        vertical-align: top;\n",
       "    }\n",
       "\n",
       "    .dataframe thead th {\n",
       "        text-align: right;\n",
       "    }\n",
       "</style>\n",
       "<table border=\"1\" class=\"dataframe\">\n",
       "  <thead>\n",
       "    <tr style=\"text-align: right;\">\n",
       "      <th></th>\n",
       "      <th>price_change_percentage_24h</th>\n",
       "      <th>price_change_percentage_7d</th>\n",
       "      <th>price_change_percentage_14d</th>\n",
       "      <th>price_change_percentage_30d</th>\n",
       "      <th>price_change_percentage_60d</th>\n",
       "      <th>price_change_percentage_200d</th>\n",
       "      <th>price_change_percentage_1y</th>\n",
       "    </tr>\n",
       "    <tr>\n",
       "      <th>coin_id</th>\n",
       "      <th></th>\n",
       "      <th></th>\n",
       "      <th></th>\n",
       "      <th></th>\n",
       "      <th></th>\n",
       "      <th></th>\n",
       "      <th></th>\n",
       "    </tr>\n",
       "  </thead>\n",
       "  <tbody>\n",
       "    <tr>\n",
       "      <th>bitcoin</th>\n",
       "      <td>0.508529</td>\n",
       "      <td>0.493193</td>\n",
       "      <td>0.772200</td>\n",
       "      <td>0.235460</td>\n",
       "      <td>-0.067495</td>\n",
       "      <td>-0.355953</td>\n",
       "      <td>-0.251637</td>\n",
       "    </tr>\n",
       "    <tr>\n",
       "      <th>ethereum</th>\n",
       "      <td>0.185446</td>\n",
       "      <td>0.934445</td>\n",
       "      <td>0.558692</td>\n",
       "      <td>-0.054341</td>\n",
       "      <td>-0.273483</td>\n",
       "      <td>-0.115759</td>\n",
       "      <td>-0.199352</td>\n",
       "    </tr>\n",
       "    <tr>\n",
       "      <th>tether</th>\n",
       "      <td>0.021774</td>\n",
       "      <td>-0.706337</td>\n",
       "      <td>-0.021680</td>\n",
       "      <td>-0.061030</td>\n",
       "      <td>0.008005</td>\n",
       "      <td>-0.550247</td>\n",
       "      <td>-0.282061</td>\n",
       "    </tr>\n",
       "    <tr>\n",
       "      <th>ripple</th>\n",
       "      <td>-0.040764</td>\n",
       "      <td>-0.810928</td>\n",
       "      <td>0.249458</td>\n",
       "      <td>-0.050388</td>\n",
       "      <td>-0.373164</td>\n",
       "      <td>-0.458259</td>\n",
       "      <td>-0.295546</td>\n",
       "    </tr>\n",
       "    <tr>\n",
       "      <th>bitcoin-cash</th>\n",
       "      <td>1.193036</td>\n",
       "      <td>2.000959</td>\n",
       "      <td>1.760610</td>\n",
       "      <td>0.545842</td>\n",
       "      <td>-0.291203</td>\n",
       "      <td>-0.499848</td>\n",
       "      <td>-0.270317</td>\n",
       "    </tr>\n",
       "  </tbody>\n",
       "</table>\n",
       "</div>"
      ],
      "text/plain": [
       "              price_change_percentage_24h  price_change_percentage_7d  \\\n",
       "coin_id                                                                 \n",
       "bitcoin                          0.508529                    0.493193   \n",
       "ethereum                         0.185446                    0.934445   \n",
       "tether                           0.021774                   -0.706337   \n",
       "ripple                          -0.040764                   -0.810928   \n",
       "bitcoin-cash                     1.193036                    2.000959   \n",
       "\n",
       "              price_change_percentage_14d  price_change_percentage_30d  \\\n",
       "coin_id                                                                  \n",
       "bitcoin                          0.772200                     0.235460   \n",
       "ethereum                         0.558692                    -0.054341   \n",
       "tether                          -0.021680                    -0.061030   \n",
       "ripple                           0.249458                    -0.050388   \n",
       "bitcoin-cash                     1.760610                     0.545842   \n",
       "\n",
       "              price_change_percentage_60d  price_change_percentage_200d  \\\n",
       "coin_id                                                                   \n",
       "bitcoin                         -0.067495                     -0.355953   \n",
       "ethereum                        -0.273483                     -0.115759   \n",
       "tether                           0.008005                     -0.550247   \n",
       "ripple                          -0.373164                     -0.458259   \n",
       "bitcoin-cash                    -0.291203                     -0.499848   \n",
       "\n",
       "              price_change_percentage_1y  \n",
       "coin_id                                   \n",
       "bitcoin                        -0.251637  \n",
       "ethereum                       -0.199352  \n",
       "tether                         -0.282061  \n",
       "ripple                         -0.295546  \n",
       "bitcoin-cash                   -0.270317  "
      ]
     },
     "execution_count": 656,
     "metadata": {},
     "output_type": "execute_result"
    }
   ],
   "source": [
    "# Create a DataFrame with the scaled data\n",
    "df_market_data_scaled = pd.DataFrame(\n",
    "    scaled_data,\n",
    "    columns=df_market_data.columns\n",
    ")\n",
    "\n",
    "# Copy the crypto names from the original data\n",
    "df_market_data_scaled[\"coin_id\"] = df_market_data.index\n",
    "\n",
    "# Set the coinid column as index\n",
    "df_market_data_scaled = df_market_data_scaled.set_index(\"coin_id\")\n",
    "\n",
    "# Display sample data\n",
    "df_market_data_scaled.head()"
   ]
  },
  {
   "cell_type": "markdown",
   "metadata": {},
   "source": [
    "---"
   ]
  },
  {
   "cell_type": "markdown",
   "metadata": {},
   "source": [
    "### Find the Best Value for k Using the Original Data\n",
    "\n",
    "In this section, you will use the elbow method to find the best value for `k`.\n",
    "\n",
    "1. Code the elbow method algorithm to find the best value for `k`. Use a range from 1 to 11. \n",
    "\n",
    "2. Plot a line chart with all the inertia values computed with the different values of `k` to visually identify the optimal value for `k`.\n",
    "\n",
    "3. Answer the following question: What is the best value for `k`?"
   ]
  },
  {
   "cell_type": "code",
   "execution_count": 657,
   "metadata": {},
   "outputs": [],
   "source": [
    "# Create a list with the number of k-values to try\n",
    "# Use a range from 1 to 11\n",
    "k = list(range(1,11))"
   ]
  },
  {
   "cell_type": "code",
   "execution_count": 658,
   "metadata": {},
   "outputs": [],
   "source": [
    "# Create an empy list to store the inertia values\n",
    "inertia = []"
   ]
  },
  {
   "cell_type": "code",
   "execution_count": 659,
   "metadata": {},
   "outputs": [],
   "source": [
    "# Utility method to compute inertia with each possible value of k\n",
    "def get_inertia_values(k,inertia,df):\n",
    "    # Create a for loop to compute the inertia with each possible value of k\n",
    "    for k_value in k:\n",
    "    # Inside the loop:\n",
    "    # 1. Create a KMeans model using the loop counter for the n_clusters\n",
    "        model = KMeans(n_clusters=k_value, random_state=97)\n",
    "    # 2. Fit the model to the data using `df_market_data_scaled`\n",
    "        model.fit(df)\n",
    "    # 3. Append the model.inertia_ to the inertia list\n",
    "        inertia.append(model.inertia_)"
   ]
  },
  {
   "cell_type": "code",
   "execution_count": 660,
   "metadata": {},
   "outputs": [],
   "source": [
    "# Utility lambda method to get Inertia values\n",
    "get_inertia_values(k, inertia,df_market_data_scaled)"
   ]
  },
  {
   "cell_type": "code",
   "execution_count": 661,
   "metadata": {},
   "outputs": [],
   "source": [
    "# Utility lambda method to get Elbow Curve Data\n",
    "get_elbow_curve_df = lambda inertia: pd.DataFrame({'k': k, 'inertia':inertia})"
   ]
  },
  {
   "cell_type": "code",
   "execution_count": 662,
   "metadata": {},
   "outputs": [],
   "source": [
    "# Create a dictionary with the data to plot the Elbow curve\n",
    "# Create a DataFrame with the data to plot the Elbow curve\n",
    "elbow_curve_df = get_elbow_curve_df(inertia)"
   ]
  },
  {
   "cell_type": "code",
   "execution_count": 663,
   "metadata": {},
   "outputs": [],
   "source": [
    "# Method to return elbow curve plot\n",
    "get_elbow_curve_plot = lambda df, data_type: df.hvplot.line(\n",
    "    x='k', \n",
    "    y='inertia', \n",
    "    title=f'Elbow Curve - {data_type} Data', \n",
    "    ylabel='Inertia', \n",
    "    xlabel='K Value',\n",
    "    width=700,\n",
    "    height=350,\n",
    "    grid=True,\n",
    "    line_width=3,\n",
    "    xlim=[.9,10.1],\n",
    "    color='#52B2BF'\n",
    "   ).opts(\n",
    "    bgcolor='#ffffff',\n",
    "    fontsize={\n",
    "    'title': 18,\n",
    "    'labels': 15,\n",
    "    'xticks': 12,\n",
    "    'yticks': 12})\n",
    "\n",
    "# Method to return points  \n",
    "get_scatter = lambda df: df.hvplot.scatter(\n",
    "    x='k',\n",
    "    y='inertia',\n",
    ").opts(color='#E66C2C', size=9, marker='o')\n",
    "\n",
    "# Method to combine elbow curve with points\n",
    "get_styled_elbow_curve_plot = lambda df, data_type: get_elbow_curve_plot(elbow_curve_df, data_type) * get_scatter(elbow_curve_df)"
   ]
  },
  {
   "cell_type": "code",
   "execution_count": 664,
   "metadata": {},
   "outputs": [
    {
     "data": {},
     "metadata": {},
     "output_type": "display_data"
    },
    {
     "data": {
      "application/vnd.holoviews_exec.v0+json": "",
      "text/html": [
       "<div id='68501'>\n",
       "\n",
       "\n",
       "\n",
       "\n",
       "\n",
       "  <div class=\"bk-root\" id=\"44358fbf-8ede-409b-a841-d8f76978558f\" data-root-id=\"68501\"></div>\n",
       "</div>\n",
       "<script type=\"application/javascript\">(function(root) {\n",
       "  function embed_document(root) {\n",
       "    var docs_json = {\"9e8cae09-edf4-4a28-9b09-3575ac206bf3\":{\"defs\":[{\"extends\":null,\"module\":null,\"name\":\"ReactiveHTML1\",\"overrides\":[],\"properties\":[]},{\"extends\":null,\"module\":null,\"name\":\"FlexBox1\",\"overrides\":[],\"properties\":[{\"default\":\"flex-start\",\"kind\":null,\"name\":\"align_content\"},{\"default\":\"flex-start\",\"kind\":null,\"name\":\"align_items\"},{\"default\":\"row\",\"kind\":null,\"name\":\"flex_direction\"},{\"default\":\"wrap\",\"kind\":null,\"name\":\"flex_wrap\"},{\"default\":\"flex-start\",\"kind\":null,\"name\":\"justify_content\"}]},{\"extends\":null,\"module\":null,\"name\":\"GridStack1\",\"overrides\":[],\"properties\":[{\"default\":\"warn\",\"kind\":null,\"name\":\"mode\"},{\"default\":null,\"kind\":null,\"name\":\"ncols\"},{\"default\":null,\"kind\":null,\"name\":\"nrows\"},{\"default\":true,\"kind\":null,\"name\":\"allow_resize\"},{\"default\":true,\"kind\":null,\"name\":\"allow_drag\"},{\"default\":[],\"kind\":null,\"name\":\"state\"}]},{\"extends\":null,\"module\":null,\"name\":\"click1\",\"overrides\":[],\"properties\":[{\"default\":\"\",\"kind\":null,\"name\":\"terminal_output\"},{\"default\":\"\",\"kind\":null,\"name\":\"debug_name\"},{\"default\":0,\"kind\":null,\"name\":\"clears\"}]},{\"extends\":null,\"module\":null,\"name\":\"TemplateActions1\",\"overrides\":[],\"properties\":[{\"default\":0,\"kind\":null,\"name\":\"open_modal\"},{\"default\":0,\"kind\":null,\"name\":\"close_modal\"}]},{\"extends\":null,\"module\":null,\"name\":\"MaterialTemplateActions1\",\"overrides\":[],\"properties\":[{\"default\":0,\"kind\":null,\"name\":\"open_modal\"},{\"default\":0,\"kind\":null,\"name\":\"close_modal\"}]}],\"roots\":{\"references\":[{\"attributes\":{\"line_alpha\":0.2,\"line_color\":\"#52B2BF\",\"line_width\":3,\"x\":{\"field\":\"k\"},\"y\":{\"field\":\"inertia\"}},\"id\":\"68550\",\"type\":\"Line\"},{\"attributes\":{\"source\":{\"id\":\"68545\"}},\"id\":\"68552\",\"type\":\"CDSView\"},{\"attributes\":{\"data\":{\"inertia\":{\"__ndarray__\":\"AAAAAADwcUByhzI6P3poQOCRvNowzF5AGO6ulG/BU0D03u2eZoFQQBYSyZxlh0pAghbl9XUPRkB5yRSvOKpCQMB0IF8cPkBAoAwew/P5O0A=\",\"dtype\":\"float64\",\"order\":\"little\",\"shape\":[10]},\"k\":[1,2,3,4,5,6,7,8,9,10]},\"selected\":{\"id\":\"68555\"},\"selection_policy\":{\"id\":\"68572\"}},\"id\":\"68554\",\"type\":\"ColumnDataSource\"},{\"attributes\":{},\"id\":\"68526\",\"type\":\"WheelZoomTool\"},{\"attributes\":{},\"id\":\"68542\",\"type\":\"AllLabels\"},{\"attributes\":{\"children\":[{\"id\":\"68502\"},{\"id\":\"68507\"},{\"id\":\"68671\"}],\"margin\":[0,0,0,0],\"name\":\"Row138211\",\"tags\":[\"embedded\"]},\"id\":\"68501\",\"type\":\"Row\"},{\"attributes\":{},\"id\":\"68570\",\"type\":\"UnionRenderers\"},{\"attributes\":{\"bottom_units\":\"screen\",\"coordinates\":null,\"fill_alpha\":0.5,\"fill_color\":\"lightgrey\",\"group\":null,\"left_units\":\"screen\",\"level\":\"overlay\",\"line_alpha\":1.0,\"line_color\":\"black\",\"line_dash\":[4,4],\"line_width\":2,\"right_units\":\"screen\",\"syncable\":false,\"top_units\":\"screen\"},\"id\":\"68529\",\"type\":\"BoxAnnotation\"},{\"attributes\":{\"tools\":[{\"id\":\"68505\"},{\"id\":\"68524\"},{\"id\":\"68525\"},{\"id\":\"68526\"},{\"id\":\"68527\"},{\"id\":\"68528\"}]},\"id\":\"68530\",\"type\":\"Toolbar\"},{\"attributes\":{\"angle\":{\"value\":0.0},\"fill_alpha\":{\"value\":1.0},\"fill_color\":{\"value\":\"#E66C2C\"},\"hatch_alpha\":{\"value\":1.0},\"hatch_color\":{\"value\":\"#E66C2C\"},\"hatch_scale\":{\"value\":12.0},\"hatch_weight\":{\"value\":1.0},\"line_alpha\":{\"value\":1.0},\"line_cap\":{\"value\":\"butt\"},\"line_color\":{\"value\":\"#E66C2C\"},\"line_dash\":{\"value\":[]},\"line_dash_offset\":{\"value\":0},\"line_join\":{\"value\":\"bevel\"},\"line_width\":{\"value\":1},\"marker\":{\"value\":\"circle\"},\"size\":{\"value\":9},\"x\":{\"field\":\"k\"},\"y\":{\"field\":\"inertia\"}},\"id\":\"68562\",\"type\":\"Scatter\"},{\"attributes\":{\"margin\":[5,5,5,5],\"name\":\"HSpacer138215\",\"sizing_mode\":\"stretch_width\"},\"id\":\"68502\",\"type\":\"Spacer\"},{\"attributes\":{},\"id\":\"68524\",\"type\":\"SaveTool\"},{\"attributes\":{},\"id\":\"68546\",\"type\":\"Selection\"},{\"attributes\":{\"fill_color\":{\"value\":\"#E66C2C\"},\"hatch_color\":{\"value\":\"#E66C2C\"},\"line_color\":{\"value\":\"#E66C2C\"},\"size\":{\"value\":9},\"x\":{\"field\":\"k\"},\"y\":{\"field\":\"inertia\"}},\"id\":\"68557\",\"type\":\"Scatter\"},{\"attributes\":{\"fill_alpha\":{\"value\":0.1},\"fill_color\":{\"value\":\"#E66C2C\"},\"hatch_alpha\":{\"value\":0.1},\"hatch_color\":{\"value\":\"#E66C2C\"},\"line_alpha\":{\"value\":0.1},\"line_color\":{\"value\":\"#E66C2C\"},\"size\":{\"value\":9},\"x\":{\"field\":\"k\"},\"y\":{\"field\":\"inertia\"}},\"id\":\"68558\",\"type\":\"Scatter\"},{\"attributes\":{},\"id\":\"68525\",\"type\":\"PanTool\"},{\"attributes\":{},\"id\":\"68555\",\"type\":\"Selection\"},{\"attributes\":{\"end\":10.1,\"reset_end\":10.1,\"reset_start\":0.9,\"start\":0.9,\"tags\":[[[\"k\",\"k\",null]]]},\"id\":\"68503\",\"type\":\"Range1d\"},{\"attributes\":{},\"id\":\"68514\",\"type\":\"LinearScale\"},{\"attributes\":{},\"id\":\"68538\",\"type\":\"BasicTickFormatter\"},{\"attributes\":{\"coordinates\":null,\"data_source\":{\"id\":\"68545\"},\"glyph\":{\"id\":\"68548\"},\"group\":null,\"hover_glyph\":null,\"muted_glyph\":{\"id\":\"68550\"},\"nonselection_glyph\":{\"id\":\"68549\"},\"selection_glyph\":{\"id\":\"68553\"},\"view\":{\"id\":\"68552\"}},\"id\":\"68551\",\"type\":\"GlyphRenderer\"},{\"attributes\":{\"axis_label\":\"Inertia\",\"axis_label_text_font_size\":\"15pt\",\"coordinates\":null,\"formatter\":{\"id\":\"68541\"},\"group\":null,\"major_label_policy\":{\"id\":\"68542\"},\"major_label_text_font_size\":\"12pt\",\"ticker\":{\"id\":\"68521\"}},\"id\":\"68520\",\"type\":\"LinearAxis\"},{\"attributes\":{},\"id\":\"68512\",\"type\":\"LinearScale\"},{\"attributes\":{},\"id\":\"68521\",\"type\":\"BasicTicker\"},{\"attributes\":{},\"id\":\"68541\",\"type\":\"BasicTickFormatter\"},{\"attributes\":{},\"id\":\"68517\",\"type\":\"BasicTicker\"},{\"attributes\":{\"end\":312.9023624234356,\"reset_end\":312.9023624234356,\"reset_start\":2.074013342208751,\"start\":2.074013342208751,\"tags\":[[[\"inertia\",\"inertia\",null]]]},\"id\":\"68504\",\"type\":\"Range1d\"},{\"attributes\":{\"coordinates\":null,\"data_source\":{\"id\":\"68554\"},\"glyph\":{\"id\":\"68557\"},\"group\":null,\"hover_glyph\":null,\"muted_glyph\":{\"id\":\"68559\"},\"nonselection_glyph\":{\"id\":\"68558\"},\"selection_glyph\":{\"id\":\"68562\"},\"view\":{\"id\":\"68561\"}},\"id\":\"68560\",\"type\":\"GlyphRenderer\"},{\"attributes\":{\"axis\":{\"id\":\"68520\"},\"coordinates\":null,\"dimension\":1,\"group\":null,\"ticker\":{\"id\":\"68521\"}},\"id\":\"68523\",\"type\":\"Grid\"},{\"attributes\":{\"axis_label\":\"K Value\",\"axis_label_text_font_size\":\"15pt\",\"coordinates\":null,\"formatter\":{\"id\":\"68538\"},\"group\":null,\"major_label_policy\":{\"id\":\"68539\"},\"major_label_text_font_size\":\"12pt\",\"ticker\":{\"id\":\"68517\"}},\"id\":\"68516\",\"type\":\"LinearAxis\"},{\"attributes\":{\"line_alpha\":0.1,\"line_color\":\"#52B2BF\",\"line_width\":3,\"x\":{\"field\":\"k\"},\"y\":{\"field\":\"inertia\"}},\"id\":\"68549\",\"type\":\"Line\"},{\"attributes\":{},\"id\":\"68528\",\"type\":\"ResetTool\"},{\"attributes\":{\"below\":[{\"id\":\"68516\"}],\"center\":[{\"id\":\"68519\"},{\"id\":\"68523\"}],\"height\":350,\"left\":[{\"id\":\"68520\"}],\"margin\":[5,5,5,5],\"min_border_bottom\":10,\"min_border_left\":10,\"min_border_right\":10,\"min_border_top\":10,\"renderers\":[{\"id\":\"68551\"},{\"id\":\"68560\"}],\"sizing_mode\":\"fixed\",\"title\":{\"id\":\"68508\"},\"toolbar\":{\"id\":\"68530\"},\"width\":700,\"x_range\":{\"id\":\"68503\"},\"x_scale\":{\"id\":\"68512\"},\"y_range\":{\"id\":\"68504\"},\"y_scale\":{\"id\":\"68514\"}},\"id\":\"68507\",\"subtype\":\"Figure\",\"type\":\"Plot\"},{\"attributes\":{},\"id\":\"68539\",\"type\":\"AllLabels\"},{\"attributes\":{\"fill_alpha\":{\"value\":0.2},\"fill_color\":{\"value\":\"#E66C2C\"},\"hatch_alpha\":{\"value\":0.2},\"hatch_color\":{\"value\":\"#E66C2C\"},\"line_alpha\":{\"value\":0.2},\"line_color\":{\"value\":\"#E66C2C\"},\"size\":{\"value\":9},\"x\":{\"field\":\"k\"},\"y\":{\"field\":\"inertia\"}},\"id\":\"68559\",\"type\":\"Scatter\"},{\"attributes\":{\"margin\":[5,5,5,5],\"name\":\"HSpacer138216\",\"sizing_mode\":\"stretch_width\"},\"id\":\"68671\",\"type\":\"Spacer\"},{\"attributes\":{\"overlay\":{\"id\":\"68529\"}},\"id\":\"68527\",\"type\":\"BoxZoomTool\"},{\"attributes\":{\"callback\":null,\"renderers\":[{\"id\":\"68551\"},{\"id\":\"68560\"}],\"tags\":[\"hv_created\"],\"tooltips\":[[\"k\",\"@{k}\"],[\"inertia\",\"@{inertia}\"]]},\"id\":\"68505\",\"type\":\"HoverTool\"},{\"attributes\":{},\"id\":\"68572\",\"type\":\"UnionRenderers\"},{\"attributes\":{\"data\":{\"inertia\":{\"__ndarray__\":\"AAAAAADwcUByhzI6P3poQOCRvNowzF5AGO6ulG/BU0D03u2eZoFQQBYSyZxlh0pAghbl9XUPRkB5yRSvOKpCQMB0IF8cPkBAoAwew/P5O0A=\",\"dtype\":\"float64\",\"order\":\"little\",\"shape\":[10]},\"k\":[1,2,3,4,5,6,7,8,9,10]},\"selected\":{\"id\":\"68546\"},\"selection_policy\":{\"id\":\"68570\"}},\"id\":\"68545\",\"type\":\"ColumnDataSource\"},{\"attributes\":{\"source\":{\"id\":\"68554\"}},\"id\":\"68561\",\"type\":\"CDSView\"},{\"attributes\":{\"axis\":{\"id\":\"68516\"},\"coordinates\":null,\"group\":null,\"ticker\":{\"id\":\"68517\"}},\"id\":\"68519\",\"type\":\"Grid\"},{\"attributes\":{\"line_color\":\"#52B2BF\",\"line_width\":3,\"x\":{\"field\":\"k\"},\"y\":{\"field\":\"inertia\"}},\"id\":\"68553\",\"type\":\"Line\"},{\"attributes\":{\"line_color\":\"#52B2BF\",\"line_width\":3,\"x\":{\"field\":\"k\"},\"y\":{\"field\":\"inertia\"}},\"id\":\"68548\",\"type\":\"Line\"},{\"attributes\":{\"coordinates\":null,\"group\":null,\"text\":\"Elbow Curve - Original Data\",\"text_color\":\"black\",\"text_font_size\":\"18pt\"},\"id\":\"68508\",\"type\":\"Title\"}],\"root_ids\":[\"68501\"]},\"title\":\"Bokeh Application\",\"version\":\"2.4.2\"}};\n",
       "    var render_items = [{\"docid\":\"9e8cae09-edf4-4a28-9b09-3575ac206bf3\",\"root_ids\":[\"68501\"],\"roots\":{\"68501\":\"44358fbf-8ede-409b-a841-d8f76978558f\"}}];\n",
       "    root.Bokeh.embed.embed_items_notebook(docs_json, render_items);\n",
       "  }\n",
       "  if (root.Bokeh !== undefined && root.Bokeh.Panel !== undefined) {\n",
       "    embed_document(root);\n",
       "  } else {\n",
       "    var attempts = 0;\n",
       "    var timer = setInterval(function(root) {\n",
       "      if (root.Bokeh !== undefined && root.Bokeh.Panel !== undefined) {\n",
       "        clearInterval(timer);\n",
       "        embed_document(root);\n",
       "      } else if (document.readyState == \"complete\") {\n",
       "        attempts++;\n",
       "        if (attempts > 200) {\n",
       "          clearInterval(timer);\n",
       "          console.log(\"Bokeh: ERROR: Unable to run BokehJS code because BokehJS library is missing\");\n",
       "        }\n",
       "      }\n",
       "    }, 25, root)\n",
       "  }\n",
       "})(window);</script>"
      ],
      "text/plain": [
       ":Overlay\n",
       "   .Curve.I   :Curve   [k]   (inertia)\n",
       "   .Scatter.I :Scatter   [k]   (inertia)"
      ]
     },
     "execution_count": 664,
     "metadata": {
      "application/vnd.holoviews_exec.v0+json": {
       "id": "68501"
      }
     },
     "output_type": "execute_result"
    }
   ],
   "source": [
    "# Plot a line chart with all the inertia values computed with the different values of k to visually identify the optimal value for k.\n",
    "elbow_curve_plot_original = get_styled_elbow_curve_plot(elbow_curve_df,'Original')\n",
    "elbow_curve_plot_original"
   ]
  },
  {
   "cell_type": "markdown",
   "metadata": {},
   "source": [
    "#### Answer the following question: What is the best value for k?\n",
    "**Question:** What is the best value for `k`?\n",
    "\n",
    "**Answer:** The best value for `k` is 4."
   ]
  },
  {
   "cell_type": "markdown",
   "metadata": {},
   "source": [
    "---"
   ]
  },
  {
   "cell_type": "markdown",
   "metadata": {},
   "source": [
    "### Cluster Cryptocurrencies with K-means Using the Original Data\n",
    "\n",
    "In this section, you will use the K-Means algorithm with the best value for `k` found in the previous section to cluster the cryptocurrencies according to the price changes of cryptocurrencies provided.\n",
    "\n",
    "1. Initialize the K-Means model with four clusters using the best value for `k`. \n",
    "\n",
    "2. Fit the K-Means model using the original data.\n",
    "\n",
    "3. Predict the clusters to group the cryptocurrencies using the original data. View the resulting array of cluster values.\n",
    "\n",
    "4. Create a copy of the original data and add a new column with the predicted clusters.\n",
    "\n",
    "5. Create a scatter plot using hvPlot by setting `x=\"price_change_percentage_24h\"` and `y=\"price_change_percentage_7d\"`. Color the graph points with the labels found using K-Means and add the crypto name in the `hover_cols` parameter to identify the cryptocurrency represented by each data point."
   ]
  },
  {
   "cell_type": "code",
   "execution_count": 665,
   "metadata": {},
   "outputs": [],
   "source": [
    "# Initialize the K-Means model using the best value for k\n",
    "model = KMeans(n_clusters=4)"
   ]
  },
  {
   "cell_type": "code",
   "execution_count": 666,
   "metadata": {},
   "outputs": [
    {
     "data": {
      "text/plain": [
       "KMeans(n_clusters=4)"
      ]
     },
     "execution_count": 666,
     "metadata": {},
     "output_type": "execute_result"
    }
   ],
   "source": [
    "# Fit the K-Means model using the scaled data\n",
    "model.fit(df_market_data_scaled)"
   ]
  },
  {
   "cell_type": "code",
   "execution_count": 667,
   "metadata": {},
   "outputs": [],
   "source": [
    "# Method to get and view predicted clusters\n",
    "def get_view_predicted_clusters(model,df):\n",
    "    # Predict clusters\n",
    "    predicted_clusters = model.predict(df)\n",
    "    # Print predicted clusters\n",
    "    print(predicted_clusters)\n",
    "    # Return predicted cluster\n",
    "    return predicted_clusters"
   ]
  },
  {
   "cell_type": "code",
   "execution_count": 668,
   "metadata": {},
   "outputs": [
    {
     "name": "stdout",
     "output_type": "stream",
     "text": [
      "[3 3 1 1 3 3 3 3 3 1 1 1 1 3 1 3 1 1 3 1 1 3 1 1 1 1 1 1 3 1 1 1 0 3 1 1 2\n",
      " 1 1 1 1]\n"
     ]
    }
   ],
   "source": [
    "# Predict the clusters to group the cryptocurrencies using the scaled data\n",
    "# View the resulting array of cluster values.\n",
    "predicted_clusters = get_view_predicted_clusters(model,df_market_data_scaled)"
   ]
  },
  {
   "cell_type": "code",
   "execution_count": 669,
   "metadata": {},
   "outputs": [],
   "source": [
    "# Global variable\n",
    "predicted_cluster = 'Predicted Cluster'"
   ]
  },
  {
   "cell_type": "code",
   "execution_count": 670,
   "metadata": {},
   "outputs": [],
   "source": [
    "# Utility method to get and view coppied DataFrame\n",
    "def get_view_copy_df(df,predicted_clusters, is_pca=False):\n",
    "    df_copy = df.copy()\n",
    "    df_copy[predicted_cluster] = predicted_clusters\n",
    "    if is_pca:\n",
    "        df.rename(columns={0: 'PC1',1: 'PC2',2: 'PC3'})\n",
    "    df_copy.sample(20)\n",
    "    return df_copy"
   ]
  },
  {
   "cell_type": "code",
   "execution_count": 671,
   "metadata": {},
   "outputs": [],
   "source": [
    "# Create a copy of the DataFrame\n",
    "# Add a new column to the DataFrame with the predicted clusters\n",
    "# Display sample data\n",
    "df_market_data_scaled_copy = get_view_copy_df(df_market_data_scaled, predicted_clusters)"
   ]
  },
  {
   "cell_type": "code",
   "execution_count": 672,
   "metadata": {},
   "outputs": [],
   "source": [
    "# Utility method to get and stycle cluster scatter plot\n",
    "def get_cluster_scatter_plot(df, data_type, x, y): \n",
    "    \n",
    "    # Utility lambda method to format label name\n",
    "    format_label_name = lambda label_name: label_name.upper().replace('_',' ')\n",
    "    \n",
    "    # Returning plot\n",
    "    return df.hvplot.scatter(\n",
    "    x=x,\n",
    "    y=y,\n",
    "    by=predicted_cluster,\n",
    "    title=f'Crypto Clusters - {data_type} Data',\n",
    "    hover_cols=['coin_id'],\n",
    "    marker=['x','*','^', '+'],\n",
    "    xlabel=format_label_name(x),\n",
    "    ylabel=format_label_name(y),\n",
    "    grid=True,\n",
    "    width=750,\n",
    "    height=350,\n",
    "    line_width=2,\n",
    "    size=100\n",
    ").opts(\n",
    "        bgcolor='#ffffff',\n",
    "        fontsize={\n",
    "        'title': 17,\n",
    "        'legend_title': 13,\n",
    "        'legend':12,\n",
    "        'labels': 14,\n",
    "        'xticks': 12,\n",
    "        'yticks': 12}\n",
    ")"
   ]
  },
  {
   "cell_type": "code",
   "execution_count": 673,
   "metadata": {},
   "outputs": [
    {
     "data": {},
     "metadata": {},
     "output_type": "display_data"
    },
    {
     "data": {
      "application/vnd.holoviews_exec.v0+json": "",
      "text/html": [
       "<div id='68733'>\n",
       "\n",
       "\n",
       "\n",
       "\n",
       "\n",
       "  <div class=\"bk-root\" id=\"175c6773-ca64-423e-a183-29c52745acc7\" data-root-id=\"68733\"></div>\n",
       "</div>\n",
       "<script type=\"application/javascript\">(function(root) {\n",
       "  function embed_document(root) {\n",
       "    var docs_json = {\"4486e50b-9717-40f6-869d-7ca2f5bf07b8\":{\"defs\":[{\"extends\":null,\"module\":null,\"name\":\"ReactiveHTML1\",\"overrides\":[],\"properties\":[]},{\"extends\":null,\"module\":null,\"name\":\"FlexBox1\",\"overrides\":[],\"properties\":[{\"default\":\"flex-start\",\"kind\":null,\"name\":\"align_content\"},{\"default\":\"flex-start\",\"kind\":null,\"name\":\"align_items\"},{\"default\":\"row\",\"kind\":null,\"name\":\"flex_direction\"},{\"default\":\"wrap\",\"kind\":null,\"name\":\"flex_wrap\"},{\"default\":\"flex-start\",\"kind\":null,\"name\":\"justify_content\"}]},{\"extends\":null,\"module\":null,\"name\":\"GridStack1\",\"overrides\":[],\"properties\":[{\"default\":\"warn\",\"kind\":null,\"name\":\"mode\"},{\"default\":null,\"kind\":null,\"name\":\"ncols\"},{\"default\":null,\"kind\":null,\"name\":\"nrows\"},{\"default\":true,\"kind\":null,\"name\":\"allow_resize\"},{\"default\":true,\"kind\":null,\"name\":\"allow_drag\"},{\"default\":[],\"kind\":null,\"name\":\"state\"}]},{\"extends\":null,\"module\":null,\"name\":\"click1\",\"overrides\":[],\"properties\":[{\"default\":\"\",\"kind\":null,\"name\":\"terminal_output\"},{\"default\":\"\",\"kind\":null,\"name\":\"debug_name\"},{\"default\":0,\"kind\":null,\"name\":\"clears\"}]},{\"extends\":null,\"module\":null,\"name\":\"TemplateActions1\",\"overrides\":[],\"properties\":[{\"default\":0,\"kind\":null,\"name\":\"open_modal\"},{\"default\":0,\"kind\":null,\"name\":\"close_modal\"}]},{\"extends\":null,\"module\":null,\"name\":\"MaterialTemplateActions1\",\"overrides\":[],\"properties\":[{\"default\":0,\"kind\":null,\"name\":\"open_modal\"},{\"default\":0,\"kind\":null,\"name\":\"close_modal\"}]}],\"roots\":{\"references\":[{\"attributes\":{\"axis_label\":\"PRICE CHANGE PERCENTAGE 7D\",\"axis_label_text_font_size\":\"14pt\",\"coordinates\":null,\"formatter\":{\"id\":\"68775\"},\"group\":null,\"major_label_policy\":{\"id\":\"68776\"},\"major_label_text_font_size\":\"12pt\",\"ticker\":{\"id\":\"68755\"}},\"id\":\"68754\",\"type\":\"LinearAxis\"},{\"attributes\":{\"end\":2.2418522071491553,\"reset_end\":2.2418522071491553,\"reset_start\":-5.303081750384561,\"start\":-5.303081750384561,\"tags\":[[[\"price_change_percentage_24h\",\"price_change_percentage_24h\",null]]]},\"id\":\"68735\",\"type\":\"Range1d\"},{\"attributes\":{},\"id\":\"68867\",\"type\":\"UnionRenderers\"},{\"attributes\":{\"fill_alpha\":{\"value\":0.1},\"fill_color\":{\"value\":\"#6d904f\"},\"hatch_alpha\":{\"value\":0.1},\"hatch_color\":{\"value\":\"#6d904f\"},\"line_alpha\":{\"value\":0.1},\"line_color\":{\"value\":\"#6d904f\"},\"line_width\":{\"value\":2},\"marker\":{\"value\":\"cross\"},\"size\":{\"value\":10.0},\"x\":{\"field\":\"price_change_percentage_24h\"},\"y\":{\"field\":\"price_change_percentage_7d\"}},\"id\":\"68850\",\"type\":\"Scatter\"},{\"attributes\":{},\"id\":\"68773\",\"type\":\"AllLabels\"},{\"attributes\":{\"fill_color\":{\"value\":\"#e5ae38\"},\"hatch_color\":{\"value\":\"#e5ae38\"},\"line_color\":{\"value\":\"#e5ae38\"},\"line_width\":{\"value\":2},\"marker\":{\"value\":\"triangle\"},\"size\":{\"value\":10.0},\"x\":{\"field\":\"price_change_percentage_24h\"},\"y\":{\"field\":\"price_change_percentage_7d\"}},\"id\":\"68825\",\"type\":\"Scatter\"},{\"attributes\":{\"source\":{\"id\":\"68800\"}},\"id\":\"68807\",\"type\":\"CDSView\"},{\"attributes\":{},\"id\":\"68776\",\"type\":\"AllLabels\"},{\"attributes\":{\"bottom_units\":\"screen\",\"coordinates\":null,\"fill_alpha\":0.5,\"fill_color\":\"lightgrey\",\"group\":null,\"left_units\":\"screen\",\"level\":\"overlay\",\"line_alpha\":1.0,\"line_color\":\"black\",\"line_dash\":[4,4],\"line_width\":2,\"right_units\":\"screen\",\"syncable\":false,\"top_units\":\"screen\"},\"id\":\"68763\",\"type\":\"BoxAnnotation\"},{\"attributes\":{},\"id\":\"68801\",\"type\":\"Selection\"},{\"attributes\":{\"fill_alpha\":{\"value\":0.2},\"fill_color\":{\"value\":\"#e5ae38\"},\"hatch_alpha\":{\"value\":0.2},\"hatch_color\":{\"value\":\"#e5ae38\"},\"line_alpha\":{\"value\":0.2},\"line_color\":{\"value\":\"#e5ae38\"},\"line_width\":{\"value\":2},\"marker\":{\"value\":\"triangle\"},\"size\":{\"value\":10.0},\"x\":{\"field\":\"price_change_percentage_24h\"},\"y\":{\"field\":\"price_change_percentage_7d\"}},\"id\":\"68827\",\"type\":\"Scatter\"},{\"attributes\":{\"source\":{\"id\":\"68846\"}},\"id\":\"68853\",\"type\":\"CDSView\"},{\"attributes\":{\"fill_color\":{\"value\":\"#6d904f\"},\"hatch_color\":{\"value\":\"#6d904f\"},\"line_color\":{\"value\":\"#6d904f\"},\"line_width\":{\"value\":2},\"marker\":{\"value\":\"cross\"},\"size\":{\"value\":10.0},\"x\":{\"field\":\"price_change_percentage_24h\"},\"y\":{\"field\":\"price_change_percentage_7d\"}},\"id\":\"68849\",\"type\":\"Scatter\"},{\"attributes\":{\"coordinates\":null,\"data_source\":{\"id\":\"68779\"},\"glyph\":{\"id\":\"68782\"},\"group\":null,\"hover_glyph\":null,\"muted_glyph\":{\"id\":\"68784\"},\"nonselection_glyph\":{\"id\":\"68783\"},\"selection_glyph\":{\"id\":\"68799\"},\"view\":{\"id\":\"68786\"}},\"id\":\"68785\",\"type\":\"GlyphRenderer\"},{\"attributes\":{},\"id\":\"68746\",\"type\":\"LinearScale\"},{\"attributes\":{},\"id\":\"68780\",\"type\":\"Selection\"},{\"attributes\":{\"tools\":[{\"id\":\"68737\"},{\"id\":\"68758\"},{\"id\":\"68759\"},{\"id\":\"68760\"},{\"id\":\"68761\"},{\"id\":\"68762\"}]},\"id\":\"68764\",\"type\":\"Toolbar\"},{\"attributes\":{\"below\":[{\"id\":\"68750\"}],\"center\":[{\"id\":\"68753\"},{\"id\":\"68757\"}],\"height\":350,\"left\":[{\"id\":\"68754\"}],\"margin\":[5,5,5,5],\"min_border_bottom\":10,\"min_border_left\":10,\"min_border_right\":10,\"min_border_top\":10,\"renderers\":[{\"id\":\"68785\"},{\"id\":\"68806\"},{\"id\":\"68828\"},{\"id\":\"68852\"}],\"right\":[{\"id\":\"68797\"}],\"sizing_mode\":\"fixed\",\"title\":{\"id\":\"68742\"},\"toolbar\":{\"id\":\"68764\"},\"width\":750,\"x_range\":{\"id\":\"68735\"},\"x_scale\":{\"id\":\"68746\"},\"y_range\":{\"id\":\"68736\"},\"y_scale\":{\"id\":\"68748\"}},\"id\":\"68741\",\"subtype\":\"Figure\",\"type\":\"Plot\"},{\"attributes\":{\"data\":{\"Predicted_Cluster\":[1,1,1,1,1,1,1,1,1,1,1,1,1,1,1,1,1,1,1,1,1,1,1,1,1,1],\"coin_id\":[\"tether\",\"ripple\",\"bitcoin-cash-sv\",\"crypto-com-chain\",\"usd-coin\",\"eos\",\"tron\",\"okb\",\"stellar\",\"cdai\",\"neo\",\"leo-token\",\"huobi-token\",\"nem\",\"binance-usd\",\"iota\",\"vechain\",\"theta-token\",\"dash\",\"ethereum-classic\",\"havven\",\"omisego\",\"ontology\",\"ftx-token\",\"true-usd\",\"digibyte\"],\"price_change_percentage_24h\":{\"__ndarray__\":\"mCJF1OlLlj/mJRG3Ed+kv1qZGRifu9w//rJXHrAz1T/yMTqenpahPx9kk3dK7sM/GTRehHalwD90fnl54Irtv9XPDahDw9G/+VOWQSEmxz+kpbukw1bSP6eM4M4OgKo/BcMOj9+jqr/Chq6S5ebLv2h3TIfCZ68/weEQ8QyV0D/KmZTmC7niP1YH9WGFy/m/N7JuVBEB07/EU4GAhEGyv8Ocf0hw2/a/lrPBJY23/j/IKcQzxy3av5WrmDyeito/Bf22eE/6sz9Y362Ir3rzPw==\",\"dtype\":\"float64\",\"order\":\"little\",\"shape\":[26]},\"price_change_percentage_7d\":{\"__ndarray__\":\"bZSIvk+a5r9RujxqH/Ppvw2U7adXaMi/d+r7VGbW+b9EGSx/8nTnv4rfBo4Lhe2/BEBwXEEApb8Udj8VbP/2vySelkVDp9i/7SZvVsyO5r8uu+JVH+LUvziN+gRMte2/o2qlez1D3b/CtPLKIS7rvyYjaswHnea/US6joeTvzz/dRmuCvtDvv/9TV66U6fq/ZWX+mWVCuD8GJ0pHuV/Nv8nIE2ZWH5q/TTxj/me11z+Htdvf1gXtv2Avihmzf9o/e31xtwIC5r/STlu6Y3Ljvw==\",\"dtype\":\"float64\",\"order\":\"little\",\"shape\":[26]}},\"selected\":{\"id\":\"68801\"},\"selection_policy\":{\"id\":\"68817\"}},\"id\":\"68800\",\"type\":\"ColumnDataSource\"},{\"attributes\":{},\"id\":\"68775\",\"type\":\"BasicTickFormatter\"},{\"attributes\":{\"margin\":[5,5,5,5],\"name\":\"HSpacer138737\",\"sizing_mode\":\"stretch_width\"},\"id\":\"69016\",\"type\":\"Spacer\"},{\"attributes\":{\"label\":{\"value\":\"1\"},\"renderers\":[{\"id\":\"68806\"}]},\"id\":\"68820\",\"type\":\"LegendItem\"},{\"attributes\":{},\"id\":\"68759\",\"type\":\"PanTool\"},{\"attributes\":{\"fill_alpha\":{\"value\":0.2},\"fill_color\":{\"value\":\"#6d904f\"},\"hatch_alpha\":{\"value\":0.2},\"hatch_color\":{\"value\":\"#6d904f\"},\"line_alpha\":{\"value\":0.2},\"line_color\":{\"value\":\"#6d904f\"},\"line_width\":{\"value\":2},\"marker\":{\"value\":\"cross\"},\"size\":{\"value\":10.0},\"x\":{\"field\":\"price_change_percentage_24h\"},\"y\":{\"field\":\"price_change_percentage_7d\"}},\"id\":\"68851\",\"type\":\"Scatter\"},{\"attributes\":{},\"id\":\"68748\",\"type\":\"LinearScale\"},{\"attributes\":{\"fill_alpha\":{\"value\":0.2},\"fill_color\":{\"value\":\"#fc4f30\"},\"hatch_alpha\":{\"value\":0.2},\"hatch_color\":{\"value\":\"#fc4f30\"},\"line_alpha\":{\"value\":0.2},\"line_color\":{\"value\":\"#fc4f30\"},\"line_width\":{\"value\":2},\"marker\":{\"value\":\"asterisk\"},\"size\":{\"value\":10.0},\"x\":{\"field\":\"price_change_percentage_24h\"},\"y\":{\"field\":\"price_change_percentage_7d\"}},\"id\":\"68805\",\"type\":\"Scatter\"},{\"attributes\":{\"callback\":null,\"renderers\":[{\"id\":\"68785\"},{\"id\":\"68806\"},{\"id\":\"68828\"},{\"id\":\"68852\"}],\"tags\":[\"hv_created\"],\"tooltips\":[[\"Predicted Cluster\",\"@{Predicted_Cluster}\"],[\"price_change_percentage_24h\",\"@{price_change_percentage_24h}\"],[\"price_change_percentage_7d\",\"@{price_change_percentage_7d}\"],[\"coin_id\",\"@{coin_id}\"]]},\"id\":\"68737\",\"type\":\"HoverTool\"},{\"attributes\":{\"label\":{\"value\":\"0\"},\"renderers\":[{\"id\":\"68785\"}]},\"id\":\"68798\",\"type\":\"LegendItem\"},{\"attributes\":{},\"id\":\"68847\",\"type\":\"Selection\"},{\"attributes\":{\"end\":2.997678656273595,\"reset_end\":2.997678656273595,\"reset_start\":-2.107454305728652,\"start\":-2.107454305728652,\"tags\":[[[\"price_change_percentage_7d\",\"price_change_percentage_7d\",null]]]},\"id\":\"68736\",\"type\":\"Range1d\"},{\"attributes\":{\"angle\":{\"value\":0.7853981633974483},\"fill_alpha\":{\"value\":1.0},\"fill_color\":{\"value\":\"#30a2da\"},\"hatch_alpha\":{\"value\":1.0},\"hatch_color\":{\"value\":\"#30a2da\"},\"hatch_scale\":{\"value\":12.0},\"hatch_weight\":{\"value\":1.0},\"line_alpha\":{\"value\":1.0},\"line_cap\":{\"value\":\"butt\"},\"line_color\":{\"value\":\"#30a2da\"},\"line_dash\":{\"value\":[]},\"line_dash_offset\":{\"value\":0},\"line_join\":{\"value\":\"bevel\"},\"line_width\":{\"value\":2},\"marker\":{\"value\":\"cross\"},\"size\":{\"value\":10.0},\"x\":{\"field\":\"price_change_percentage_24h\"},\"y\":{\"field\":\"price_change_percentage_7d\"}},\"id\":\"68799\",\"type\":\"Scatter\"},{\"attributes\":{\"fill_alpha\":{\"value\":0.1},\"fill_color\":{\"value\":\"#fc4f30\"},\"hatch_alpha\":{\"value\":0.1},\"hatch_color\":{\"value\":\"#fc4f30\"},\"line_alpha\":{\"value\":0.1},\"line_color\":{\"value\":\"#fc4f30\"},\"line_width\":{\"value\":2},\"marker\":{\"value\":\"asterisk\"},\"size\":{\"value\":10.0},\"x\":{\"field\":\"price_change_percentage_24h\"},\"y\":{\"field\":\"price_change_percentage_7d\"}},\"id\":\"68804\",\"type\":\"Scatter\"},{\"attributes\":{\"angle\":{\"value\":0.0},\"fill_alpha\":{\"value\":1.0},\"fill_color\":{\"value\":\"#6d904f\"},\"hatch_alpha\":{\"value\":1.0},\"hatch_color\":{\"value\":\"#6d904f\"},\"hatch_scale\":{\"value\":12.0},\"hatch_weight\":{\"value\":1.0},\"line_alpha\":{\"value\":1.0},\"line_cap\":{\"value\":\"butt\"},\"line_color\":{\"value\":\"#6d904f\"},\"line_dash\":{\"value\":[]},\"line_dash_offset\":{\"value\":0},\"line_join\":{\"value\":\"bevel\"},\"line_width\":{\"value\":2},\"marker\":{\"value\":\"cross\"},\"size\":{\"value\":10.0},\"x\":{\"field\":\"price_change_percentage_24h\"},\"y\":{\"field\":\"price_change_percentage_7d\"}},\"id\":\"68871\",\"type\":\"Scatter\"},{\"attributes\":{\"overlay\":{\"id\":\"68763\"}},\"id\":\"68761\",\"type\":\"BoxZoomTool\"},{\"attributes\":{},\"id\":\"68823\",\"type\":\"Selection\"},{\"attributes\":{\"angle\":{\"value\":0.7853981633974483},\"fill_color\":{\"value\":\"#30a2da\"},\"hatch_color\":{\"value\":\"#30a2da\"},\"line_color\":{\"value\":\"#30a2da\"},\"line_width\":{\"value\":2},\"marker\":{\"value\":\"cross\"},\"size\":{\"value\":10.0},\"x\":{\"field\":\"price_change_percentage_24h\"},\"y\":{\"field\":\"price_change_percentage_7d\"}},\"id\":\"68782\",\"type\":\"Scatter\"},{\"attributes\":{\"data\":{\"Predicted_Cluster\":[2],\"coin_id\":[\"celsius-degree-token\"],\"price_change_percentage_24h\":{\"__ndarray__\":\"VLqXBn668D8=\",\"dtype\":\"float64\",\"order\":\"little\",\"shape\":[1]},\"price_change_percentage_7d\":{\"__ndarray__\":\"Nv03JFjJ478=\",\"dtype\":\"float64\",\"order\":\"little\",\"shape\":[1]}},\"selected\":{\"id\":\"68823\"},\"selection_policy\":{\"id\":\"68841\"}},\"id\":\"68822\",\"type\":\"ColumnDataSource\"},{\"attributes\":{\"data\":{\"Predicted_Cluster\":[0],\"coin_id\":[\"ethlend\"],\"price_change_percentage_24h\":{\"__ndarray__\":\"3WeHPpbsE8A=\",\"dtype\":\"float64\",\"order\":\"little\",\"shape\":[1]},\"price_change_percentage_7d\":{\"__ndarray__\":\"dIWi2pshp78=\",\"dtype\":\"float64\",\"order\":\"little\",\"shape\":[1]}},\"selected\":{\"id\":\"68780\"},\"selection_policy\":{\"id\":\"68794\"}},\"id\":\"68779\",\"type\":\"ColumnDataSource\"},{\"attributes\":{\"angle\":{\"value\":0.7853981633974483},\"fill_alpha\":{\"value\":0.1},\"fill_color\":{\"value\":\"#30a2da\"},\"hatch_alpha\":{\"value\":0.1},\"hatch_color\":{\"value\":\"#30a2da\"},\"line_alpha\":{\"value\":0.1},\"line_color\":{\"value\":\"#30a2da\"},\"line_width\":{\"value\":2},\"marker\":{\"value\":\"cross\"},\"size\":{\"value\":10.0},\"x\":{\"field\":\"price_change_percentage_24h\"},\"y\":{\"field\":\"price_change_percentage_7d\"}},\"id\":\"68783\",\"type\":\"Scatter\"},{\"attributes\":{\"source\":{\"id\":\"68822\"}},\"id\":\"68829\",\"type\":\"CDSView\"},{\"attributes\":{},\"id\":\"68751\",\"type\":\"BasicTicker\"},{\"attributes\":{\"source\":{\"id\":\"68779\"}},\"id\":\"68786\",\"type\":\"CDSView\"},{\"attributes\":{\"margin\":[5,5,5,5],\"name\":\"HSpacer138736\",\"sizing_mode\":\"stretch_width\"},\"id\":\"68734\",\"type\":\"Spacer\"},{\"attributes\":{},\"id\":\"68758\",\"type\":\"SaveTool\"},{\"attributes\":{\"axis\":{\"id\":\"68750\"},\"coordinates\":null,\"group\":null,\"ticker\":{\"id\":\"68751\"}},\"id\":\"68753\",\"type\":\"Grid\"},{\"attributes\":{\"label\":{\"value\":\"2\"},\"renderers\":[{\"id\":\"68828\"}]},\"id\":\"68844\",\"type\":\"LegendItem\"},{\"attributes\":{},\"id\":\"68794\",\"type\":\"UnionRenderers\"},{\"attributes\":{},\"id\":\"68817\",\"type\":\"UnionRenderers\"},{\"attributes\":{\"label\":{\"value\":\"3\"},\"renderers\":[{\"id\":\"68852\"}]},\"id\":\"68870\",\"type\":\"LegendItem\"},{\"attributes\":{},\"id\":\"68772\",\"type\":\"BasicTickFormatter\"},{\"attributes\":{},\"id\":\"68841\",\"type\":\"UnionRenderers\"},{\"attributes\":{\"coordinates\":null,\"group\":null,\"text\":\"Crypto Clusters - Original Data\",\"text_color\":\"black\",\"text_font_size\":\"17pt\"},\"id\":\"68742\",\"type\":\"Title\"},{\"attributes\":{\"angle\":{\"value\":0.0},\"fill_alpha\":{\"value\":1.0},\"fill_color\":{\"value\":\"#fc4f30\"},\"hatch_alpha\":{\"value\":1.0},\"hatch_color\":{\"value\":\"#fc4f30\"},\"hatch_scale\":{\"value\":12.0},\"hatch_weight\":{\"value\":1.0},\"line_alpha\":{\"value\":1.0},\"line_cap\":{\"value\":\"butt\"},\"line_color\":{\"value\":\"#fc4f30\"},\"line_dash\":{\"value\":[]},\"line_dash_offset\":{\"value\":0},\"line_join\":{\"value\":\"bevel\"},\"line_width\":{\"value\":2},\"marker\":{\"value\":\"asterisk\"},\"size\":{\"value\":10.0},\"x\":{\"field\":\"price_change_percentage_24h\"},\"y\":{\"field\":\"price_change_percentage_7d\"}},\"id\":\"68821\",\"type\":\"Scatter\"},{\"attributes\":{\"coordinates\":null,\"data_source\":{\"id\":\"68800\"},\"glyph\":{\"id\":\"68803\"},\"group\":null,\"hover_glyph\":null,\"muted_glyph\":{\"id\":\"68805\"},\"nonselection_glyph\":{\"id\":\"68804\"},\"selection_glyph\":{\"id\":\"68821\"},\"view\":{\"id\":\"68807\"}},\"id\":\"68806\",\"type\":\"GlyphRenderer\"},{\"attributes\":{},\"id\":\"68760\",\"type\":\"WheelZoomTool\"},{\"attributes\":{\"fill_color\":{\"value\":\"#fc4f30\"},\"hatch_color\":{\"value\":\"#fc4f30\"},\"line_color\":{\"value\":\"#fc4f30\"},\"line_width\":{\"value\":2},\"marker\":{\"value\":\"asterisk\"},\"size\":{\"value\":10.0},\"x\":{\"field\":\"price_change_percentage_24h\"},\"y\":{\"field\":\"price_change_percentage_7d\"}},\"id\":\"68803\",\"type\":\"Scatter\"},{\"attributes\":{},\"id\":\"68762\",\"type\":\"ResetTool\"},{\"attributes\":{\"axis\":{\"id\":\"68754\"},\"coordinates\":null,\"dimension\":1,\"group\":null,\"ticker\":{\"id\":\"68755\"}},\"id\":\"68757\",\"type\":\"Grid\"},{\"attributes\":{\"angle\":{\"value\":0},\"fill_alpha\":{\"value\":1.0},\"fill_color\":{\"value\":\"#e5ae38\"},\"hatch_alpha\":{\"value\":1.0},\"hatch_color\":{\"value\":\"#e5ae38\"},\"hatch_scale\":{\"value\":12.0},\"hatch_weight\":{\"value\":1.0},\"line_alpha\":{\"value\":1.0},\"line_cap\":{\"value\":\"butt\"},\"line_color\":{\"value\":\"#e5ae38\"},\"line_dash\":{\"value\":[]},\"line_dash_offset\":{\"value\":0},\"line_join\":{\"value\":\"bevel\"},\"line_width\":{\"value\":2},\"marker\":{\"value\":\"triangle\"},\"size\":{\"value\":10.0},\"x\":{\"field\":\"price_change_percentage_24h\"},\"y\":{\"field\":\"price_change_percentage_7d\"}},\"id\":\"68845\",\"type\":\"Scatter\"},{\"attributes\":{\"children\":[{\"id\":\"68734\"},{\"id\":\"68741\"},{\"id\":\"69016\"}],\"margin\":[0,0,0,0],\"name\":\"Row138732\",\"tags\":[\"embedded\"]},\"id\":\"68733\",\"type\":\"Row\"},{\"attributes\":{\"axis_label\":\"PRICE CHANGE PERCENTAGE 24H\",\"axis_label_text_font_size\":\"14pt\",\"coordinates\":null,\"formatter\":{\"id\":\"68772\"},\"group\":null,\"major_label_policy\":{\"id\":\"68773\"},\"major_label_text_font_size\":\"12pt\",\"ticker\":{\"id\":\"68751\"}},\"id\":\"68750\",\"type\":\"LinearAxis\"},{\"attributes\":{\"angle\":{\"value\":0.7853981633974483},\"fill_alpha\":{\"value\":0.2},\"fill_color\":{\"value\":\"#30a2da\"},\"hatch_alpha\":{\"value\":0.2},\"hatch_color\":{\"value\":\"#30a2da\"},\"line_alpha\":{\"value\":0.2},\"line_color\":{\"value\":\"#30a2da\"},\"line_width\":{\"value\":2},\"marker\":{\"value\":\"cross\"},\"size\":{\"value\":10.0},\"x\":{\"field\":\"price_change_percentage_24h\"},\"y\":{\"field\":\"price_change_percentage_7d\"}},\"id\":\"68784\",\"type\":\"Scatter\"},{\"attributes\":{\"fill_alpha\":{\"value\":0.1},\"fill_color\":{\"value\":\"#e5ae38\"},\"hatch_alpha\":{\"value\":0.1},\"hatch_color\":{\"value\":\"#e5ae38\"},\"line_alpha\":{\"value\":0.1},\"line_color\":{\"value\":\"#e5ae38\"},\"line_width\":{\"value\":2},\"marker\":{\"value\":\"triangle\"},\"size\":{\"value\":10.0},\"x\":{\"field\":\"price_change_percentage_24h\"},\"y\":{\"field\":\"price_change_percentage_7d\"}},\"id\":\"68826\",\"type\":\"Scatter\"},{\"attributes\":{\"coordinates\":null,\"data_source\":{\"id\":\"68822\"},\"glyph\":{\"id\":\"68825\"},\"group\":null,\"hover_glyph\":null,\"muted_glyph\":{\"id\":\"68827\"},\"nonselection_glyph\":{\"id\":\"68826\"},\"selection_glyph\":{\"id\":\"68845\"},\"view\":{\"id\":\"68829\"}},\"id\":\"68828\",\"type\":\"GlyphRenderer\"},{\"attributes\":{\"click_policy\":\"mute\",\"coordinates\":null,\"group\":null,\"items\":[{\"id\":\"68798\"},{\"id\":\"68820\"},{\"id\":\"68844\"},{\"id\":\"68870\"}],\"label_text_font_size\":\"12pt\",\"location\":[0,0],\"title\":\"Predicted Cluster\",\"title_text_font_size\":\"13pt\"},\"id\":\"68797\",\"type\":\"Legend\"},{\"attributes\":{\"coordinates\":null,\"data_source\":{\"id\":\"68846\"},\"glyph\":{\"id\":\"68849\"},\"group\":null,\"hover_glyph\":null,\"muted_glyph\":{\"id\":\"68851\"},\"nonselection_glyph\":{\"id\":\"68850\"},\"selection_glyph\":{\"id\":\"68871\"},\"view\":{\"id\":\"68853\"}},\"id\":\"68852\",\"type\":\"GlyphRenderer\"},{\"attributes\":{\"data\":{\"Predicted_Cluster\":[3,3,3,3,3,3,3,3,3,3,3,3,3],\"coin_id\":[\"bitcoin\",\"ethereum\",\"bitcoin-cash\",\"binancecoin\",\"chainlink\",\"cardano\",\"litecoin\",\"monero\",\"tezos\",\"cosmos\",\"wrapped-bitcoin\",\"zcash\",\"maker\"],\"price_change_percentage_24h\":{\"__ndarray__\":\"DdlqYN9F4D86azDosLzHPzALIwCtFvM/9w6McDSK7D/VDHOpb1eHPzMEvaFkP7o/Sds39trWsz9Epj8/c9DQP4xAeNEVZ8O/qq8st/Fh0L8FWWk3mH7gP6wo083aUMC//ACFOIMFwL8=\",\"dtype\":\"float64\",\"order\":\"little\",\"shape\":[13]},\"price_change_percentage_7d\":{\"__ndarray__\":\"U1k8q3mQ3z9yoPpI+ebtPzAB2dP2AQBAgmkOMZk89T8FNulI+JMEQCZRaSLGIPg/84wjaB1l1T8rMp3jf678P2VmURqKqeY/XK6ZksNx/T9DfMqy1o7dPyTPDB1Xu+0/srW7TleV4j8=\",\"dtype\":\"float64\",\"order\":\"little\",\"shape\":[13]}},\"selected\":{\"id\":\"68847\"},\"selection_policy\":{\"id\":\"68867\"}},\"id\":\"68846\",\"type\":\"ColumnDataSource\"},{\"attributes\":{},\"id\":\"68755\",\"type\":\"BasicTicker\"}],\"root_ids\":[\"68733\"]},\"title\":\"Bokeh Application\",\"version\":\"2.4.2\"}};\n",
       "    var render_items = [{\"docid\":\"4486e50b-9717-40f6-869d-7ca2f5bf07b8\",\"root_ids\":[\"68733\"],\"roots\":{\"68733\":\"175c6773-ca64-423e-a183-29c52745acc7\"}}];\n",
       "    root.Bokeh.embed.embed_items_notebook(docs_json, render_items);\n",
       "  }\n",
       "  if (root.Bokeh !== undefined && root.Bokeh.Panel !== undefined) {\n",
       "    embed_document(root);\n",
       "  } else {\n",
       "    var attempts = 0;\n",
       "    var timer = setInterval(function(root) {\n",
       "      if (root.Bokeh !== undefined && root.Bokeh.Panel !== undefined) {\n",
       "        clearInterval(timer);\n",
       "        embed_document(root);\n",
       "      } else if (document.readyState == \"complete\") {\n",
       "        attempts++;\n",
       "        if (attempts > 200) {\n",
       "          clearInterval(timer);\n",
       "          console.log(\"Bokeh: ERROR: Unable to run BokehJS code because BokehJS library is missing\");\n",
       "        }\n",
       "      }\n",
       "    }, 25, root)\n",
       "  }\n",
       "})(window);</script>"
      ],
      "text/plain": [
       ":NdOverlay   [Predicted Cluster]\n",
       "   :Scatter   [price_change_percentage_24h]   (price_change_percentage_7d,coin_id)"
      ]
     },
     "execution_count": 673,
     "metadata": {
      "application/vnd.holoviews_exec.v0+json": {
       "id": "68733"
      }
     },
     "output_type": "execute_result"
    }
   ],
   "source": [
    "# Create a scatter plot using hvPlot by setting \n",
    "# `x=\"price_change_percentage_24h\"` and `y=\"price_change_percentage_7d\"`. \n",
    "# Color the graph points with the labels found using K-Means and add the crypto name in the `hover_cols` parameter to identify the cryptocurrency represented by each data point.\n",
    "cluster_scatter_plot_original = get_cluster_scatter_plot(df_market_data_scaled_copy, \n",
    "                                                         'Original', \n",
    "                                                         x=\"price_change_percentage_24h\",\n",
    "                                                         y=\"price_change_percentage_7d\",)\n",
    "cluster_scatter_plot_original"
   ]
  },
  {
   "cell_type": "markdown",
   "metadata": {},
   "source": [
    "---"
   ]
  },
  {
   "cell_type": "markdown",
   "metadata": {},
   "source": [
    "### Optimize Clusters with Principal Component Analysis\n",
    "\n",
    "In this section, you will perform a principal component analysis (PCA) and reduce the features to three principal components.\n",
    "\n",
    "1. Create a PCA model instance and set `n_components=3`.\n",
    "\n",
    "2. Use the PCA model to reduce to three principal components. View the first five rows of the DataFrame. \n",
    "\n",
    "3. Retrieve the explained variance to determine how much information can be attributed to each principal component.\n",
    "\n",
    "4. Answer the following question: What is the total explained variance of the three principal components?\n",
    "\n",
    "5. Create a new DataFrame with the PCA data. Be sure to set the `coin_id` index from the original DataFrame as the index for the new DataFrame. Review the resulting DataFrame."
   ]
  },
  {
   "cell_type": "code",
   "execution_count": 674,
   "metadata": {},
   "outputs": [],
   "source": [
    "# Create a PCA model instance and set `n_components=3`.\n",
    "model = PCA(n_components=3)"
   ]
  },
  {
   "cell_type": "code",
   "execution_count": 675,
   "metadata": {},
   "outputs": [
    {
     "data": {
      "text/html": [
       "<div>\n",
       "<style scoped>\n",
       "    .dataframe tbody tr th:only-of-type {\n",
       "        vertical-align: middle;\n",
       "    }\n",
       "\n",
       "    .dataframe tbody tr th {\n",
       "        vertical-align: top;\n",
       "    }\n",
       "\n",
       "    .dataframe thead th {\n",
       "        text-align: right;\n",
       "    }\n",
       "</style>\n",
       "<table border=\"1\" class=\"dataframe\">\n",
       "  <thead>\n",
       "    <tr style=\"text-align: right;\">\n",
       "      <th></th>\n",
       "      <th>0</th>\n",
       "      <th>1</th>\n",
       "      <th>2</th>\n",
       "    </tr>\n",
       "  </thead>\n",
       "  <tbody>\n",
       "    <tr>\n",
       "      <th>0</th>\n",
       "      <td>-0.600667</td>\n",
       "      <td>0.842760</td>\n",
       "      <td>0.461595</td>\n",
       "    </tr>\n",
       "    <tr>\n",
       "      <th>1</th>\n",
       "      <td>-0.458261</td>\n",
       "      <td>0.458466</td>\n",
       "      <td>0.952877</td>\n",
       "    </tr>\n",
       "    <tr>\n",
       "      <th>2</th>\n",
       "      <td>-0.433070</td>\n",
       "      <td>-0.168126</td>\n",
       "      <td>-0.641752</td>\n",
       "    </tr>\n",
       "    <tr>\n",
       "      <th>3</th>\n",
       "      <td>-0.471835</td>\n",
       "      <td>-0.222660</td>\n",
       "      <td>-0.479053</td>\n",
       "    </tr>\n",
       "    <tr>\n",
       "      <th>4</th>\n",
       "      <td>-1.157800</td>\n",
       "      <td>2.041209</td>\n",
       "      <td>1.859715</td>\n",
       "    </tr>\n",
       "  </tbody>\n",
       "</table>\n",
       "</div>"
      ],
      "text/plain": [
       "          0         1         2\n",
       "0 -0.600667  0.842760  0.461595\n",
       "1 -0.458261  0.458466  0.952877\n",
       "2 -0.433070 -0.168126 -0.641752\n",
       "3 -0.471835 -0.222660 -0.479053\n",
       "4 -1.157800  2.041209  1.859715"
      ]
     },
     "execution_count": 675,
     "metadata": {},
     "output_type": "execute_result"
    }
   ],
   "source": [
    "# Use the PCA model with `fit_transform` to reduce to three principal components.\n",
    "pca_model_df = pd.DataFrame(model.fit_transform(df_market_data_scaled))\n",
    "\n",
    "# View the first five rows of the DataFrame. \n",
    "pca_model_df.head()"
   ]
  },
  {
   "cell_type": "code",
   "execution_count": 676,
   "metadata": {},
   "outputs": [
    {
     "data": {
      "text/plain": [
       "array([0.3719856 , 0.34700813, 0.17603793])"
      ]
     },
     "execution_count": 676,
     "metadata": {},
     "output_type": "execute_result"
    }
   ],
   "source": [
    "# Retrieve the explained variance to determine how much information can be attributed to each principal component.\n",
    "model.explained_variance_ratio_"
   ]
  },
  {
   "cell_type": "markdown",
   "metadata": {},
   "source": [
    "#### Answer the following question: What is the total explained variance of the three principal components?\n",
    "\n",
    "**Question:** What is the total explained variance of the three principal components?\n",
    "\n",
    "**Answer:** The total explained variance of the three principal components is 89.5%."
   ]
  },
  {
   "cell_type": "code",
   "execution_count": 677,
   "metadata": {},
   "outputs": [],
   "source": [
    "# Global variable\n",
    "coinid = 'coinid'"
   ]
  },
  {
   "cell_type": "code",
   "execution_count": 678,
   "metadata": {},
   "outputs": [
    {
     "data": {
      "text/html": [
       "<div>\n",
       "<style scoped>\n",
       "    .dataframe tbody tr th:only-of-type {\n",
       "        vertical-align: middle;\n",
       "    }\n",
       "\n",
       "    .dataframe tbody tr th {\n",
       "        vertical-align: top;\n",
       "    }\n",
       "\n",
       "    .dataframe thead th {\n",
       "        text-align: right;\n",
       "    }\n",
       "</style>\n",
       "<table border=\"1\" class=\"dataframe\">\n",
       "  <thead>\n",
       "    <tr style=\"text-align: right;\">\n",
       "      <th></th>\n",
       "      <th>0</th>\n",
       "      <th>1</th>\n",
       "      <th>2</th>\n",
       "    </tr>\n",
       "    <tr>\n",
       "      <th>coinid</th>\n",
       "      <th></th>\n",
       "      <th></th>\n",
       "      <th></th>\n",
       "    </tr>\n",
       "  </thead>\n",
       "  <tbody>\n",
       "    <tr>\n",
       "      <th>zcash</th>\n",
       "      <td>-0.425147</td>\n",
       "      <td>0.492976</td>\n",
       "      <td>1.058048</td>\n",
       "    </tr>\n",
       "    <tr>\n",
       "      <th>ripple</th>\n",
       "      <td>-0.471835</td>\n",
       "      <td>-0.222660</td>\n",
       "      <td>-0.479053</td>\n",
       "    </tr>\n",
       "    <tr>\n",
       "      <th>celsius-degree-token</th>\n",
       "      <td>4.792395</td>\n",
       "      <td>6.767679</td>\n",
       "      <td>-1.986985</td>\n",
       "    </tr>\n",
       "    <tr>\n",
       "      <th>true-usd</th>\n",
       "      <td>-0.458131</td>\n",
       "      <td>-0.135734</td>\n",
       "      <td>-0.635284</td>\n",
       "    </tr>\n",
       "    <tr>\n",
       "      <th>ethereum-classic</th>\n",
       "      <td>-0.579924</td>\n",
       "      <td>-0.356334</td>\n",
       "      <td>-0.114942</td>\n",
       "    </tr>\n",
       "    <tr>\n",
       "      <th>ethlend</th>\n",
       "      <td>8.089018</td>\n",
       "      <td>-3.896891</td>\n",
       "      <td>2.301382</td>\n",
       "    </tr>\n",
       "    <tr>\n",
       "      <th>theta-token</th>\n",
       "      <td>2.676868</td>\n",
       "      <td>-0.013954</td>\n",
       "      <td>-1.965207</td>\n",
       "    </tr>\n",
       "    <tr>\n",
       "      <th>eos</th>\n",
       "      <td>-0.693425</td>\n",
       "      <td>-0.473815</td>\n",
       "      <td>-0.527597</td>\n",
       "    </tr>\n",
       "    <tr>\n",
       "      <th>chainlink</th>\n",
       "      <td>-0.450711</td>\n",
       "      <td>0.517699</td>\n",
       "      <td>2.846143</td>\n",
       "    </tr>\n",
       "    <tr>\n",
       "      <th>tron</th>\n",
       "      <td>-0.393352</td>\n",
       "      <td>-0.108192</td>\n",
       "      <td>-0.012756</td>\n",
       "    </tr>\n",
       "    <tr>\n",
       "      <th>bitcoin-cash</th>\n",
       "      <td>-1.157800</td>\n",
       "      <td>2.041209</td>\n",
       "      <td>1.859715</td>\n",
       "    </tr>\n",
       "    <tr>\n",
       "      <th>maker</th>\n",
       "      <td>-0.389045</td>\n",
       "      <td>0.165041</td>\n",
       "      <td>0.379414</td>\n",
       "    </tr>\n",
       "    <tr>\n",
       "      <th>leo-token</th>\n",
       "      <td>-0.413296</td>\n",
       "      <td>-0.674115</td>\n",
       "      <td>-1.076628</td>\n",
       "    </tr>\n",
       "    <tr>\n",
       "      <th>ethereum</th>\n",
       "      <td>-0.458261</td>\n",
       "      <td>0.458466</td>\n",
       "      <td>0.952877</td>\n",
       "    </tr>\n",
       "    <tr>\n",
       "      <th>usd-coin</th>\n",
       "      <td>-0.438408</td>\n",
       "      <td>-0.175337</td>\n",
       "      <td>-0.663388</td>\n",
       "    </tr>\n",
       "    <tr>\n",
       "      <th>tezos</th>\n",
       "      <td>-0.796176</td>\n",
       "      <td>-0.494409</td>\n",
       "      <td>1.082812</td>\n",
       "    </tr>\n",
       "    <tr>\n",
       "      <th>vechain</th>\n",
       "      <td>-0.556315</td>\n",
       "      <td>-1.938209</td>\n",
       "      <td>-1.261776</td>\n",
       "    </tr>\n",
       "    <tr>\n",
       "      <th>binance-usd</th>\n",
       "      <td>-0.450211</td>\n",
       "      <td>-0.151019</td>\n",
       "      <td>-0.647401</td>\n",
       "    </tr>\n",
       "    <tr>\n",
       "      <th>wrapped-bitcoin</th>\n",
       "      <td>-0.604265</td>\n",
       "      <td>0.827398</td>\n",
       "      <td>0.439316</td>\n",
       "    </tr>\n",
       "    <tr>\n",
       "      <th>bitcoin-cash-sv</th>\n",
       "      <td>-0.759014</td>\n",
       "      <td>-0.201200</td>\n",
       "      <td>-0.217653</td>\n",
       "    </tr>\n",
       "  </tbody>\n",
       "</table>\n",
       "</div>"
      ],
      "text/plain": [
       "                             0         1         2\n",
       "coinid                                            \n",
       "zcash                -0.425147  0.492976  1.058048\n",
       "ripple               -0.471835 -0.222660 -0.479053\n",
       "celsius-degree-token  4.792395  6.767679 -1.986985\n",
       "true-usd             -0.458131 -0.135734 -0.635284\n",
       "ethereum-classic     -0.579924 -0.356334 -0.114942\n",
       "ethlend               8.089018 -3.896891  2.301382\n",
       "theta-token           2.676868 -0.013954 -1.965207\n",
       "eos                  -0.693425 -0.473815 -0.527597\n",
       "chainlink            -0.450711  0.517699  2.846143\n",
       "tron                 -0.393352 -0.108192 -0.012756\n",
       "bitcoin-cash         -1.157800  2.041209  1.859715\n",
       "maker                -0.389045  0.165041  0.379414\n",
       "leo-token            -0.413296 -0.674115 -1.076628\n",
       "ethereum             -0.458261  0.458466  0.952877\n",
       "usd-coin             -0.438408 -0.175337 -0.663388\n",
       "tezos                -0.796176 -0.494409  1.082812\n",
       "vechain              -0.556315 -1.938209 -1.261776\n",
       "binance-usd          -0.450211 -0.151019 -0.647401\n",
       "wrapped-bitcoin      -0.604265  0.827398  0.439316\n",
       "bitcoin-cash-sv      -0.759014 -0.201200 -0.217653"
      ]
     },
     "execution_count": 678,
     "metadata": {},
     "output_type": "execute_result"
    }
   ],
   "source": [
    "# Create a new DataFrame with the PCA data.\n",
    "# Note: The code for this step is provided for you\n",
    "\n",
    "# Creating a DataFrame with the PCA data\n",
    "df_market_data_pca = pd.DataFrame(pca_model_df)\n",
    "\n",
    "# Copy the crypto names from the original data\n",
    "df_market_data_pca[coinid] = df_market_data.index\n",
    "\n",
    "# Set the coinid column as index\n",
    "df_market_data_pca = df_market_data_pca.set_index(coinid)\n",
    "\n",
    "# Display sample data\n",
    "df_market_data_pca.sample(20)"
   ]
  },
  {
   "cell_type": "markdown",
   "metadata": {},
   "source": [
    "---"
   ]
  },
  {
   "cell_type": "markdown",
   "metadata": {},
   "source": [
    "### Find the Best Value for k Using the PCA Data\n",
    "\n",
    "In this section, you will use the elbow method to find the best value for `k` using the PCA data.\n",
    "\n",
    "1. Code the elbow method algorithm and use the PCA data to find the best value for `k`. Use a range from 1 to 11. \n",
    "\n",
    "2. Plot a line chart with all the inertia values computed with the different values of `k` to visually identify the optimal value for `k`.\n",
    "\n",
    "3. Answer the following questions: What is the best value for k when using the PCA data? Does it differ from the best k value found using the original data?"
   ]
  },
  {
   "cell_type": "code",
   "execution_count": 679,
   "metadata": {},
   "outputs": [],
   "source": [
    "# Create a list with the number of k-values to try\n",
    "# Use a range from 1 to 11\n",
    "k = k"
   ]
  },
  {
   "cell_type": "code",
   "execution_count": 680,
   "metadata": {},
   "outputs": [],
   "source": [
    "# Create an empy list to store the inertia values\n",
    "inertia = []"
   ]
  },
  {
   "cell_type": "code",
   "execution_count": 681,
   "metadata": {},
   "outputs": [],
   "source": [
    "# Create a for loop to compute the inertia with each possible value of k\n",
    "# Inside the loop:\n",
    "# 1. Create a KMeans model using the loop counter for the n_clusters\n",
    "# 2. Fit the model to the data using `df_market_data_pca`\n",
    "# 3. Append the model.inertia_ to the inertia list\n",
    "get_inertia_values(k, inertia,df_market_data_pca)"
   ]
  },
  {
   "cell_type": "code",
   "execution_count": 682,
   "metadata": {},
   "outputs": [],
   "source": [
    "# Create a dictionary with the data to plot the Elbow curve\n",
    "elbow_curve_data = get_elbow_curve_data(inertia)\n",
    "\n",
    "# Create a DataFrame with the data to plot the Elbow curve\n",
    "elbow_curve_df = pd.DataFrame(elbow_curve_data)"
   ]
  },
  {
   "cell_type": "code",
   "execution_count": 683,
   "metadata": {},
   "outputs": [
    {
     "data": {},
     "metadata": {},
     "output_type": "display_data"
    },
    {
     "data": {
      "application/vnd.holoviews_exec.v0+json": "",
      "text/html": [
       "<div id='69098'>\n",
       "\n",
       "\n",
       "\n",
       "\n",
       "\n",
       "  <div class=\"bk-root\" id=\"4904d1b0-8d21-4e08-9d95-6400ca250925\" data-root-id=\"69098\"></div>\n",
       "</div>\n",
       "<script type=\"application/javascript\">(function(root) {\n",
       "  function embed_document(root) {\n",
       "    var docs_json = {\"7fc48993-18d0-4b45-ba9c-c0fae7cd2d02\":{\"defs\":[{\"extends\":null,\"module\":null,\"name\":\"ReactiveHTML1\",\"overrides\":[],\"properties\":[]},{\"extends\":null,\"module\":null,\"name\":\"FlexBox1\",\"overrides\":[],\"properties\":[{\"default\":\"flex-start\",\"kind\":null,\"name\":\"align_content\"},{\"default\":\"flex-start\",\"kind\":null,\"name\":\"align_items\"},{\"default\":\"row\",\"kind\":null,\"name\":\"flex_direction\"},{\"default\":\"wrap\",\"kind\":null,\"name\":\"flex_wrap\"},{\"default\":\"flex-start\",\"kind\":null,\"name\":\"justify_content\"}]},{\"extends\":null,\"module\":null,\"name\":\"GridStack1\",\"overrides\":[],\"properties\":[{\"default\":\"warn\",\"kind\":null,\"name\":\"mode\"},{\"default\":null,\"kind\":null,\"name\":\"ncols\"},{\"default\":null,\"kind\":null,\"name\":\"nrows\"},{\"default\":true,\"kind\":null,\"name\":\"allow_resize\"},{\"default\":true,\"kind\":null,\"name\":\"allow_drag\"},{\"default\":[],\"kind\":null,\"name\":\"state\"}]},{\"extends\":null,\"module\":null,\"name\":\"click1\",\"overrides\":[],\"properties\":[{\"default\":\"\",\"kind\":null,\"name\":\"terminal_output\"},{\"default\":\"\",\"kind\":null,\"name\":\"debug_name\"},{\"default\":0,\"kind\":null,\"name\":\"clears\"}]},{\"extends\":null,\"module\":null,\"name\":\"TemplateActions1\",\"overrides\":[],\"properties\":[{\"default\":0,\"kind\":null,\"name\":\"open_modal\"},{\"default\":0,\"kind\":null,\"name\":\"close_modal\"}]},{\"extends\":null,\"module\":null,\"name\":\"MaterialTemplateActions1\",\"overrides\":[],\"properties\":[{\"default\":0,\"kind\":null,\"name\":\"open_modal\"},{\"default\":0,\"kind\":null,\"name\":\"close_modal\"}]}],\"roots\":{\"references\":[{\"attributes\":{},\"id\":\"69109\",\"type\":\"LinearScale\"},{\"attributes\":{\"line_color\":\"#52B2BF\",\"line_width\":3,\"x\":{\"field\":\"k\"},\"y\":{\"field\":\"inertia\"}},\"id\":\"69150\",\"type\":\"Line\"},{\"attributes\":{\"margin\":[5,5,5,5],\"name\":\"HSpacer139619\",\"sizing_mode\":\"stretch_width\"},\"id\":\"69268\",\"type\":\"Spacer\"},{\"attributes\":{\"source\":{\"id\":\"69142\"}},\"id\":\"69149\",\"type\":\"CDSView\"},{\"attributes\":{\"line_color\":\"#52B2BF\",\"line_width\":3,\"x\":{\"field\":\"k\"},\"y\":{\"field\":\"inertia\"}},\"id\":\"69145\",\"type\":\"Line\"},{\"attributes\":{\"coordinates\":null,\"data_source\":{\"id\":\"69142\"},\"glyph\":{\"id\":\"69145\"},\"group\":null,\"hover_glyph\":null,\"muted_glyph\":{\"id\":\"69147\"},\"nonselection_glyph\":{\"id\":\"69146\"},\"selection_glyph\":{\"id\":\"69150\"},\"view\":{\"id\":\"69149\"}},\"id\":\"69148\",\"type\":\"GlyphRenderer\"},{\"attributes\":{\"line_alpha\":0.1,\"line_color\":\"#52B2BF\",\"line_width\":3,\"x\":{\"field\":\"k\"},\"y\":{\"field\":\"inertia\"}},\"id\":\"69146\",\"type\":\"Line\"},{\"attributes\":{\"fill_color\":{\"value\":\"#E66C2C\"},\"hatch_color\":{\"value\":\"#E66C2C\"},\"line_color\":{\"value\":\"#E66C2C\"},\"size\":{\"value\":9},\"x\":{\"field\":\"k\"},\"y\":{\"field\":\"inertia\"}},\"id\":\"69154\",\"type\":\"Scatter\"},{\"attributes\":{},\"id\":\"69121\",\"type\":\"SaveTool\"},{\"attributes\":{},\"id\":\"69122\",\"type\":\"PanTool\"},{\"attributes\":{\"overlay\":{\"id\":\"69126\"}},\"id\":\"69124\",\"type\":\"BoxZoomTool\"},{\"attributes\":{},\"id\":\"69114\",\"type\":\"BasicTicker\"},{\"attributes\":{\"end\":10.1,\"reset_end\":10.1,\"reset_start\":0.9,\"start\":0.9,\"tags\":[[[\"k\",\"k\",null]]]},\"id\":\"69100\",\"type\":\"Range1d\"},{\"attributes\":{},\"id\":\"69118\",\"type\":\"BasicTicker\"},{\"attributes\":{},\"id\":\"69135\",\"type\":\"BasicTickFormatter\"},{\"attributes\":{\"axis_label\":\"Inertia\",\"axis_label_text_font_size\":\"15pt\",\"coordinates\":null,\"formatter\":{\"id\":\"69138\"},\"group\":null,\"major_label_policy\":{\"id\":\"69139\"},\"major_label_text_font_size\":\"12pt\",\"ticker\":{\"id\":\"69118\"}},\"id\":\"69117\",\"type\":\"LinearAxis\"},{\"attributes\":{\"line_alpha\":0.2,\"line_color\":\"#52B2BF\",\"line_width\":3,\"x\":{\"field\":\"k\"},\"y\":{\"field\":\"inertia\"}},\"id\":\"69147\",\"type\":\"Line\"},{\"attributes\":{\"children\":[{\"id\":\"69099\"},{\"id\":\"69104\"},{\"id\":\"69268\"}],\"margin\":[0,0,0,0],\"name\":\"Row139614\",\"tags\":[\"embedded\"]},\"id\":\"69098\",\"type\":\"Row\"},{\"attributes\":{},\"id\":\"69111\",\"type\":\"LinearScale\"},{\"attributes\":{},\"id\":\"69139\",\"type\":\"AllLabels\"},{\"attributes\":{\"margin\":[5,5,5,5],\"name\":\"HSpacer139618\",\"sizing_mode\":\"stretch_width\"},\"id\":\"69099\",\"type\":\"Spacer\"},{\"attributes\":{},\"id\":\"69138\",\"type\":\"BasicTickFormatter\"},{\"attributes\":{},\"id\":\"69125\",\"type\":\"ResetTool\"},{\"attributes\":{},\"id\":\"69167\",\"type\":\"UnionRenderers\"},{\"attributes\":{\"axis\":{\"id\":\"69117\"},\"coordinates\":null,\"dimension\":1,\"group\":null,\"ticker\":{\"id\":\"69118\"}},\"id\":\"69120\",\"type\":\"Grid\"},{\"attributes\":{},\"id\":\"69169\",\"type\":\"UnionRenderers\"},{\"attributes\":{\"angle\":{\"value\":0.0},\"fill_alpha\":{\"value\":1.0},\"fill_color\":{\"value\":\"#E66C2C\"},\"hatch_alpha\":{\"value\":1.0},\"hatch_color\":{\"value\":\"#E66C2C\"},\"hatch_scale\":{\"value\":12.0},\"hatch_weight\":{\"value\":1.0},\"line_alpha\":{\"value\":1.0},\"line_cap\":{\"value\":\"butt\"},\"line_color\":{\"value\":\"#E66C2C\"},\"line_dash\":{\"value\":[]},\"line_dash_offset\":{\"value\":0},\"line_join\":{\"value\":\"bevel\"},\"line_width\":{\"value\":1},\"marker\":{\"value\":\"circle\"},\"size\":{\"value\":9},\"x\":{\"field\":\"k\"},\"y\":{\"field\":\"inertia\"}},\"id\":\"69159\",\"type\":\"Scatter\"},{\"attributes\":{\"callback\":null,\"renderers\":[{\"id\":\"69148\"},{\"id\":\"69157\"}],\"tags\":[\"hv_created\"],\"tooltips\":[[\"k\",\"@{k}\"],[\"inertia\",\"@{inertia}\"]]},\"id\":\"69102\",\"type\":\"HoverTool\"},{\"attributes\":{\"below\":[{\"id\":\"69113\"}],\"center\":[{\"id\":\"69116\"},{\"id\":\"69120\"}],\"height\":350,\"left\":[{\"id\":\"69117\"}],\"margin\":[5,5,5,5],\"min_border_bottom\":10,\"min_border_left\":10,\"min_border_right\":10,\"min_border_top\":10,\"renderers\":[{\"id\":\"69148\"},{\"id\":\"69157\"}],\"sizing_mode\":\"fixed\",\"title\":{\"id\":\"69105\"},\"toolbar\":{\"id\":\"69127\"},\"width\":700,\"x_range\":{\"id\":\"69100\"},\"x_scale\":{\"id\":\"69109\"},\"y_range\":{\"id\":\"69101\"},\"y_scale\":{\"id\":\"69111\"}},\"id\":\"69104\",\"subtype\":\"Figure\",\"type\":\"Plot\"},{\"attributes\":{},\"id\":\"69123\",\"type\":\"WheelZoomTool\"},{\"attributes\":{\"coordinates\":null,\"group\":null,\"text\":\"Elbow Curve - PCA Data\",\"text_color\":\"black\",\"text_font_size\":\"18pt\"},\"id\":\"69105\",\"type\":\"Title\"},{\"attributes\":{\"bottom_units\":\"screen\",\"coordinates\":null,\"fill_alpha\":0.5,\"fill_color\":\"lightgrey\",\"group\":null,\"left_units\":\"screen\",\"level\":\"overlay\",\"line_alpha\":1.0,\"line_color\":\"black\",\"line_dash\":[4,4],\"line_width\":2,\"right_units\":\"screen\",\"syncable\":false,\"top_units\":\"screen\"},\"id\":\"69126\",\"type\":\"BoxAnnotation\"},{\"attributes\":{\"axis\":{\"id\":\"69113\"},\"coordinates\":null,\"group\":null,\"ticker\":{\"id\":\"69114\"}},\"id\":\"69116\",\"type\":\"Grid\"},{\"attributes\":{\"source\":{\"id\":\"69151\"}},\"id\":\"69158\",\"type\":\"CDSView\"},{\"attributes\":{\"fill_alpha\":{\"value\":0.1},\"fill_color\":{\"value\":\"#E66C2C\"},\"hatch_alpha\":{\"value\":0.1},\"hatch_color\":{\"value\":\"#E66C2C\"},\"line_alpha\":{\"value\":0.1},\"line_color\":{\"value\":\"#E66C2C\"},\"size\":{\"value\":9},\"x\":{\"field\":\"k\"},\"y\":{\"field\":\"inertia\"}},\"id\":\"69155\",\"type\":\"Scatter\"},{\"attributes\":{\"data\":{\"inertia\":{\"__ndarray__\":\"EAAmQfwNcEBNVJAi3bxkQP8sl3eTcVdAnoiJ/i7VSEBguxefc+tCQFa8U/V6uDtAcFbYdPopNUCsg8R/dRcxQP1qkhpScCtAL9PWkEP4JEA=\",\"dtype\":\"float64\",\"order\":\"little\",\"shape\":[10]},\"k\":[1,2,3,4,5,6,7,8,9,10]},\"selected\":{\"id\":\"69152\"},\"selection_policy\":{\"id\":\"69169\"}},\"id\":\"69151\",\"type\":\"ColumnDataSource\"},{\"attributes\":{\"fill_alpha\":{\"value\":0.2},\"fill_color\":{\"value\":\"#E66C2C\"},\"hatch_alpha\":{\"value\":0.2},\"hatch_color\":{\"value\":\"#E66C2C\"},\"line_alpha\":{\"value\":0.2},\"line_color\":{\"value\":\"#E66C2C\"},\"size\":{\"value\":9},\"x\":{\"field\":\"k\"},\"y\":{\"field\":\"inertia\"}},\"id\":\"69156\",\"type\":\"Scatter\"},{\"attributes\":{},\"id\":\"69152\",\"type\":\"Selection\"},{\"attributes\":{\"tools\":[{\"id\":\"69102\"},{\"id\":\"69121\"},{\"id\":\"69122\"},{\"id\":\"69123\"},{\"id\":\"69124\"},{\"id\":\"69125\"}]},\"id\":\"69127\",\"type\":\"Toolbar\"},{\"attributes\":{\"end\":281.5130050760841,\"reset_end\":281.5130050760841,\"reset_start\":-14.154029022214628,\"start\":-14.154029022214628,\"tags\":[[[\"inertia\",\"inertia\",null]]]},\"id\":\"69101\",\"type\":\"Range1d\"},{\"attributes\":{\"axis_label\":\"K Value\",\"axis_label_text_font_size\":\"15pt\",\"coordinates\":null,\"formatter\":{\"id\":\"69135\"},\"group\":null,\"major_label_policy\":{\"id\":\"69136\"},\"major_label_text_font_size\":\"12pt\",\"ticker\":{\"id\":\"69114\"}},\"id\":\"69113\",\"type\":\"LinearAxis\"},{\"attributes\":{\"data\":{\"inertia\":{\"__ndarray__\":\"EAAmQfwNcEBNVJAi3bxkQP8sl3eTcVdAnoiJ/i7VSEBguxefc+tCQFa8U/V6uDtAcFbYdPopNUCsg8R/dRcxQP1qkhpScCtAL9PWkEP4JEA=\",\"dtype\":\"float64\",\"order\":\"little\",\"shape\":[10]},\"k\":[1,2,3,4,5,6,7,8,9,10]},\"selected\":{\"id\":\"69143\"},\"selection_policy\":{\"id\":\"69167\"}},\"id\":\"69142\",\"type\":\"ColumnDataSource\"},{\"attributes\":{},\"id\":\"69143\",\"type\":\"Selection\"},{\"attributes\":{},\"id\":\"69136\",\"type\":\"AllLabels\"},{\"attributes\":{\"coordinates\":null,\"data_source\":{\"id\":\"69151\"},\"glyph\":{\"id\":\"69154\"},\"group\":null,\"hover_glyph\":null,\"muted_glyph\":{\"id\":\"69156\"},\"nonselection_glyph\":{\"id\":\"69155\"},\"selection_glyph\":{\"id\":\"69159\"},\"view\":{\"id\":\"69158\"}},\"id\":\"69157\",\"type\":\"GlyphRenderer\"}],\"root_ids\":[\"69098\"]},\"title\":\"Bokeh Application\",\"version\":\"2.4.2\"}};\n",
       "    var render_items = [{\"docid\":\"7fc48993-18d0-4b45-ba9c-c0fae7cd2d02\",\"root_ids\":[\"69098\"],\"roots\":{\"69098\":\"4904d1b0-8d21-4e08-9d95-6400ca250925\"}}];\n",
       "    root.Bokeh.embed.embed_items_notebook(docs_json, render_items);\n",
       "  }\n",
       "  if (root.Bokeh !== undefined && root.Bokeh.Panel !== undefined) {\n",
       "    embed_document(root);\n",
       "  } else {\n",
       "    var attempts = 0;\n",
       "    var timer = setInterval(function(root) {\n",
       "      if (root.Bokeh !== undefined && root.Bokeh.Panel !== undefined) {\n",
       "        clearInterval(timer);\n",
       "        embed_document(root);\n",
       "      } else if (document.readyState == \"complete\") {\n",
       "        attempts++;\n",
       "        if (attempts > 200) {\n",
       "          clearInterval(timer);\n",
       "          console.log(\"Bokeh: ERROR: Unable to run BokehJS code because BokehJS library is missing\");\n",
       "        }\n",
       "      }\n",
       "    }, 25, root)\n",
       "  }\n",
       "})(window);</script>"
      ],
      "text/plain": [
       ":Overlay\n",
       "   .Curve.I   :Curve   [k]   (inertia)\n",
       "   .Scatter.I :Scatter   [k]   (inertia)"
      ]
     },
     "execution_count": 683,
     "metadata": {
      "application/vnd.holoviews_exec.v0+json": {
       "id": "69098"
      }
     },
     "output_type": "execute_result"
    }
   ],
   "source": [
    "# Plot a line chart with all the inertia values computed with the different values of k to visually identify the optimal value for k.\n",
    "elbow_curve_plot_pca = get_styled_elbow_curve_plot(elbow_curve_df,'PCA')\n",
    "elbow_curve_plot_pca"
   ]
  },
  {
   "cell_type": "markdown",
   "metadata": {},
   "source": [
    "#### Answer the following questions: What is the best value for k when using the PCA data? Does it differ from the best k value found using the original data?\n",
    "* **Question:** What is the best value for `k` when using the PCA data?\n",
    "\n",
    "  * **Answer:** The best value for `k` when using the PCA data is 4.\n",
    "\n",
    "\n",
    "* **Question:** Does it differ from the best k value found using the original data?\n",
    "\n",
    "  * **Answer:** This does not differ from the best k value found using the original data."
   ]
  },
  {
   "cell_type": "markdown",
   "metadata": {},
   "source": [
    "---"
   ]
  },
  {
   "cell_type": "markdown",
   "metadata": {},
   "source": [
    "### Cluster Cryptocurrencies with K-means Using the PCA Data\n",
    "\n",
    "In this section, you will use the PCA data and the K-Means algorithm with the best value for `k` found in the previous section to cluster the cryptocurrencies according to the principal components.\n",
    "\n",
    "1. Initialize the K-Means model with four clusters using the best value for `k`. \n",
    "\n",
    "2. Fit the K-Means model using the PCA data.\n",
    "\n",
    "3. Predict the clusters to group the cryptocurrencies using the PCA data. View the resulting array of cluster values.\n",
    "\n",
    "4. Add a new column to the DataFrame with the PCA data to store the predicted clusters.\n",
    "\n",
    "5. Create a scatter plot using hvPlot by setting `x=\"PC1\"` and `y=\"PC2\"`. Color the graph points with the labels found using K-Means and add the crypto name in the `hover_cols` parameter to identify the cryptocurrency represented by each data point."
   ]
  },
  {
   "cell_type": "code",
   "execution_count": 684,
   "metadata": {},
   "outputs": [],
   "source": [
    "# Initialize the K-Means model using the best value for k\n",
    "model = KMeans(n_clusters=4)"
   ]
  },
  {
   "cell_type": "code",
   "execution_count": 685,
   "metadata": {},
   "outputs": [
    {
     "data": {
      "text/plain": [
       "KMeans(n_clusters=4)"
      ]
     },
     "execution_count": 685,
     "metadata": {},
     "output_type": "execute_result"
    }
   ],
   "source": [
    "# Fit the K-Means model using the PCA data\n",
    "model.fit(df_market_data_pca)"
   ]
  },
  {
   "cell_type": "code",
   "execution_count": 686,
   "metadata": {},
   "outputs": [
    {
     "name": "stdout",
     "output_type": "stream",
     "text": [
      "[3 3 0 0 3 3 3 3 3 0 0 0 0 3 0 3 0 0 3 0 0 3 0 0 0 0 0 0 3 0 0 0 1 3 0 0 2\n",
      " 0 0 0 0]\n"
     ]
    }
   ],
   "source": [
    "# Predict the clusters to group the cryptocurrencies using the PCA data\n",
    "# View the resulting array of cluster values.\n",
    "predicted_clusters = get_view_predicted_clusters(model,df_market_data_pca)"
   ]
  },
  {
   "cell_type": "code",
   "execution_count": 687,
   "metadata": {},
   "outputs": [],
   "source": [
    "# Create a copy of the DataFrame with the PCA data\n",
    "# Add a new column to the DataFrame with the predicted clusters\n",
    "# Display sample data\n",
    "df_market_data_scaled_copy = get_view_copy_df(df_market_data_scaled, predicted_clusters, True)"
   ]
  },
  {
   "cell_type": "code",
   "execution_count": 688,
   "metadata": {},
   "outputs": [
    {
     "data": {},
     "metadata": {},
     "output_type": "display_data"
    },
    {
     "data": {
      "application/vnd.holoviews_exec.v0+json": "",
      "text/html": [
       "<div id='69330'>\n",
       "\n",
       "\n",
       "\n",
       "\n",
       "\n",
       "  <div class=\"bk-root\" id=\"1ba6eb36-b364-40ef-93ff-1c25b4d6f3bd\" data-root-id=\"69330\"></div>\n",
       "</div>\n",
       "<script type=\"application/javascript\">(function(root) {\n",
       "  function embed_document(root) {\n",
       "    var docs_json = {\"94cefce4-3c4c-4b50-bac2-09b6b29da3dd\":{\"defs\":[{\"extends\":null,\"module\":null,\"name\":\"ReactiveHTML1\",\"overrides\":[],\"properties\":[]},{\"extends\":null,\"module\":null,\"name\":\"FlexBox1\",\"overrides\":[],\"properties\":[{\"default\":\"flex-start\",\"kind\":null,\"name\":\"align_content\"},{\"default\":\"flex-start\",\"kind\":null,\"name\":\"align_items\"},{\"default\":\"row\",\"kind\":null,\"name\":\"flex_direction\"},{\"default\":\"wrap\",\"kind\":null,\"name\":\"flex_wrap\"},{\"default\":\"flex-start\",\"kind\":null,\"name\":\"justify_content\"}]},{\"extends\":null,\"module\":null,\"name\":\"GridStack1\",\"overrides\":[],\"properties\":[{\"default\":\"warn\",\"kind\":null,\"name\":\"mode\"},{\"default\":null,\"kind\":null,\"name\":\"ncols\"},{\"default\":null,\"kind\":null,\"name\":\"nrows\"},{\"default\":true,\"kind\":null,\"name\":\"allow_resize\"},{\"default\":true,\"kind\":null,\"name\":\"allow_drag\"},{\"default\":[],\"kind\":null,\"name\":\"state\"}]},{\"extends\":null,\"module\":null,\"name\":\"click1\",\"overrides\":[],\"properties\":[{\"default\":\"\",\"kind\":null,\"name\":\"terminal_output\"},{\"default\":\"\",\"kind\":null,\"name\":\"debug_name\"},{\"default\":0,\"kind\":null,\"name\":\"clears\"}]},{\"extends\":null,\"module\":null,\"name\":\"TemplateActions1\",\"overrides\":[],\"properties\":[{\"default\":0,\"kind\":null,\"name\":\"open_modal\"},{\"default\":0,\"kind\":null,\"name\":\"close_modal\"}]},{\"extends\":null,\"module\":null,\"name\":\"MaterialTemplateActions1\",\"overrides\":[],\"properties\":[{\"default\":0,\"kind\":null,\"name\":\"open_modal\"},{\"default\":0,\"kind\":null,\"name\":\"close_modal\"}]}],\"roots\":{\"references\":[{\"attributes\":{\"angle\":{\"value\":0.7853981633974483},\"fill_alpha\":{\"value\":0.1},\"fill_color\":{\"value\":\"#30a2da\"},\"hatch_alpha\":{\"value\":0.1},\"hatch_color\":{\"value\":\"#30a2da\"},\"line_alpha\":{\"value\":0.1},\"line_color\":{\"value\":\"#30a2da\"},\"line_width\":{\"value\":2},\"marker\":{\"value\":\"cross\"},\"size\":{\"value\":10.0},\"x\":{\"field\":\"PC1\"},\"y\":{\"field\":\"PC2\"}},\"id\":\"69380\",\"type\":\"Scatter\"},{\"attributes\":{},\"id\":\"69370\",\"type\":\"AllLabels\"},{\"attributes\":{},\"id\":\"69343\",\"type\":\"LinearScale\"},{\"attributes\":{\"angle\":{\"value\":0.7853981633974483},\"fill_alpha\":{\"value\":1.0},\"fill_color\":{\"value\":\"#30a2da\"},\"hatch_alpha\":{\"value\":1.0},\"hatch_color\":{\"value\":\"#30a2da\"},\"hatch_scale\":{\"value\":12.0},\"hatch_weight\":{\"value\":1.0},\"line_alpha\":{\"value\":1.0},\"line_cap\":{\"value\":\"butt\"},\"line_color\":{\"value\":\"#30a2da\"},\"line_dash\":{\"value\":[]},\"line_dash_offset\":{\"value\":0},\"line_join\":{\"value\":\"bevel\"},\"line_width\":{\"value\":2},\"marker\":{\"value\":\"cross\"},\"size\":{\"value\":10.0},\"x\":{\"field\":\"PC1\"},\"y\":{\"field\":\"PC2\"}},\"id\":\"69396\",\"type\":\"Scatter\"},{\"attributes\":{\"fill_alpha\":{\"value\":0.2},\"fill_color\":{\"value\":\"#6d904f\"},\"hatch_alpha\":{\"value\":0.2},\"hatch_color\":{\"value\":\"#6d904f\"},\"line_alpha\":{\"value\":0.2},\"line_color\":{\"value\":\"#6d904f\"},\"line_width\":{\"value\":2},\"marker\":{\"value\":\"cross\"},\"size\":{\"value\":10.0},\"x\":{\"field\":\"PC1\"},\"y\":{\"field\":\"PC2\"}},\"id\":\"69448\",\"type\":\"Scatter\"},{\"attributes\":{\"source\":{\"id\":\"69419\"}},\"id\":\"69426\",\"type\":\"CDSView\"},{\"attributes\":{},\"id\":\"69444\",\"type\":\"Selection\"},{\"attributes\":{\"angle\":{\"value\":0.7853981633974483},\"fill_color\":{\"value\":\"#30a2da\"},\"hatch_color\":{\"value\":\"#30a2da\"},\"line_color\":{\"value\":\"#30a2da\"},\"line_width\":{\"value\":2},\"marker\":{\"value\":\"cross\"},\"size\":{\"value\":10.0},\"x\":{\"field\":\"PC1\"},\"y\":{\"field\":\"PC2\"}},\"id\":\"69379\",\"type\":\"Scatter\"},{\"attributes\":{\"end\":8.520536396835196,\"reset_end\":8.520536396835196,\"reset_start\":-1.589318154510241,\"start\":-1.589318154510241,\"tags\":[[[\"PC1\",\"PC1\",null]]]},\"id\":\"69332\",\"type\":\"Range1d\"},{\"attributes\":{},\"id\":\"69355\",\"type\":\"SaveTool\"},{\"attributes\":{\"bottom_units\":\"screen\",\"coordinates\":null,\"fill_alpha\":0.5,\"fill_color\":\"lightgrey\",\"group\":null,\"left_units\":\"screen\",\"level\":\"overlay\",\"line_alpha\":1.0,\"line_color\":\"black\",\"line_dash\":[4,4],\"line_width\":2,\"right_units\":\"screen\",\"syncable\":false,\"top_units\":\"screen\"},\"id\":\"69360\",\"type\":\"BoxAnnotation\"},{\"attributes\":{\"fill_alpha\":{\"value\":0.2},\"fill_color\":{\"value\":\"#e5ae38\"},\"hatch_alpha\":{\"value\":0.2},\"hatch_color\":{\"value\":\"#e5ae38\"},\"line_alpha\":{\"value\":0.2},\"line_color\":{\"value\":\"#e5ae38\"},\"line_width\":{\"value\":2},\"marker\":{\"value\":\"triangle\"},\"size\":{\"value\":10.0},\"x\":{\"field\":\"PC1\"},\"y\":{\"field\":\"PC2\"}},\"id\":\"69424\",\"type\":\"Scatter\"},{\"attributes\":{\"source\":{\"id\":\"69397\"}},\"id\":\"69404\",\"type\":\"CDSView\"},{\"attributes\":{\"data\":{\"PC1\":{\"__ndarray__\":\"UpZ8amq327/+YHw2izLev+nya5vXSei/yvxzoPfEz7+Rh/TX3g7cv6kZGVOKMOa/e0wjp68s2b8TArsJMGewPx6zldMFTN+/EOkqwdFu4L9jF4kx+yzXv/YSO2dvc9q/4REoujMU2r+1ZdmqtnzjP/NN1mNC0Ny/tNi9MiN46L9+su9uVM3hv+ZGFZE5agVAvyC8UEGl47/RvuS6vI7iv74JKydStOs/mZO6/7yWvD8GXcBgQDzkv5EbmkYF++K/F71JmQJS3b8d4q/49hDTvw==\",\"dtype\":\"float64\",\"order\":\"little\",\"shape\":[26]},\"PC2\":{\"__ndarray__\":\"DNF7TyqFxb8Hj1UaIIDMv/LgzCbqwMm/yToUYyAF9r9HZsaEbXHGv+LIIJL6Ut6/dCq0IHiyu79tgFApNFH0v9+gJl5vcue/SpKaSllHwr+siEuGzZTvv1n5wy5akuW/P93jHmozy7+HF2SFdAjiP/AtIf2aVMO/BeuFsYSS4L9UbbiA5wL/v4GlJoz3k4y/L48PRXSt3r/B3rYoLM7Wv3T+1spVGALAhSEohoZp2z84qFKDbN0AwNcT7msnAJY/2vStmbtfwb9cSPDBzXbIvw==\",\"dtype\":\"float64\",\"order\":\"little\",\"shape\":[26]},\"Predicted_Cluster\":[0,0,0,0,0,0,0,0,0,0,0,0,0,0,0,0,0,0,0,0,0,0,0,0,0,0]},\"selected\":{\"id\":\"69377\"},\"selection_policy\":{\"id\":\"69391\"}},\"id\":\"69376\",\"type\":\"ColumnDataSource\"},{\"attributes\":{\"below\":[{\"id\":\"69347\"}],\"center\":[{\"id\":\"69350\"},{\"id\":\"69354\"}],\"height\":350,\"left\":[{\"id\":\"69351\"}],\"margin\":[5,5,5,5],\"min_border_bottom\":10,\"min_border_left\":10,\"min_border_right\":10,\"min_border_top\":10,\"renderers\":[{\"id\":\"69382\"},{\"id\":\"69403\"},{\"id\":\"69425\"},{\"id\":\"69449\"}],\"right\":[{\"id\":\"69394\"}],\"sizing_mode\":\"fixed\",\"title\":{\"id\":\"69339\"},\"toolbar\":{\"id\":\"69361\"},\"width\":750,\"x_range\":{\"id\":\"69332\"},\"x_scale\":{\"id\":\"69343\"},\"y_range\":{\"id\":\"69333\"},\"y_scale\":{\"id\":\"69345\"}},\"id\":\"69338\",\"subtype\":\"Figure\",\"type\":\"Plot\"},{\"attributes\":{\"fill_alpha\":{\"value\":0.1},\"fill_color\":{\"value\":\"#6d904f\"},\"hatch_alpha\":{\"value\":0.1},\"hatch_color\":{\"value\":\"#6d904f\"},\"line_alpha\":{\"value\":0.1},\"line_color\":{\"value\":\"#6d904f\"},\"line_width\":{\"value\":2},\"marker\":{\"value\":\"cross\"},\"size\":{\"value\":10.0},\"x\":{\"field\":\"PC1\"},\"y\":{\"field\":\"PC2\"}},\"id\":\"69447\",\"type\":\"Scatter\"},{\"attributes\":{\"end\":7.834135596337104,\"reset_end\":7.834135596337104,\"reset_start\":-4.963347456561431,\"start\":-4.963347456561431,\"tags\":[[[\"PC2\",\"PC2\",null]]]},\"id\":\"69333\",\"type\":\"Range1d\"},{\"attributes\":{},\"id\":\"69420\",\"type\":\"Selection\"},{\"attributes\":{},\"id\":\"69464\",\"type\":\"UnionRenderers\"},{\"attributes\":{\"coordinates\":null,\"data_source\":{\"id\":\"69419\"},\"glyph\":{\"id\":\"69422\"},\"group\":null,\"hover_glyph\":null,\"muted_glyph\":{\"id\":\"69424\"},\"nonselection_glyph\":{\"id\":\"69423\"},\"selection_glyph\":{\"id\":\"69442\"},\"view\":{\"id\":\"69426\"}},\"id\":\"69425\",\"type\":\"GlyphRenderer\"},{\"attributes\":{\"angle\":{\"value\":0},\"fill_alpha\":{\"value\":1.0},\"fill_color\":{\"value\":\"#e5ae38\"},\"hatch_alpha\":{\"value\":1.0},\"hatch_color\":{\"value\":\"#e5ae38\"},\"hatch_scale\":{\"value\":12.0},\"hatch_weight\":{\"value\":1.0},\"line_alpha\":{\"value\":1.0},\"line_cap\":{\"value\":\"butt\"},\"line_color\":{\"value\":\"#e5ae38\"},\"line_dash\":{\"value\":[]},\"line_dash_offset\":{\"value\":0},\"line_join\":{\"value\":\"bevel\"},\"line_width\":{\"value\":2},\"marker\":{\"value\":\"triangle\"},\"size\":{\"value\":10.0},\"x\":{\"field\":\"PC1\"},\"y\":{\"field\":\"PC2\"}},\"id\":\"69442\",\"type\":\"Scatter\"},{\"attributes\":{\"source\":{\"id\":\"69376\"}},\"id\":\"69383\",\"type\":\"CDSView\"},{\"attributes\":{\"angle\":{\"value\":0.0},\"fill_alpha\":{\"value\":1.0},\"fill_color\":{\"value\":\"#fc4f30\"},\"hatch_alpha\":{\"value\":1.0},\"hatch_color\":{\"value\":\"#fc4f30\"},\"hatch_scale\":{\"value\":12.0},\"hatch_weight\":{\"value\":1.0},\"line_alpha\":{\"value\":1.0},\"line_cap\":{\"value\":\"butt\"},\"line_color\":{\"value\":\"#fc4f30\"},\"line_dash\":{\"value\":[]},\"line_dash_offset\":{\"value\":0},\"line_join\":{\"value\":\"bevel\"},\"line_width\":{\"value\":2},\"marker\":{\"value\":\"asterisk\"},\"size\":{\"value\":10.0},\"x\":{\"field\":\"PC1\"},\"y\":{\"field\":\"PC2\"}},\"id\":\"69418\",\"type\":\"Scatter\"},{\"attributes\":{\"axis_label\":\"PC1\",\"axis_label_text_font_size\":\"14pt\",\"coordinates\":null,\"formatter\":{\"id\":\"69369\"},\"group\":null,\"major_label_policy\":{\"id\":\"69370\"},\"major_label_text_font_size\":\"12pt\",\"ticker\":{\"id\":\"69348\"}},\"id\":\"69347\",\"type\":\"LinearAxis\"},{\"attributes\":{\"angle\":{\"value\":0.0},\"fill_alpha\":{\"value\":1.0},\"fill_color\":{\"value\":\"#6d904f\"},\"hatch_alpha\":{\"value\":1.0},\"hatch_color\":{\"value\":\"#6d904f\"},\"hatch_scale\":{\"value\":12.0},\"hatch_weight\":{\"value\":1.0},\"line_alpha\":{\"value\":1.0},\"line_cap\":{\"value\":\"butt\"},\"line_color\":{\"value\":\"#6d904f\"},\"line_dash\":{\"value\":[]},\"line_dash_offset\":{\"value\":0},\"line_join\":{\"value\":\"bevel\"},\"line_width\":{\"value\":2},\"marker\":{\"value\":\"cross\"},\"size\":{\"value\":10.0},\"x\":{\"field\":\"PC1\"},\"y\":{\"field\":\"PC2\"}},\"id\":\"69468\",\"type\":\"Scatter\"},{\"attributes\":{\"callback\":null,\"renderers\":[{\"id\":\"69382\"},{\"id\":\"69403\"},{\"id\":\"69425\"},{\"id\":\"69449\"}],\"tags\":[\"hv_created\"],\"tooltips\":[[\"Predicted Cluster\",\"@{Predicted_Cluster}\"],[\"PC1\",\"@{PC1}\"],[\"PC2\",\"@{PC2}\"]]},\"id\":\"69334\",\"type\":\"HoverTool\"},{\"attributes\":{\"axis\":{\"id\":\"69351\"},\"coordinates\":null,\"dimension\":1,\"group\":null,\"ticker\":{\"id\":\"69352\"}},\"id\":\"69354\",\"type\":\"Grid\"},{\"attributes\":{\"data\":{\"PC1\":{\"__ndarray__\":\"OFWiy5MtIEA=\",\"dtype\":\"float64\",\"order\":\"little\",\"shape\":[1]},\"PC2\":{\"__ndarray__\":\"qg3w8dQsD8A=\",\"dtype\":\"float64\",\"order\":\"little\",\"shape\":[1]},\"Predicted_Cluster\":[1]},\"selected\":{\"id\":\"69398\"},\"selection_policy\":{\"id\":\"69414\"}},\"id\":\"69397\",\"type\":\"ColumnDataSource\"},{\"attributes\":{\"fill_alpha\":{\"value\":0.1},\"fill_color\":{\"value\":\"#fc4f30\"},\"hatch_alpha\":{\"value\":0.1},\"hatch_color\":{\"value\":\"#fc4f30\"},\"line_alpha\":{\"value\":0.1},\"line_color\":{\"value\":\"#fc4f30\"},\"line_width\":{\"value\":2},\"marker\":{\"value\":\"asterisk\"},\"size\":{\"value\":10.0},\"x\":{\"field\":\"PC1\"},\"y\":{\"field\":\"PC2\"}},\"id\":\"69401\",\"type\":\"Scatter\"},{\"attributes\":{},\"id\":\"69369\",\"type\":\"BasicTickFormatter\"},{\"attributes\":{\"data\":{\"PC1\":{\"__ndarray__\":\"8PTQrqo447+O0e2+JFTdvxUTj0NZhvK/u9IJ1HGH4L+6WkdgdNjcv6n9x3tOHta/c21M83DI5L9qwE+KvvmuP8AxxVNFeum/dM6LH/eZ07+c3W/HIlbjvx/z5tCaNdu/skmjFh7m2L8=\",\"dtype\":\"float64\",\"order\":\"little\",\"shape\":[13]},\"PC2\":{\"__ndarray__\":\"xQJY8+P36j+zP81egFfdP7hEN3tlVABAgaRxTss29j/nZPC8/ZDgP6HE/UiRV+c/yS0795eo2z+Y9tOGdUYHQO2jnptkpN+/ikNue2CC5j+ECxibCnrqPyR1su7rjN8/skntLg0gxT8=\",\"dtype\":\"float64\",\"order\":\"little\",\"shape\":[13]},\"Predicted_Cluster\":[3,3,3,3,3,3,3,3,3,3,3,3,3]},\"selected\":{\"id\":\"69444\"},\"selection_policy\":{\"id\":\"69464\"}},\"id\":\"69443\",\"type\":\"ColumnDataSource\"},{\"attributes\":{\"margin\":[5,5,5,5],\"name\":\"HSpacer140135\",\"sizing_mode\":\"stretch_width\"},\"id\":\"69613\",\"type\":\"Spacer\"},{\"attributes\":{\"coordinates\":null,\"data_source\":{\"id\":\"69376\"},\"glyph\":{\"id\":\"69379\"},\"group\":null,\"hover_glyph\":null,\"muted_glyph\":{\"id\":\"69381\"},\"nonselection_glyph\":{\"id\":\"69380\"},\"selection_glyph\":{\"id\":\"69396\"},\"view\":{\"id\":\"69383\"}},\"id\":\"69382\",\"type\":\"GlyphRenderer\"},{\"attributes\":{\"axis\":{\"id\":\"69347\"},\"coordinates\":null,\"group\":null,\"ticker\":{\"id\":\"69348\"}},\"id\":\"69350\",\"type\":\"Grid\"},{\"attributes\":{\"coordinates\":null,\"data_source\":{\"id\":\"69443\"},\"glyph\":{\"id\":\"69446\"},\"group\":null,\"hover_glyph\":null,\"muted_glyph\":{\"id\":\"69448\"},\"nonselection_glyph\":{\"id\":\"69447\"},\"selection_glyph\":{\"id\":\"69468\"},\"view\":{\"id\":\"69450\"}},\"id\":\"69449\",\"type\":\"GlyphRenderer\"},{\"attributes\":{},\"id\":\"69391\",\"type\":\"UnionRenderers\"},{\"attributes\":{\"click_policy\":\"mute\",\"coordinates\":null,\"group\":null,\"items\":[{\"id\":\"69395\"},{\"id\":\"69417\"},{\"id\":\"69441\"},{\"id\":\"69467\"}],\"label_text_font_size\":\"12pt\",\"location\":[0,0],\"title\":\"Predicted Cluster\",\"title_text_font_size\":\"13pt\"},\"id\":\"69394\",\"type\":\"Legend\"},{\"attributes\":{\"fill_color\":{\"value\":\"#6d904f\"},\"hatch_color\":{\"value\":\"#6d904f\"},\"line_color\":{\"value\":\"#6d904f\"},\"line_width\":{\"value\":2},\"marker\":{\"value\":\"cross\"},\"size\":{\"value\":10.0},\"x\":{\"field\":\"PC1\"},\"y\":{\"field\":\"PC2\"}},\"id\":\"69446\",\"type\":\"Scatter\"},{\"attributes\":{},\"id\":\"69352\",\"type\":\"BasicTicker\"},{\"attributes\":{\"coordinates\":null,\"group\":null,\"text\":\"Crypto Clusters - PCA Data\",\"text_color\":\"black\",\"text_font_size\":\"17pt\"},\"id\":\"69339\",\"type\":\"Title\"},{\"attributes\":{\"fill_color\":{\"value\":\"#fc4f30\"},\"hatch_color\":{\"value\":\"#fc4f30\"},\"line_color\":{\"value\":\"#fc4f30\"},\"line_width\":{\"value\":2},\"marker\":{\"value\":\"asterisk\"},\"size\":{\"value\":10.0},\"x\":{\"field\":\"PC1\"},\"y\":{\"field\":\"PC2\"}},\"id\":\"69400\",\"type\":\"Scatter\"},{\"attributes\":{},\"id\":\"69438\",\"type\":\"UnionRenderers\"},{\"attributes\":{\"fill_alpha\":{\"value\":0.2},\"fill_color\":{\"value\":\"#fc4f30\"},\"hatch_alpha\":{\"value\":0.2},\"hatch_color\":{\"value\":\"#fc4f30\"},\"line_alpha\":{\"value\":0.2},\"line_color\":{\"value\":\"#fc4f30\"},\"line_width\":{\"value\":2},\"marker\":{\"value\":\"asterisk\"},\"size\":{\"value\":10.0},\"x\":{\"field\":\"PC1\"},\"y\":{\"field\":\"PC2\"}},\"id\":\"69402\",\"type\":\"Scatter\"},{\"attributes\":{\"angle\":{\"value\":0.7853981633974483},\"fill_alpha\":{\"value\":0.2},\"fill_color\":{\"value\":\"#30a2da\"},\"hatch_alpha\":{\"value\":0.2},\"hatch_color\":{\"value\":\"#30a2da\"},\"line_alpha\":{\"value\":0.2},\"line_color\":{\"value\":\"#30a2da\"},\"line_width\":{\"value\":2},\"marker\":{\"value\":\"cross\"},\"size\":{\"value\":10.0},\"x\":{\"field\":\"PC1\"},\"y\":{\"field\":\"PC2\"}},\"id\":\"69381\",\"type\":\"Scatter\"},{\"attributes\":{\"label\":{\"value\":\"3\"},\"renderers\":[{\"id\":\"69449\"}]},\"id\":\"69467\",\"type\":\"LegendItem\"},{\"attributes\":{},\"id\":\"69356\",\"type\":\"PanTool\"},{\"attributes\":{\"source\":{\"id\":\"69443\"}},\"id\":\"69450\",\"type\":\"CDSView\"},{\"attributes\":{},\"id\":\"69357\",\"type\":\"WheelZoomTool\"},{\"attributes\":{},\"id\":\"69414\",\"type\":\"UnionRenderers\"},{\"attributes\":{},\"id\":\"69345\",\"type\":\"LinearScale\"},{\"attributes\":{\"label\":{\"value\":\"0\"},\"renderers\":[{\"id\":\"69382\"}]},\"id\":\"69395\",\"type\":\"LegendItem\"},{\"attributes\":{},\"id\":\"69359\",\"type\":\"ResetTool\"},{\"attributes\":{\"tools\":[{\"id\":\"69334\"},{\"id\":\"69355\"},{\"id\":\"69356\"},{\"id\":\"69357\"},{\"id\":\"69358\"},{\"id\":\"69359\"}]},\"id\":\"69361\",\"type\":\"Toolbar\"},{\"attributes\":{\"data\":{\"PC1\":{\"__ndarray__\":\"hBQ7s2krE0A=\",\"dtype\":\"float64\",\"order\":\"little\",\"shape\":[1]},\"PC2\":{\"__ndarray__\":\"+VnQWxoSG0A=\",\"dtype\":\"float64\",\"order\":\"little\",\"shape\":[1]},\"Predicted_Cluster\":[2]},\"selected\":{\"id\":\"69420\"},\"selection_policy\":{\"id\":\"69438\"}},\"id\":\"69419\",\"type\":\"ColumnDataSource\"},{\"attributes\":{\"margin\":[5,5,5,5],\"name\":\"HSpacer140134\",\"sizing_mode\":\"stretch_width\"},\"id\":\"69331\",\"type\":\"Spacer\"},{\"attributes\":{\"fill_color\":{\"value\":\"#e5ae38\"},\"hatch_color\":{\"value\":\"#e5ae38\"},\"line_color\":{\"value\":\"#e5ae38\"},\"line_width\":{\"value\":2},\"marker\":{\"value\":\"triangle\"},\"size\":{\"value\":10.0},\"x\":{\"field\":\"PC1\"},\"y\":{\"field\":\"PC2\"}},\"id\":\"69422\",\"type\":\"Scatter\"},{\"attributes\":{},\"id\":\"69373\",\"type\":\"AllLabels\"},{\"attributes\":{\"fill_alpha\":{\"value\":0.1},\"fill_color\":{\"value\":\"#e5ae38\"},\"hatch_alpha\":{\"value\":0.1},\"hatch_color\":{\"value\":\"#e5ae38\"},\"line_alpha\":{\"value\":0.1},\"line_color\":{\"value\":\"#e5ae38\"},\"line_width\":{\"value\":2},\"marker\":{\"value\":\"triangle\"},\"size\":{\"value\":10.0},\"x\":{\"field\":\"PC1\"},\"y\":{\"field\":\"PC2\"}},\"id\":\"69423\",\"type\":\"Scatter\"},{\"attributes\":{\"children\":[{\"id\":\"69331\"},{\"id\":\"69338\"},{\"id\":\"69613\"}],\"margin\":[0,0,0,0],\"name\":\"Row140130\",\"tags\":[\"embedded\"]},\"id\":\"69330\",\"type\":\"Row\"},{\"attributes\":{\"overlay\":{\"id\":\"69360\"}},\"id\":\"69358\",\"type\":\"BoxZoomTool\"},{\"attributes\":{\"label\":{\"value\":\"2\"},\"renderers\":[{\"id\":\"69425\"}]},\"id\":\"69441\",\"type\":\"LegendItem\"},{\"attributes\":{},\"id\":\"69348\",\"type\":\"BasicTicker\"},{\"attributes\":{},\"id\":\"69372\",\"type\":\"BasicTickFormatter\"},{\"attributes\":{\"coordinates\":null,\"data_source\":{\"id\":\"69397\"},\"glyph\":{\"id\":\"69400\"},\"group\":null,\"hover_glyph\":null,\"muted_glyph\":{\"id\":\"69402\"},\"nonselection_glyph\":{\"id\":\"69401\"},\"selection_glyph\":{\"id\":\"69418\"},\"view\":{\"id\":\"69404\"}},\"id\":\"69403\",\"type\":\"GlyphRenderer\"},{\"attributes\":{},\"id\":\"69377\",\"type\":\"Selection\"},{\"attributes\":{},\"id\":\"69398\",\"type\":\"Selection\"},{\"attributes\":{\"axis_label\":\"PC2\",\"axis_label_text_font_size\":\"14pt\",\"coordinates\":null,\"formatter\":{\"id\":\"69372\"},\"group\":null,\"major_label_policy\":{\"id\":\"69373\"},\"major_label_text_font_size\":\"12pt\",\"ticker\":{\"id\":\"69352\"}},\"id\":\"69351\",\"type\":\"LinearAxis\"},{\"attributes\":{\"label\":{\"value\":\"1\"},\"renderers\":[{\"id\":\"69403\"}]},\"id\":\"69417\",\"type\":\"LegendItem\"}],\"root_ids\":[\"69330\"]},\"title\":\"Bokeh Application\",\"version\":\"2.4.2\"}};\n",
       "    var render_items = [{\"docid\":\"94cefce4-3c4c-4b50-bac2-09b6b29da3dd\",\"root_ids\":[\"69330\"],\"roots\":{\"69330\":\"1ba6eb36-b364-40ef-93ff-1c25b4d6f3bd\"}}];\n",
       "    root.Bokeh.embed.embed_items_notebook(docs_json, render_items);\n",
       "  }\n",
       "  if (root.Bokeh !== undefined && root.Bokeh.Panel !== undefined) {\n",
       "    embed_document(root);\n",
       "  } else {\n",
       "    var attempts = 0;\n",
       "    var timer = setInterval(function(root) {\n",
       "      if (root.Bokeh !== undefined && root.Bokeh.Panel !== undefined) {\n",
       "        clearInterval(timer);\n",
       "        embed_document(root);\n",
       "      } else if (document.readyState == \"complete\") {\n",
       "        attempts++;\n",
       "        if (attempts > 200) {\n",
       "          clearInterval(timer);\n",
       "          console.log(\"Bokeh: ERROR: Unable to run BokehJS code because BokehJS library is missing\");\n",
       "        }\n",
       "      }\n",
       "    }, 25, root)\n",
       "  }\n",
       "})(window);</script>"
      ],
      "text/plain": [
       ":NdOverlay   [Predicted Cluster]\n",
       "   :Scatter   [PC1]   (PC2)"
      ]
     },
     "execution_count": 688,
     "metadata": {
      "application/vnd.holoviews_exec.v0+json": {
       "id": "69330"
      }
     },
     "output_type": "execute_result"
    }
   ],
   "source": [
    "# Create a scatter plot using hvPlot by setting \n",
    "# `x=\"PC1\"` and `y=\"PC2\"`. \n",
    "# Color the graph points with the labels found using K-Means and add the crypto name in the `hover_cols` parameter to identify the cryptocurrency represented by each data point.\n",
    "cluster_scatter_plot_pca = get_cluster_scatter_plot(df_market_data_pca_copy,'PCA', 'PC1','PC2')\n",
    "cluster_scatter_plot_pca"
   ]
  },
  {
   "cell_type": "markdown",
   "metadata": {},
   "source": [
    "---"
   ]
  },
  {
   "cell_type": "markdown",
   "metadata": {},
   "source": [
    "### Visualize and Compare the Results\n",
    "\n",
    "In this section, you will visually analyze the cluster analysis results by contrasting the outcome with and without using the optimization techniques.\n",
    "\n",
    "1. Create a composite plot using hvPlot and the plus (`+`) operator to contrast the Elbow Curve that you created to find the best value for `k` with the original and the PCA data.\n",
    "\n",
    "2. Create a composite plot using hvPlot and the plus (`+`) operator to contrast the cryptocurrencies clusters using the original and the PCA data.\n",
    "\n",
    "3. Answer the following question: After visually analyzing the cluster analysis results, what is the impact of using fewer features to cluster the data using K-Means?\n",
    "\n",
    "> **Rewind:** Back in Lesson 3 of Module 6, you learned how to create composite plots. You can look at that lesson to review how to make these plots; also, you can check [the hvPlot documentation](https://holoviz.org/tutorial/Composing_Plots.html)."
   ]
  },
  {
   "cell_type": "code",
   "execution_count": 689,
   "metadata": {},
   "outputs": [
    {
     "data": {},
     "metadata": {},
     "output_type": "display_data"
    },
    {
     "data": {
      "application/vnd.holoviews_exec.v0+json": "",
      "text/html": [
       "<div id='69695'>\n",
       "\n",
       "\n",
       "\n",
       "\n",
       "\n",
       "  <div class=\"bk-root\" id=\"b45b973e-b28e-43e4-9586-977e42231338\" data-root-id=\"69695\"></div>\n",
       "</div>\n",
       "<script type=\"application/javascript\">(function(root) {\n",
       "  function embed_document(root) {\n",
       "    var docs_json = {\"1ca424a8-de29-46db-b45e-2f344b11a4de\":{\"defs\":[{\"extends\":null,\"module\":null,\"name\":\"ReactiveHTML1\",\"overrides\":[],\"properties\":[]},{\"extends\":null,\"module\":null,\"name\":\"FlexBox1\",\"overrides\":[],\"properties\":[{\"default\":\"flex-start\",\"kind\":null,\"name\":\"align_content\"},{\"default\":\"flex-start\",\"kind\":null,\"name\":\"align_items\"},{\"default\":\"row\",\"kind\":null,\"name\":\"flex_direction\"},{\"default\":\"wrap\",\"kind\":null,\"name\":\"flex_wrap\"},{\"default\":\"flex-start\",\"kind\":null,\"name\":\"justify_content\"}]},{\"extends\":null,\"module\":null,\"name\":\"GridStack1\",\"overrides\":[],\"properties\":[{\"default\":\"warn\",\"kind\":null,\"name\":\"mode\"},{\"default\":null,\"kind\":null,\"name\":\"ncols\"},{\"default\":null,\"kind\":null,\"name\":\"nrows\"},{\"default\":true,\"kind\":null,\"name\":\"allow_resize\"},{\"default\":true,\"kind\":null,\"name\":\"allow_drag\"},{\"default\":[],\"kind\":null,\"name\":\"state\"}]},{\"extends\":null,\"module\":null,\"name\":\"click1\",\"overrides\":[],\"properties\":[{\"default\":\"\",\"kind\":null,\"name\":\"terminal_output\"},{\"default\":\"\",\"kind\":null,\"name\":\"debug_name\"},{\"default\":0,\"kind\":null,\"name\":\"clears\"}]},{\"extends\":null,\"module\":null,\"name\":\"TemplateActions1\",\"overrides\":[],\"properties\":[{\"default\":0,\"kind\":null,\"name\":\"open_modal\"},{\"default\":0,\"kind\":null,\"name\":\"close_modal\"}]},{\"extends\":null,\"module\":null,\"name\":\"MaterialTemplateActions1\",\"overrides\":[],\"properties\":[{\"default\":0,\"kind\":null,\"name\":\"open_modal\"},{\"default\":0,\"kind\":null,\"name\":\"close_modal\"}]}],\"roots\":{\"references\":[{\"attributes\":{\"toolbars\":[{\"id\":\"69724\"},{\"id\":\"69866\"}],\"tools\":[{\"id\":\"69699\"},{\"id\":\"69718\"},{\"id\":\"69719\"},{\"id\":\"69720\"},{\"id\":\"69721\"},{\"id\":\"69722\"},{\"id\":\"69841\"},{\"id\":\"69860\"},{\"id\":\"69861\"},{\"id\":\"69862\"},{\"id\":\"69863\"},{\"id\":\"69864\"}]},\"id\":\"70010\",\"type\":\"ProxyToolbar\"},{\"attributes\":{\"axis\":{\"id\":\"69714\"},\"coordinates\":null,\"dimension\":1,\"group\":null,\"ticker\":{\"id\":\"69715\"}},\"id\":\"69717\",\"type\":\"Grid\"},{\"attributes\":{\"data\":{\"inertia\":{\"__ndarray__\":\"EAAmQfwNcEBNVJAi3bxkQP8sl3eTcVdAnoiJ/i7VSEBguxefc+tCQFa8U/V6uDtAcFbYdPopNUCsg8R/dRcxQP1qkhpScCtAL9PWkEP4JEA=\",\"dtype\":\"float64\",\"order\":\"little\",\"shape\":[10]},\"k\":[1,2,3,4,5,6,7,8,9,10]},\"selected\":{\"id\":\"69891\"},\"selection_policy\":{\"id\":\"69908\"}},\"id\":\"69890\",\"type\":\"ColumnDataSource\"},{\"attributes\":{},\"id\":\"69875\",\"type\":\"AllLabels\"},{\"attributes\":{\"coordinates\":null,\"data_source\":{\"id\":\"69739\"},\"glyph\":{\"id\":\"69742\"},\"group\":null,\"hover_glyph\":null,\"muted_glyph\":{\"id\":\"69744\"},\"nonselection_glyph\":{\"id\":\"69743\"},\"selection_glyph\":{\"id\":\"69747\"},\"view\":{\"id\":\"69746\"}},\"id\":\"69745\",\"type\":\"GlyphRenderer\"},{\"attributes\":{},\"id\":\"69740\",\"type\":\"Selection\"},{\"attributes\":{\"source\":{\"id\":\"69748\"}},\"id\":\"69755\",\"type\":\"CDSView\"},{\"attributes\":{\"fill_alpha\":{\"value\":0.1},\"fill_color\":{\"value\":\"#E66C2C\"},\"hatch_alpha\":{\"value\":0.1},\"hatch_color\":{\"value\":\"#E66C2C\"},\"line_alpha\":{\"value\":0.1},\"line_color\":{\"value\":\"#E66C2C\"},\"size\":{\"value\":9},\"x\":{\"field\":\"k\"},\"y\":{\"field\":\"inertia\"}},\"id\":\"69752\",\"type\":\"Scatter\"},{\"attributes\":{\"fill_color\":{\"value\":\"#E66C2C\"},\"hatch_color\":{\"value\":\"#E66C2C\"},\"line_color\":{\"value\":\"#E66C2C\"},\"size\":{\"value\":9},\"x\":{\"field\":\"k\"},\"y\":{\"field\":\"inertia\"}},\"id\":\"69893\",\"type\":\"Scatter\"},{\"attributes\":{},\"id\":\"69719\",\"type\":\"PanTool\"},{\"attributes\":{\"line_alpha\":0.2,\"line_color\":\"#52B2BF\",\"line_width\":3,\"x\":{\"field\":\"k\"},\"y\":{\"field\":\"inertia\"}},\"id\":\"69886\",\"type\":\"Line\"},{\"attributes\":{\"children\":[[{\"id\":\"69701\"},0,0],[{\"id\":\"69843\"},0,1]]},\"id\":\"70009\",\"type\":\"GridBox\"},{\"attributes\":{\"fill_color\":{\"value\":\"#E66C2C\"},\"hatch_color\":{\"value\":\"#E66C2C\"},\"line_color\":{\"value\":\"#E66C2C\"},\"size\":{\"value\":9},\"x\":{\"field\":\"k\"},\"y\":{\"field\":\"inertia\"}},\"id\":\"69751\",\"type\":\"Scatter\"},{\"attributes\":{\"line_color\":\"#52B2BF\",\"line_width\":3,\"x\":{\"field\":\"k\"},\"y\":{\"field\":\"inertia\"}},\"id\":\"69742\",\"type\":\"Line\"},{\"attributes\":{},\"id\":\"69749\",\"type\":\"Selection\"},{\"attributes\":{\"margin\":[5,5,5,5],\"name\":\"HSpacer140752\",\"sizing_mode\":\"stretch_width\"},\"id\":\"69696\",\"type\":\"Spacer\"},{\"attributes\":{},\"id\":\"69718\",\"type\":\"SaveTool\"},{\"attributes\":{\"line_color\":\"#52B2BF\",\"line_width\":3,\"x\":{\"field\":\"k\"},\"y\":{\"field\":\"inertia\"}},\"id\":\"69884\",\"type\":\"Line\"},{\"attributes\":{},\"id\":\"69891\",\"type\":\"Selection\"},{\"attributes\":{\"axis_label\":\"K Value\",\"axis_label_text_font_size\":\"15pt\",\"coordinates\":null,\"formatter\":{\"id\":\"69732\"},\"group\":null,\"major_label_policy\":{\"id\":\"69733\"},\"major_label_text_font_size\":\"12pt\",\"ticker\":{\"id\":\"69711\"}},\"id\":\"69710\",\"type\":\"LinearAxis\"},{\"attributes\":{\"line_color\":\"#52B2BF\",\"line_width\":3,\"x\":{\"field\":\"k\"},\"y\":{\"field\":\"inertia\"}},\"id\":\"69747\",\"type\":\"Line\"},{\"attributes\":{},\"id\":\"69720\",\"type\":\"WheelZoomTool\"},{\"attributes\":{\"coordinates\":null,\"data_source\":{\"id\":\"69881\"},\"glyph\":{\"id\":\"69884\"},\"group\":null,\"hover_glyph\":null,\"muted_glyph\":{\"id\":\"69886\"},\"nonselection_glyph\":{\"id\":\"69885\"},\"selection_glyph\":{\"id\":\"69889\"},\"view\":{\"id\":\"69888\"}},\"id\":\"69887\",\"type\":\"GlyphRenderer\"},{\"attributes\":{},\"id\":\"69878\",\"type\":\"AllLabels\"},{\"attributes\":{},\"id\":\"69764\",\"type\":\"UnionRenderers\"},{\"attributes\":{\"axis\":{\"id\":\"69710\"},\"coordinates\":null,\"group\":null,\"ticker\":{\"id\":\"69711\"}},\"id\":\"69713\",\"type\":\"Grid\"},{\"attributes\":{\"source\":{\"id\":\"69739\"}},\"id\":\"69746\",\"type\":\"CDSView\"},{\"attributes\":{},\"id\":\"69908\",\"type\":\"UnionRenderers\"},{\"attributes\":{\"bottom_units\":\"screen\",\"coordinates\":null,\"fill_alpha\":0.5,\"fill_color\":\"lightgrey\",\"group\":null,\"left_units\":\"screen\",\"level\":\"overlay\",\"line_alpha\":1.0,\"line_color\":\"black\",\"line_dash\":[4,4],\"line_width\":2,\"right_units\":\"screen\",\"syncable\":false,\"top_units\":\"screen\"},\"id\":\"69723\",\"type\":\"BoxAnnotation\"},{\"attributes\":{\"line_alpha\":0.1,\"line_color\":\"#52B2BF\",\"line_width\":3,\"x\":{\"field\":\"k\"},\"y\":{\"field\":\"inertia\"}},\"id\":\"69885\",\"type\":\"Line\"},{\"attributes\":{},\"id\":\"69708\",\"type\":\"LinearScale\"},{\"attributes\":{\"angle\":{\"value\":0.0},\"fill_alpha\":{\"value\":1.0},\"fill_color\":{\"value\":\"#E66C2C\"},\"hatch_alpha\":{\"value\":1.0},\"hatch_color\":{\"value\":\"#E66C2C\"},\"hatch_scale\":{\"value\":12.0},\"hatch_weight\":{\"value\":1.0},\"line_alpha\":{\"value\":1.0},\"line_cap\":{\"value\":\"butt\"},\"line_color\":{\"value\":\"#E66C2C\"},\"line_dash\":{\"value\":[]},\"line_dash_offset\":{\"value\":0},\"line_join\":{\"value\":\"bevel\"},\"line_width\":{\"value\":1},\"marker\":{\"value\":\"circle\"},\"size\":{\"value\":9},\"x\":{\"field\":\"k\"},\"y\":{\"field\":\"inertia\"}},\"id\":\"69756\",\"type\":\"Scatter\"},{\"attributes\":{\"overlay\":{\"id\":\"69723\"}},\"id\":\"69721\",\"type\":\"BoxZoomTool\"},{\"attributes\":{},\"id\":\"69766\",\"type\":\"UnionRenderers\"},{\"attributes\":{\"data\":{\"inertia\":{\"__ndarray__\":\"AAAAAADwcUByhzI6P3poQOCRvNowzF5AGO6ulG/BU0D03u2eZoFQQBYSyZxlh0pAghbl9XUPRkB5yRSvOKpCQMB0IF8cPkBAoAwew/P5O0A=\",\"dtype\":\"float64\",\"order\":\"little\",\"shape\":[10]},\"k\":[1,2,3,4,5,6,7,8,9,10]},\"selected\":{\"id\":\"69749\"},\"selection_policy\":{\"id\":\"69766\"}},\"id\":\"69748\",\"type\":\"ColumnDataSource\"},{\"attributes\":{},\"id\":\"69733\",\"type\":\"AllLabels\"},{\"attributes\":{\"callback\":null,\"renderers\":[{\"id\":\"69887\"},{\"id\":\"69896\"}],\"tags\":[\"hv_created\"],\"tooltips\":[[\"k\",\"@{k}\"],[\"inertia\",\"@{inertia}\"]]},\"id\":\"69841\",\"type\":\"HoverTool\"},{\"attributes\":{\"end\":314.6515109514023,\"reset_end\":314.6515109514023,\"reset_start\":-17.166620465425382,\"start\":-17.166620465425382,\"tags\":[[[\"inertia\",\"inertia\",null]]]},\"id\":\"69698\",\"type\":\"Range1d\"},{\"attributes\":{},\"id\":\"69882\",\"type\":\"Selection\"},{\"attributes\":{},\"id\":\"69861\",\"type\":\"PanTool\"},{\"attributes\":{\"fill_alpha\":{\"value\":0.2},\"fill_color\":{\"value\":\"#E66C2C\"},\"hatch_alpha\":{\"value\":0.2},\"hatch_color\":{\"value\":\"#E66C2C\"},\"line_alpha\":{\"value\":0.2},\"line_color\":{\"value\":\"#E66C2C\"},\"size\":{\"value\":9},\"x\":{\"field\":\"k\"},\"y\":{\"field\":\"inertia\"}},\"id\":\"69753\",\"type\":\"Scatter\"},{\"attributes\":{\"line_color\":\"#52B2BF\",\"line_width\":3,\"x\":{\"field\":\"k\"},\"y\":{\"field\":\"inertia\"}},\"id\":\"69889\",\"type\":\"Line\"},{\"attributes\":{},\"id\":\"69853\",\"type\":\"BasicTicker\"},{\"attributes\":{},\"id\":\"69715\",\"type\":\"BasicTicker\"},{\"attributes\":{\"callback\":null,\"renderers\":[{\"id\":\"69745\"},{\"id\":\"69754\"}],\"tags\":[\"hv_created\"],\"tooltips\":[[\"k\",\"@{k}\"],[\"inertia\",\"@{inertia}\"]]},\"id\":\"69699\",\"type\":\"HoverTool\"},{\"attributes\":{\"data\":{\"inertia\":{\"__ndarray__\":\"AAAAAADwcUByhzI6P3poQOCRvNowzF5AGO6ulG/BU0D03u2eZoFQQBYSyZxlh0pAghbl9XUPRkB5yRSvOKpCQMB0IF8cPkBAoAwew/P5O0A=\",\"dtype\":\"float64\",\"order\":\"little\",\"shape\":[10]},\"k\":[1,2,3,4,5,6,7,8,9,10]},\"selected\":{\"id\":\"69740\"},\"selection_policy\":{\"id\":\"69764\"}},\"id\":\"69739\",\"type\":\"ColumnDataSource\"},{\"attributes\":{\"bottom_units\":\"screen\",\"coordinates\":null,\"fill_alpha\":0.5,\"fill_color\":\"lightgrey\",\"group\":null,\"left_units\":\"screen\",\"level\":\"overlay\",\"line_alpha\":1.0,\"line_color\":\"black\",\"line_dash\":[4,4],\"line_width\":2,\"right_units\":\"screen\",\"syncable\":false,\"top_units\":\"screen\"},\"id\":\"69865\",\"type\":\"BoxAnnotation\"},{\"attributes\":{\"axis_label\":\"K Value\",\"axis_label_text_font_size\":\"15pt\",\"coordinates\":null,\"formatter\":{\"id\":\"69874\"},\"group\":null,\"major_label_policy\":{\"id\":\"69875\"},\"major_label_text_font_size\":\"12pt\",\"ticker\":{\"id\":\"69853\"}},\"id\":\"69852\",\"type\":\"LinearAxis\"},{\"attributes\":{},\"id\":\"69877\",\"type\":\"BasicTickFormatter\"},{\"attributes\":{\"coordinates\":null,\"data_source\":{\"id\":\"69748\"},\"glyph\":{\"id\":\"69751\"},\"group\":null,\"hover_glyph\":null,\"muted_glyph\":{\"id\":\"69753\"},\"nonselection_glyph\":{\"id\":\"69752\"},\"selection_glyph\":{\"id\":\"69756\"},\"view\":{\"id\":\"69755\"}},\"id\":\"69754\",\"type\":\"GlyphRenderer\"},{\"attributes\":{\"children\":[{\"id\":\"69696\"},{\"id\":\"70012\"},{\"id\":\"70229\"}],\"margin\":[0,0,0,0],\"name\":\"Row140748\",\"tags\":[\"embedded\"]},\"id\":\"69695\",\"type\":\"Row\"},{\"attributes\":{\"coordinates\":null,\"group\":null,\"text\":\"Elbow Curve - PCA Data\",\"text_color\":\"black\",\"text_font_size\":\"18pt\"},\"id\":\"69844\",\"type\":\"Title\"},{\"attributes\":{\"angle\":{\"value\":0.0},\"fill_alpha\":{\"value\":1.0},\"fill_color\":{\"value\":\"#E66C2C\"},\"hatch_alpha\":{\"value\":1.0},\"hatch_color\":{\"value\":\"#E66C2C\"},\"hatch_scale\":{\"value\":12.0},\"hatch_weight\":{\"value\":1.0},\"line_alpha\":{\"value\":1.0},\"line_cap\":{\"value\":\"butt\"},\"line_color\":{\"value\":\"#E66C2C\"},\"line_dash\":{\"value\":[]},\"line_dash_offset\":{\"value\":0},\"line_join\":{\"value\":\"bevel\"},\"line_width\":{\"value\":1},\"marker\":{\"value\":\"circle\"},\"size\":{\"value\":9},\"x\":{\"field\":\"k\"},\"y\":{\"field\":\"inertia\"}},\"id\":\"69898\",\"type\":\"Scatter\"},{\"attributes\":{\"margin\":[5,5,5,5],\"name\":\"HSpacer140753\",\"sizing_mode\":\"stretch_width\"},\"id\":\"70229\",\"type\":\"Spacer\"},{\"attributes\":{\"coordinates\":null,\"group\":null,\"text\":\"Elbow Curve - Original Data\",\"text_color\":\"black\",\"text_font_size\":\"18pt\"},\"id\":\"69702\",\"type\":\"Title\"},{\"attributes\":{\"data\":{\"inertia\":{\"__ndarray__\":\"EAAmQfwNcEBNVJAi3bxkQP8sl3eTcVdAnoiJ/i7VSEBguxefc+tCQFa8U/V6uDtAcFbYdPopNUCsg8R/dRcxQP1qkhpScCtAL9PWkEP4JEA=\",\"dtype\":\"float64\",\"order\":\"little\",\"shape\":[10]},\"k\":[1,2,3,4,5,6,7,8,9,10]},\"selected\":{\"id\":\"69882\"},\"selection_policy\":{\"id\":\"69906\"}},\"id\":\"69881\",\"type\":\"ColumnDataSource\"},{\"attributes\":{\"axis\":{\"id\":\"69856\"},\"coordinates\":null,\"dimension\":1,\"group\":null,\"ticker\":{\"id\":\"69857\"}},\"id\":\"69859\",\"type\":\"Grid\"},{\"attributes\":{},\"id\":\"69857\",\"type\":\"BasicTicker\"},{\"attributes\":{},\"id\":\"69874\",\"type\":\"BasicTickFormatter\"},{\"attributes\":{},\"id\":\"69711\",\"type\":\"BasicTicker\"},{\"attributes\":{\"children\":[{\"id\":\"70011\"},{\"id\":\"70009\"}]},\"id\":\"70012\",\"type\":\"Column\"},{\"attributes\":{},\"id\":\"69706\",\"type\":\"LinearScale\"},{\"attributes\":{\"source\":{\"id\":\"69881\"}},\"id\":\"69888\",\"type\":\"CDSView\"},{\"attributes\":{\"source\":{\"id\":\"69890\"}},\"id\":\"69897\",\"type\":\"CDSView\"},{\"attributes\":{},\"id\":\"69850\",\"type\":\"LinearScale\"},{\"attributes\":{\"axis_label\":\"Inertia\",\"axis_label_text_font_size\":\"15pt\",\"coordinates\":null,\"formatter\":{\"id\":\"69877\"},\"group\":null,\"major_label_policy\":{\"id\":\"69878\"},\"major_label_text_font_size\":\"12pt\",\"ticker\":{\"id\":\"69857\"}},\"id\":\"69856\",\"type\":\"LinearAxis\"},{\"attributes\":{},\"id\":\"69864\",\"type\":\"ResetTool\"},{\"attributes\":{\"fill_alpha\":{\"value\":0.1},\"fill_color\":{\"value\":\"#E66C2C\"},\"hatch_alpha\":{\"value\":0.1},\"hatch_color\":{\"value\":\"#E66C2C\"},\"line_alpha\":{\"value\":0.1},\"line_color\":{\"value\":\"#E66C2C\"},\"size\":{\"value\":9},\"x\":{\"field\":\"k\"},\"y\":{\"field\":\"inertia\"}},\"id\":\"69894\",\"type\":\"Scatter\"},{\"attributes\":{\"end\":10.1,\"reset_end\":10.1,\"reset_start\":0.9,\"start\":0.9,\"tags\":[[[\"k\",\"k\",null]]]},\"id\":\"69697\",\"type\":\"Range1d\"},{\"attributes\":{},\"id\":\"69860\",\"type\":\"SaveTool\"},{\"attributes\":{\"line_alpha\":0.2,\"line_color\":\"#52B2BF\",\"line_width\":3,\"x\":{\"field\":\"k\"},\"y\":{\"field\":\"inertia\"}},\"id\":\"69744\",\"type\":\"Line\"},{\"attributes\":{\"tools\":[{\"id\":\"69841\"},{\"id\":\"69860\"},{\"id\":\"69861\"},{\"id\":\"69862\"},{\"id\":\"69863\"},{\"id\":\"69864\"}]},\"id\":\"69866\",\"type\":\"Toolbar\"},{\"attributes\":{\"toolbar\":{\"id\":\"70010\"},\"toolbar_location\":\"above\"},\"id\":\"70011\",\"type\":\"ToolbarBox\"},{\"attributes\":{\"coordinates\":null,\"data_source\":{\"id\":\"69890\"},\"glyph\":{\"id\":\"69893\"},\"group\":null,\"hover_glyph\":null,\"muted_glyph\":{\"id\":\"69895\"},\"nonselection_glyph\":{\"id\":\"69894\"},\"selection_glyph\":{\"id\":\"69898\"},\"view\":{\"id\":\"69897\"}},\"id\":\"69896\",\"type\":\"GlyphRenderer\"},{\"attributes\":{},\"id\":\"69848\",\"type\":\"LinearScale\"},{\"attributes\":{},\"id\":\"69735\",\"type\":\"BasicTickFormatter\"},{\"attributes\":{},\"id\":\"69906\",\"type\":\"UnionRenderers\"},{\"attributes\":{},\"id\":\"69736\",\"type\":\"AllLabels\"},{\"attributes\":{\"overlay\":{\"id\":\"69865\"}},\"id\":\"69863\",\"type\":\"BoxZoomTool\"},{\"attributes\":{\"below\":[{\"id\":\"69710\"}],\"center\":[{\"id\":\"69713\"},{\"id\":\"69717\"}],\"height\":350,\"left\":[{\"id\":\"69714\"}],\"margin\":null,\"min_border_bottom\":10,\"min_border_left\":10,\"min_border_right\":10,\"min_border_top\":10,\"renderers\":[{\"id\":\"69745\"},{\"id\":\"69754\"}],\"sizing_mode\":\"fixed\",\"title\":{\"id\":\"69702\"},\"toolbar\":{\"id\":\"69724\"},\"toolbar_location\":null,\"width\":700,\"x_range\":{\"id\":\"69697\"},\"x_scale\":{\"id\":\"69706\"},\"y_range\":{\"id\":\"69698\"},\"y_scale\":{\"id\":\"69708\"}},\"id\":\"69701\",\"subtype\":\"Figure\",\"type\":\"Plot\"},{\"attributes\":{\"axis_label\":\"Inertia\",\"axis_label_text_font_size\":\"15pt\",\"coordinates\":null,\"formatter\":{\"id\":\"69735\"},\"group\":null,\"major_label_policy\":{\"id\":\"69736\"},\"major_label_text_font_size\":\"12pt\",\"ticker\":{\"id\":\"69715\"}},\"id\":\"69714\",\"type\":\"LinearAxis\"},{\"attributes\":{\"fill_alpha\":{\"value\":0.2},\"fill_color\":{\"value\":\"#E66C2C\"},\"hatch_alpha\":{\"value\":0.2},\"hatch_color\":{\"value\":\"#E66C2C\"},\"line_alpha\":{\"value\":0.2},\"line_color\":{\"value\":\"#E66C2C\"},\"size\":{\"value\":9},\"x\":{\"field\":\"k\"},\"y\":{\"field\":\"inertia\"}},\"id\":\"69895\",\"type\":\"Scatter\"},{\"attributes\":{\"below\":[{\"id\":\"69852\"}],\"center\":[{\"id\":\"69855\"},{\"id\":\"69859\"}],\"height\":350,\"left\":[{\"id\":\"69856\"}],\"margin\":null,\"min_border_bottom\":10,\"min_border_left\":10,\"min_border_right\":10,\"min_border_top\":10,\"renderers\":[{\"id\":\"69887\"},{\"id\":\"69896\"}],\"sizing_mode\":\"fixed\",\"title\":{\"id\":\"69844\"},\"toolbar\":{\"id\":\"69866\"},\"toolbar_location\":null,\"width\":700,\"x_range\":{\"id\":\"69697\"},\"x_scale\":{\"id\":\"69848\"},\"y_range\":{\"id\":\"69698\"},\"y_scale\":{\"id\":\"69850\"}},\"id\":\"69843\",\"subtype\":\"Figure\",\"type\":\"Plot\"},{\"attributes\":{},\"id\":\"69722\",\"type\":\"ResetTool\"},{\"attributes\":{},\"id\":\"69862\",\"type\":\"WheelZoomTool\"},{\"attributes\":{\"tools\":[{\"id\":\"69699\"},{\"id\":\"69718\"},{\"id\":\"69719\"},{\"id\":\"69720\"},{\"id\":\"69721\"},{\"id\":\"69722\"}]},\"id\":\"69724\",\"type\":\"Toolbar\"},{\"attributes\":{},\"id\":\"69732\",\"type\":\"BasicTickFormatter\"},{\"attributes\":{\"axis\":{\"id\":\"69852\"},\"coordinates\":null,\"group\":null,\"ticker\":{\"id\":\"69853\"}},\"id\":\"69855\",\"type\":\"Grid\"},{\"attributes\":{\"line_alpha\":0.1,\"line_color\":\"#52B2BF\",\"line_width\":3,\"x\":{\"field\":\"k\"},\"y\":{\"field\":\"inertia\"}},\"id\":\"69743\",\"type\":\"Line\"}],\"root_ids\":[\"69695\"]},\"title\":\"Bokeh Application\",\"version\":\"2.4.2\"}};\n",
       "    var render_items = [{\"docid\":\"1ca424a8-de29-46db-b45e-2f344b11a4de\",\"root_ids\":[\"69695\"],\"roots\":{\"69695\":\"b45b973e-b28e-43e4-9586-977e42231338\"}}];\n",
       "    root.Bokeh.embed.embed_items_notebook(docs_json, render_items);\n",
       "  }\n",
       "  if (root.Bokeh !== undefined && root.Bokeh.Panel !== undefined) {\n",
       "    embed_document(root);\n",
       "  } else {\n",
       "    var attempts = 0;\n",
       "    var timer = setInterval(function(root) {\n",
       "      if (root.Bokeh !== undefined && root.Bokeh.Panel !== undefined) {\n",
       "        clearInterval(timer);\n",
       "        embed_document(root);\n",
       "      } else if (document.readyState == \"complete\") {\n",
       "        attempts++;\n",
       "        if (attempts > 200) {\n",
       "          clearInterval(timer);\n",
       "          console.log(\"Bokeh: ERROR: Unable to run BokehJS code because BokehJS library is missing\");\n",
       "        }\n",
       "      }\n",
       "    }, 25, root)\n",
       "  }\n",
       "})(window);</script>"
      ],
      "text/plain": [
       ":Layout\n",
       "   .Overlay.I  :Overlay\n",
       "      .Curve.I   :Curve   [k]   (inertia)\n",
       "      .Scatter.I :Scatter   [k]   (inertia)\n",
       "   .Overlay.II :Overlay\n",
       "      .Curve.I   :Curve   [k]   (inertia)\n",
       "      .Scatter.I :Scatter   [k]   (inertia)"
      ]
     },
     "execution_count": 689,
     "metadata": {
      "application/vnd.holoviews_exec.v0+json": {
       "id": "69695"
      }
     },
     "output_type": "execute_result"
    }
   ],
   "source": [
    "# Composite plot to contrast the Elbow curves\n",
    "elbow_curve_plot_original + elbow_curve_plot_pca"
   ]
  },
  {
   "cell_type": "code",
   "execution_count": 690,
   "metadata": {},
   "outputs": [
    {
     "data": {},
     "metadata": {},
     "output_type": "display_data"
    },
    {
     "data": {
      "application/vnd.holoviews_exec.v0+json": "",
      "text/html": [
       "<div id='70351'>\n",
       "\n",
       "\n",
       "\n",
       "\n",
       "\n",
       "  <div class=\"bk-root\" id=\"5efa5cc0-791a-41d7-b05a-a5bb9d0b6dd2\" data-root-id=\"70351\"></div>\n",
       "</div>\n",
       "<script type=\"application/javascript\">(function(root) {\n",
       "  function embed_document(root) {\n",
       "    var docs_json = {\"2b670e5b-477e-4bd6-8071-2583f5ccb8a7\":{\"defs\":[{\"extends\":null,\"module\":null,\"name\":\"ReactiveHTML1\",\"overrides\":[],\"properties\":[]},{\"extends\":null,\"module\":null,\"name\":\"FlexBox1\",\"overrides\":[],\"properties\":[{\"default\":\"flex-start\",\"kind\":null,\"name\":\"align_content\"},{\"default\":\"flex-start\",\"kind\":null,\"name\":\"align_items\"},{\"default\":\"row\",\"kind\":null,\"name\":\"flex_direction\"},{\"default\":\"wrap\",\"kind\":null,\"name\":\"flex_wrap\"},{\"default\":\"flex-start\",\"kind\":null,\"name\":\"justify_content\"}]},{\"extends\":null,\"module\":null,\"name\":\"GridStack1\",\"overrides\":[],\"properties\":[{\"default\":\"warn\",\"kind\":null,\"name\":\"mode\"},{\"default\":null,\"kind\":null,\"name\":\"ncols\"},{\"default\":null,\"kind\":null,\"name\":\"nrows\"},{\"default\":true,\"kind\":null,\"name\":\"allow_resize\"},{\"default\":true,\"kind\":null,\"name\":\"allow_drag\"},{\"default\":[],\"kind\":null,\"name\":\"state\"}]},{\"extends\":null,\"module\":null,\"name\":\"click1\",\"overrides\":[],\"properties\":[{\"default\":\"\",\"kind\":null,\"name\":\"terminal_output\"},{\"default\":\"\",\"kind\":null,\"name\":\"debug_name\"},{\"default\":0,\"kind\":null,\"name\":\"clears\"}]},{\"extends\":null,\"module\":null,\"name\":\"TemplateActions1\",\"overrides\":[],\"properties\":[{\"default\":0,\"kind\":null,\"name\":\"open_modal\"},{\"default\":0,\"kind\":null,\"name\":\"close_modal\"}]},{\"extends\":null,\"module\":null,\"name\":\"MaterialTemplateActions1\",\"overrides\":[],\"properties\":[{\"default\":0,\"kind\":null,\"name\":\"open_modal\"},{\"default\":0,\"kind\":null,\"name\":\"close_modal\"}]}],\"roots\":{\"references\":[{\"attributes\":{\"axis\":{\"id\":\"70372\"},\"coordinates\":null,\"dimension\":1,\"group\":null,\"ticker\":{\"id\":\"70373\"}},\"id\":\"70375\",\"type\":\"Grid\"},{\"attributes\":{},\"id\":\"70615\",\"type\":\"LinearScale\"},{\"attributes\":{\"fill_alpha\":{\"value\":0.1},\"fill_color\":{\"value\":\"#e5ae38\"},\"hatch_alpha\":{\"value\":0.1},\"hatch_color\":{\"value\":\"#e5ae38\"},\"line_alpha\":{\"value\":0.1},\"line_color\":{\"value\":\"#e5ae38\"},\"line_width\":{\"value\":2},\"marker\":{\"value\":\"triangle\"},\"size\":{\"value\":10.0},\"x\":{\"field\":\"PC1\"},\"y\":{\"field\":\"PC2\"}},\"id\":\"70693\",\"type\":\"Scatter\"},{\"attributes\":{\"data\":{\"PC1\":{\"__ndarray__\":\"UpZ8amq327/+YHw2izLev+nya5vXSei/yvxzoPfEz7+Rh/TX3g7cv6kZGVOKMOa/e0wjp68s2b8TArsJMGewPx6zldMFTN+/EOkqwdFu4L9jF4kx+yzXv/YSO2dvc9q/4REoujMU2r+1ZdmqtnzjP/NN1mNC0Ny/tNi9MiN46L9+su9uVM3hv+ZGFZE5agVAvyC8UEGl47/RvuS6vI7iv74JKydStOs/mZO6/7yWvD8GXcBgQDzkv5EbmkYF++K/F71JmQJS3b8d4q/49hDTvw==\",\"dtype\":\"float64\",\"order\":\"little\",\"shape\":[26]},\"PC2\":{\"__ndarray__\":\"DNF7TyqFxb8Hj1UaIIDMv/LgzCbqwMm/yToUYyAF9r9HZsaEbXHGv+LIIJL6Ut6/dCq0IHiyu79tgFApNFH0v9+gJl5vcue/SpKaSllHwr+siEuGzZTvv1n5wy5akuW/P93jHmozy7+HF2SFdAjiP/AtIf2aVMO/BeuFsYSS4L9UbbiA5wL/v4GlJoz3k4y/L48PRXSt3r/B3rYoLM7Wv3T+1spVGALAhSEohoZp2z84qFKDbN0AwNcT7msnAJY/2vStmbtfwb9cSPDBzXbIvw==\",\"dtype\":\"float64\",\"order\":\"little\",\"shape\":[26]},\"Predicted_Cluster\":[0,0,0,0,0,0,0,0,0,0,0,0,0,0,0,0,0,0,0,0,0,0,0,0,0,0]},\"selected\":{\"id\":\"70647\"},\"selection_policy\":{\"id\":\"70661\"}},\"id\":\"70646\",\"type\":\"ColumnDataSource\"},{\"attributes\":{\"fill_alpha\":{\"value\":0.2},\"fill_color\":{\"value\":\"#6d904f\"},\"hatch_alpha\":{\"value\":0.2},\"hatch_color\":{\"value\":\"#6d904f\"},\"line_alpha\":{\"value\":0.2},\"line_color\":{\"value\":\"#6d904f\"},\"line_width\":{\"value\":2},\"marker\":{\"value\":\"cross\"},\"size\":{\"value\":10.0},\"x\":{\"field\":\"price_change_percentage_24h\"},\"y\":{\"field\":\"price_change_percentage_7d\"}},\"id\":\"70469\",\"type\":\"Scatter\"},{\"attributes\":{\"below\":[{\"id\":\"70368\"}],\"center\":[{\"id\":\"70371\"},{\"id\":\"70375\"}],\"height\":350,\"left\":[{\"id\":\"70372\"}],\"margin\":null,\"min_border_bottom\":10,\"min_border_left\":10,\"min_border_right\":10,\"min_border_top\":10,\"renderers\":[{\"id\":\"70403\"},{\"id\":\"70424\"},{\"id\":\"70446\"},{\"id\":\"70470\"}],\"right\":[{\"id\":\"70415\"}],\"sizing_mode\":\"fixed\",\"title\":{\"id\":\"70360\"},\"toolbar\":{\"id\":\"70382\"},\"toolbar_location\":null,\"width\":750,\"x_range\":{\"id\":\"70353\"},\"x_scale\":{\"id\":\"70364\"},\"y_range\":{\"id\":\"70354\"},\"y_scale\":{\"id\":\"70366\"}},\"id\":\"70359\",\"subtype\":\"Figure\",\"type\":\"Plot\"},{\"attributes\":{},\"id\":\"70647\",\"type\":\"Selection\"},{\"attributes\":{\"fill_alpha\":{\"value\":0.2},\"fill_color\":{\"value\":\"#e5ae38\"},\"hatch_alpha\":{\"value\":0.2},\"hatch_color\":{\"value\":\"#e5ae38\"},\"line_alpha\":{\"value\":0.2},\"line_color\":{\"value\":\"#e5ae38\"},\"line_width\":{\"value\":2},\"marker\":{\"value\":\"triangle\"},\"size\":{\"value\":10.0},\"x\":{\"field\":\"PC1\"},\"y\":{\"field\":\"PC2\"}},\"id\":\"70694\",\"type\":\"Scatter\"},{\"attributes\":{\"overlay\":{\"id\":\"70381\"}},\"id\":\"70379\",\"type\":\"BoxZoomTool\"},{\"attributes\":{\"coordinates\":null,\"data_source\":{\"id\":\"70440\"},\"glyph\":{\"id\":\"70443\"},\"group\":null,\"hover_glyph\":null,\"muted_glyph\":{\"id\":\"70445\"},\"nonselection_glyph\":{\"id\":\"70444\"},\"selection_glyph\":{\"id\":\"70463\"},\"view\":{\"id\":\"70447\"}},\"id\":\"70446\",\"type\":\"GlyphRenderer\"},{\"attributes\":{\"fill_alpha\":{\"value\":0.1},\"fill_color\":{\"value\":\"#e5ae38\"},\"hatch_alpha\":{\"value\":0.1},\"hatch_color\":{\"value\":\"#e5ae38\"},\"line_alpha\":{\"value\":0.1},\"line_color\":{\"value\":\"#e5ae38\"},\"line_width\":{\"value\":2},\"marker\":{\"value\":\"triangle\"},\"size\":{\"value\":10.0},\"x\":{\"field\":\"price_change_percentage_24h\"},\"y\":{\"field\":\"price_change_percentage_7d\"}},\"id\":\"70444\",\"type\":\"Scatter\"},{\"attributes\":{\"axis_label\":\"PC1\",\"axis_label_text_font_size\":\"14pt\",\"coordinates\":null,\"formatter\":{\"id\":\"70639\"},\"group\":null,\"major_label_policy\":{\"id\":\"70640\"},\"major_label_text_font_size\":\"12pt\",\"ticker\":{\"id\":\"70618\"}},\"id\":\"70617\",\"type\":\"LinearAxis\"},{\"attributes\":{},\"id\":\"70642\",\"type\":\"BasicTickFormatter\"},{\"attributes\":{\"end\":8.520536396835196,\"reset_end\":8.520536396835196,\"reset_start\":-1.589318154510241,\"start\":-1.589318154510241,\"tags\":[[[\"PC1\",\"PC1\",null]]]},\"id\":\"70602\",\"type\":\"Range1d\"},{\"attributes\":{\"fill_color\":{\"value\":\"#e5ae38\"},\"hatch_color\":{\"value\":\"#e5ae38\"},\"line_color\":{\"value\":\"#e5ae38\"},\"line_width\":{\"value\":2},\"marker\":{\"value\":\"triangle\"},\"size\":{\"value\":10.0},\"x\":{\"field\":\"PC1\"},\"y\":{\"field\":\"PC2\"}},\"id\":\"70692\",\"type\":\"Scatter\"},{\"attributes\":{\"angle\":{\"value\":0.7853981633974483},\"fill_color\":{\"value\":\"#30a2da\"},\"hatch_color\":{\"value\":\"#30a2da\"},\"line_color\":{\"value\":\"#30a2da\"},\"line_width\":{\"value\":2},\"marker\":{\"value\":\"cross\"},\"size\":{\"value\":10.0},\"x\":{\"field\":\"price_change_percentage_24h\"},\"y\":{\"field\":\"price_change_percentage_7d\"}},\"id\":\"70400\",\"type\":\"Scatter\"},{\"attributes\":{\"source\":{\"id\":\"70464\"}},\"id\":\"70471\",\"type\":\"CDSView\"},{\"attributes\":{},\"id\":\"70366\",\"type\":\"LinearScale\"},{\"attributes\":{\"source\":{\"id\":\"70440\"}},\"id\":\"70447\",\"type\":\"CDSView\"},{\"attributes\":{\"angle\":{\"value\":0.0},\"fill_alpha\":{\"value\":1.0},\"fill_color\":{\"value\":\"#6d904f\"},\"hatch_alpha\":{\"value\":1.0},\"hatch_color\":{\"value\":\"#6d904f\"},\"hatch_scale\":{\"value\":12.0},\"hatch_weight\":{\"value\":1.0},\"line_alpha\":{\"value\":1.0},\"line_cap\":{\"value\":\"butt\"},\"line_color\":{\"value\":\"#6d904f\"},\"line_dash\":{\"value\":[]},\"line_dash_offset\":{\"value\":0},\"line_join\":{\"value\":\"bevel\"},\"line_width\":{\"value\":2},\"marker\":{\"value\":\"cross\"},\"size\":{\"value\":10.0},\"x\":{\"field\":\"price_change_percentage_24h\"},\"y\":{\"field\":\"price_change_percentage_7d\"}},\"id\":\"70489\",\"type\":\"Scatter\"},{\"attributes\":{\"label\":{\"value\":\"1\"},\"renderers\":[{\"id\":\"70673\"}]},\"id\":\"70687\",\"type\":\"LegendItem\"},{\"attributes\":{},\"id\":\"70459\",\"type\":\"UnionRenderers\"},{\"attributes\":{\"fill_alpha\":{\"value\":0.1},\"fill_color\":{\"value\":\"#fc4f30\"},\"hatch_alpha\":{\"value\":0.1},\"hatch_color\":{\"value\":\"#fc4f30\"},\"line_alpha\":{\"value\":0.1},\"line_color\":{\"value\":\"#fc4f30\"},\"line_width\":{\"value\":2},\"marker\":{\"value\":\"asterisk\"},\"size\":{\"value\":10.0},\"x\":{\"field\":\"PC1\"},\"y\":{\"field\":\"PC2\"}},\"id\":\"70671\",\"type\":\"Scatter\"},{\"attributes\":{},\"id\":\"70373\",\"type\":\"BasicTicker\"},{\"attributes\":{\"fill_alpha\":{\"value\":0.2},\"fill_color\":{\"value\":\"#fc4f30\"},\"hatch_alpha\":{\"value\":0.2},\"hatch_color\":{\"value\":\"#fc4f30\"},\"line_alpha\":{\"value\":0.2},\"line_color\":{\"value\":\"#fc4f30\"},\"line_width\":{\"value\":2},\"marker\":{\"value\":\"asterisk\"},\"size\":{\"value\":10.0},\"x\":{\"field\":\"PC1\"},\"y\":{\"field\":\"PC2\"}},\"id\":\"70672\",\"type\":\"Scatter\"},{\"attributes\":{},\"id\":\"70465\",\"type\":\"Selection\"},{\"attributes\":{},\"id\":\"70734\",\"type\":\"UnionRenderers\"},{\"attributes\":{\"coordinates\":null,\"data_source\":{\"id\":\"70689\"},\"glyph\":{\"id\":\"70692\"},\"group\":null,\"hover_glyph\":null,\"muted_glyph\":{\"id\":\"70694\"},\"nonselection_glyph\":{\"id\":\"70693\"},\"selection_glyph\":{\"id\":\"70712\"},\"view\":{\"id\":\"70696\"}},\"id\":\"70695\",\"type\":\"GlyphRenderer\"},{\"attributes\":{},\"id\":\"70690\",\"type\":\"Selection\"},{\"attributes\":{\"data\":{\"Predicted_Cluster\":[0],\"coin_id\":[\"ethlend\"],\"price_change_percentage_24h\":{\"__ndarray__\":\"3WeHPpbsE8A=\",\"dtype\":\"float64\",\"order\":\"little\",\"shape\":[1]},\"price_change_percentage_7d\":{\"__ndarray__\":\"dIWi2pshp78=\",\"dtype\":\"float64\",\"order\":\"little\",\"shape\":[1]}},\"selected\":{\"id\":\"70398\"},\"selection_policy\":{\"id\":\"70412\"}},\"id\":\"70397\",\"type\":\"ColumnDataSource\"},{\"attributes\":{},\"id\":\"70378\",\"type\":\"WheelZoomTool\"},{\"attributes\":{\"end\":2.2418522071491553,\"reset_end\":2.2418522071491553,\"reset_start\":-5.303081750384561,\"start\":-5.303081750384561,\"tags\":[[[\"price_change_percentage_24h\",\"price_change_percentage_24h\",null]]]},\"id\":\"70353\",\"type\":\"Range1d\"},{\"attributes\":{},\"id\":\"70393\",\"type\":\"BasicTickFormatter\"},{\"attributes\":{\"fill_alpha\":{\"value\":0.2},\"fill_color\":{\"value\":\"#e5ae38\"},\"hatch_alpha\":{\"value\":0.2},\"hatch_color\":{\"value\":\"#e5ae38\"},\"line_alpha\":{\"value\":0.2},\"line_color\":{\"value\":\"#e5ae38\"},\"line_width\":{\"value\":2},\"marker\":{\"value\":\"triangle\"},\"size\":{\"value\":10.0},\"x\":{\"field\":\"price_change_percentage_24h\"},\"y\":{\"field\":\"price_change_percentage_7d\"}},\"id\":\"70445\",\"type\":\"Scatter\"},{\"attributes\":{\"callback\":null,\"renderers\":[{\"id\":\"70652\"},{\"id\":\"70673\"},{\"id\":\"70695\"},{\"id\":\"70719\"}],\"tags\":[\"hv_created\"],\"tooltips\":[[\"Predicted Cluster\",\"@{Predicted_Cluster}\"],[\"PC1\",\"@{PC1}\"],[\"PC2\",\"@{PC2}\"]]},\"id\":\"70604\",\"type\":\"HoverTool\"},{\"attributes\":{},\"id\":\"70376\",\"type\":\"SaveTool\"},{\"attributes\":{\"angle\":{\"value\":0.0},\"fill_alpha\":{\"value\":1.0},\"fill_color\":{\"value\":\"#fc4f30\"},\"hatch_alpha\":{\"value\":1.0},\"hatch_color\":{\"value\":\"#fc4f30\"},\"hatch_scale\":{\"value\":12.0},\"hatch_weight\":{\"value\":1.0},\"line_alpha\":{\"value\":1.0},\"line_cap\":{\"value\":\"butt\"},\"line_color\":{\"value\":\"#fc4f30\"},\"line_dash\":{\"value\":[]},\"line_dash_offset\":{\"value\":0},\"line_join\":{\"value\":\"bevel\"},\"line_width\":{\"value\":2},\"marker\":{\"value\":\"asterisk\"},\"size\":{\"value\":10.0},\"x\":{\"field\":\"PC1\"},\"y\":{\"field\":\"PC2\"}},\"id\":\"70688\",\"type\":\"Scatter\"},{\"attributes\":{},\"id\":\"70640\",\"type\":\"AllLabels\"},{\"attributes\":{\"children\":[[{\"id\":\"70359\"},0,0],[{\"id\":\"70608\"},0,1]]},\"id\":\"70885\",\"type\":\"GridBox\"},{\"attributes\":{\"below\":[{\"id\":\"70617\"}],\"center\":[{\"id\":\"70620\"},{\"id\":\"70624\"}],\"height\":350,\"left\":[{\"id\":\"70621\"}],\"margin\":null,\"min_border_bottom\":10,\"min_border_left\":10,\"min_border_right\":10,\"min_border_top\":10,\"renderers\":[{\"id\":\"70652\"},{\"id\":\"70673\"},{\"id\":\"70695\"},{\"id\":\"70719\"}],\"right\":[{\"id\":\"70664\"}],\"sizing_mode\":\"fixed\",\"title\":{\"id\":\"70609\"},\"toolbar\":{\"id\":\"70631\"},\"toolbar_location\":null,\"width\":750,\"x_range\":{\"id\":\"70602\"},\"x_scale\":{\"id\":\"70613\"},\"y_range\":{\"id\":\"70603\"},\"y_scale\":{\"id\":\"70615\"}},\"id\":\"70608\",\"subtype\":\"Figure\",\"type\":\"Plot\"},{\"attributes\":{\"axis\":{\"id\":\"70368\"},\"coordinates\":null,\"group\":null,\"ticker\":{\"id\":\"70369\"}},\"id\":\"70371\",\"type\":\"Grid\"},{\"attributes\":{},\"id\":\"70364\",\"type\":\"LinearScale\"},{\"attributes\":{\"angle\":{\"value\":0.7853981633974483},\"fill_alpha\":{\"value\":1.0},\"fill_color\":{\"value\":\"#30a2da\"},\"hatch_alpha\":{\"value\":1.0},\"hatch_color\":{\"value\":\"#30a2da\"},\"hatch_scale\":{\"value\":12.0},\"hatch_weight\":{\"value\":1.0},\"line_alpha\":{\"value\":1.0},\"line_cap\":{\"value\":\"butt\"},\"line_color\":{\"value\":\"#30a2da\"},\"line_dash\":{\"value\":[]},\"line_dash_offset\":{\"value\":0},\"line_join\":{\"value\":\"bevel\"},\"line_width\":{\"value\":2},\"marker\":{\"value\":\"cross\"},\"size\":{\"value\":10.0},\"x\":{\"field\":\"PC1\"},\"y\":{\"field\":\"PC2\"}},\"id\":\"70666\",\"type\":\"Scatter\"},{\"attributes\":{},\"id\":\"70377\",\"type\":\"PanTool\"},{\"attributes\":{\"data\":{\"PC1\":{\"__ndarray__\":\"8PTQrqo447+O0e2+JFTdvxUTj0NZhvK/u9IJ1HGH4L+6WkdgdNjcv6n9x3tOHta/c21M83DI5L9qwE+KvvmuP8AxxVNFeum/dM6LH/eZ07+c3W/HIlbjvx/z5tCaNdu/skmjFh7m2L8=\",\"dtype\":\"float64\",\"order\":\"little\",\"shape\":[13]},\"PC2\":{\"__ndarray__\":\"xQJY8+P36j+zP81egFfdP7hEN3tlVABAgaRxTss29j/nZPC8/ZDgP6HE/UiRV+c/yS0795eo2z+Y9tOGdUYHQO2jnptkpN+/ikNue2CC5j+ECxibCnrqPyR1su7rjN8/skntLg0gxT8=\",\"dtype\":\"float64\",\"order\":\"little\",\"shape\":[13]},\"Predicted_Cluster\":[3,3,3,3,3,3,3,3,3,3,3,3,3]},\"selected\":{\"id\":\"70714\"},\"selection_policy\":{\"id\":\"70734\"}},\"id\":\"70713\",\"type\":\"ColumnDataSource\"},{\"attributes\":{},\"id\":\"70613\",\"type\":\"LinearScale\"},{\"attributes\":{\"coordinates\":null,\"data_source\":{\"id\":\"70464\"},\"glyph\":{\"id\":\"70467\"},\"group\":null,\"hover_glyph\":null,\"muted_glyph\":{\"id\":\"70469\"},\"nonselection_glyph\":{\"id\":\"70468\"},\"selection_glyph\":{\"id\":\"70489\"},\"view\":{\"id\":\"70471\"}},\"id\":\"70470\",\"type\":\"GlyphRenderer\"},{\"attributes\":{\"axis_label\":\"PRICE CHANGE PERCENTAGE 7D\",\"axis_label_text_font_size\":\"14pt\",\"coordinates\":null,\"formatter\":{\"id\":\"70393\"},\"group\":null,\"major_label_policy\":{\"id\":\"70394\"},\"major_label_text_font_size\":\"12pt\",\"ticker\":{\"id\":\"70373\"}},\"id\":\"70372\",\"type\":\"LinearAxis\"},{\"attributes\":{\"source\":{\"id\":\"70667\"}},\"id\":\"70674\",\"type\":\"CDSView\"},{\"attributes\":{\"fill_alpha\":{\"value\":0.2},\"fill_color\":{\"value\":\"#6d904f\"},\"hatch_alpha\":{\"value\":0.2},\"hatch_color\":{\"value\":\"#6d904f\"},\"line_alpha\":{\"value\":0.2},\"line_color\":{\"value\":\"#6d904f\"},\"line_width\":{\"value\":2},\"marker\":{\"value\":\"cross\"},\"size\":{\"value\":10.0},\"x\":{\"field\":\"PC1\"},\"y\":{\"field\":\"PC2\"}},\"id\":\"70718\",\"type\":\"Scatter\"},{\"attributes\":{\"fill_alpha\":{\"value\":0.1},\"fill_color\":{\"value\":\"#6d904f\"},\"hatch_alpha\":{\"value\":0.1},\"hatch_color\":{\"value\":\"#6d904f\"},\"line_alpha\":{\"value\":0.1},\"line_color\":{\"value\":\"#6d904f\"},\"line_width\":{\"value\":2},\"marker\":{\"value\":\"cross\"},\"size\":{\"value\":10.0},\"x\":{\"field\":\"price_change_percentage_24h\"},\"y\":{\"field\":\"price_change_percentage_7d\"}},\"id\":\"70468\",\"type\":\"Scatter\"},{\"attributes\":{},\"id\":\"70369\",\"type\":\"BasicTicker\"},{\"attributes\":{},\"id\":\"70394\",\"type\":\"AllLabels\"},{\"attributes\":{\"axis_label\":\"PRICE CHANGE PERCENTAGE 24H\",\"axis_label_text_font_size\":\"14pt\",\"coordinates\":null,\"formatter\":{\"id\":\"70390\"},\"group\":null,\"major_label_policy\":{\"id\":\"70391\"},\"major_label_text_font_size\":\"12pt\",\"ticker\":{\"id\":\"70369\"}},\"id\":\"70368\",\"type\":\"LinearAxis\"},{\"attributes\":{\"axis\":{\"id\":\"70621\"},\"coordinates\":null,\"dimension\":1,\"group\":null,\"ticker\":{\"id\":\"70622\"}},\"id\":\"70624\",\"type\":\"Grid\"},{\"attributes\":{\"angle\":{\"value\":0},\"fill_alpha\":{\"value\":1.0},\"fill_color\":{\"value\":\"#e5ae38\"},\"hatch_alpha\":{\"value\":1.0},\"hatch_color\":{\"value\":\"#e5ae38\"},\"hatch_scale\":{\"value\":12.0},\"hatch_weight\":{\"value\":1.0},\"line_alpha\":{\"value\":1.0},\"line_cap\":{\"value\":\"butt\"},\"line_color\":{\"value\":\"#e5ae38\"},\"line_dash\":{\"value\":[]},\"line_dash_offset\":{\"value\":0},\"line_join\":{\"value\":\"bevel\"},\"line_width\":{\"value\":2},\"marker\":{\"value\":\"triangle\"},\"size\":{\"value\":10.0},\"x\":{\"field\":\"price_change_percentage_24h\"},\"y\":{\"field\":\"price_change_percentage_7d\"}},\"id\":\"70463\",\"type\":\"Scatter\"},{\"attributes\":{\"data\":{\"Predicted_Cluster\":[3,3,3,3,3,3,3,3,3,3,3,3,3],\"coin_id\":[\"bitcoin\",\"ethereum\",\"bitcoin-cash\",\"binancecoin\",\"chainlink\",\"cardano\",\"litecoin\",\"monero\",\"tezos\",\"cosmos\",\"wrapped-bitcoin\",\"zcash\",\"maker\"],\"price_change_percentage_24h\":{\"__ndarray__\":\"DdlqYN9F4D86azDosLzHPzALIwCtFvM/9w6McDSK7D/VDHOpb1eHPzMEvaFkP7o/Sds39trWsz9Epj8/c9DQP4xAeNEVZ8O/qq8st/Fh0L8FWWk3mH7gP6wo083aUMC//ACFOIMFwL8=\",\"dtype\":\"float64\",\"order\":\"little\",\"shape\":[13]},\"price_change_percentage_7d\":{\"__ndarray__\":\"U1k8q3mQ3z9yoPpI+ebtPzAB2dP2AQBAgmkOMZk89T8FNulI+JMEQCZRaSLGIPg/84wjaB1l1T8rMp3jf678P2VmURqKqeY/XK6ZksNx/T9DfMqy1o7dPyTPDB1Xu+0/srW7TleV4j8=\",\"dtype\":\"float64\",\"order\":\"little\",\"shape\":[13]}},\"selected\":{\"id\":\"70465\"},\"selection_policy\":{\"id\":\"70485\"}},\"id\":\"70464\",\"type\":\"ColumnDataSource\"},{\"attributes\":{\"coordinates\":null,\"data_source\":{\"id\":\"70667\"},\"glyph\":{\"id\":\"70670\"},\"group\":null,\"hover_glyph\":null,\"muted_glyph\":{\"id\":\"70672\"},\"nonselection_glyph\":{\"id\":\"70671\"},\"selection_glyph\":{\"id\":\"70688\"},\"view\":{\"id\":\"70674\"}},\"id\":\"70673\",\"type\":\"GlyphRenderer\"},{\"attributes\":{\"axis\":{\"id\":\"70617\"},\"coordinates\":null,\"group\":null,\"ticker\":{\"id\":\"70618\"}},\"id\":\"70620\",\"type\":\"Grid\"},{\"attributes\":{\"label\":{\"value\":\"3\"},\"renderers\":[{\"id\":\"70470\"}]},\"id\":\"70488\",\"type\":\"LegendItem\"},{\"attributes\":{},\"id\":\"70684\",\"type\":\"UnionRenderers\"},{\"attributes\":{\"end\":7.834135596337104,\"reset_end\":7.834135596337104,\"reset_start\":-4.963347456561431,\"start\":-4.963347456561431,\"tags\":[[[\"PC2\",\"PC2\",null]]]},\"id\":\"70603\",\"type\":\"Range1d\"},{\"attributes\":{\"coordinates\":null,\"group\":null,\"text\":\"Crypto Clusters - Original Data\",\"text_color\":\"black\",\"text_font_size\":\"17pt\"},\"id\":\"70360\",\"type\":\"Title\"},{\"attributes\":{\"margin\":[5,5,5,5],\"name\":\"HSpacer141552\",\"sizing_mode\":\"stretch_width\"},\"id\":\"71177\",\"type\":\"Spacer\"},{\"attributes\":{\"coordinates\":null,\"data_source\":{\"id\":\"70713\"},\"glyph\":{\"id\":\"70716\"},\"group\":null,\"hover_glyph\":null,\"muted_glyph\":{\"id\":\"70718\"},\"nonselection_glyph\":{\"id\":\"70717\"},\"selection_glyph\":{\"id\":\"70738\"},\"view\":{\"id\":\"70720\"}},\"id\":\"70719\",\"type\":\"GlyphRenderer\"},{\"attributes\":{},\"id\":\"70639\",\"type\":\"BasicTickFormatter\"},{\"attributes\":{\"fill_color\":{\"value\":\"#6d904f\"},\"hatch_color\":{\"value\":\"#6d904f\"},\"line_color\":{\"value\":\"#6d904f\"},\"line_width\":{\"value\":2},\"marker\":{\"value\":\"cross\"},\"size\":{\"value\":10.0},\"x\":{\"field\":\"PC1\"},\"y\":{\"field\":\"PC2\"}},\"id\":\"70716\",\"type\":\"Scatter\"},{\"attributes\":{},\"id\":\"70627\",\"type\":\"WheelZoomTool\"},{\"attributes\":{\"data\":{\"Predicted_Cluster\":[2],\"coin_id\":[\"celsius-degree-token\"],\"price_change_percentage_24h\":{\"__ndarray__\":\"VLqXBn668D8=\",\"dtype\":\"float64\",\"order\":\"little\",\"shape\":[1]},\"price_change_percentage_7d\":{\"__ndarray__\":\"Nv03JFjJ478=\",\"dtype\":\"float64\",\"order\":\"little\",\"shape\":[1]}},\"selected\":{\"id\":\"70441\"},\"selection_policy\":{\"id\":\"70459\"}},\"id\":\"70440\",\"type\":\"ColumnDataSource\"},{\"attributes\":{},\"id\":\"70668\",\"type\":\"Selection\"},{\"attributes\":{\"data\":{\"PC1\":{\"__ndarray__\":\"OFWiy5MtIEA=\",\"dtype\":\"float64\",\"order\":\"little\",\"shape\":[1]},\"PC2\":{\"__ndarray__\":\"qg3w8dQsD8A=\",\"dtype\":\"float64\",\"order\":\"little\",\"shape\":[1]},\"Predicted_Cluster\":[1]},\"selected\":{\"id\":\"70668\"},\"selection_policy\":{\"id\":\"70684\"}},\"id\":\"70667\",\"type\":\"ColumnDataSource\"},{\"attributes\":{\"source\":{\"id\":\"70646\"}},\"id\":\"70653\",\"type\":\"CDSView\"},{\"attributes\":{\"label\":{\"value\":\"2\"},\"renderers\":[{\"id\":\"70446\"}]},\"id\":\"70462\",\"type\":\"LegendItem\"},{\"attributes\":{\"click_policy\":\"mute\",\"coordinates\":null,\"group\":null,\"items\":[{\"id\":\"70665\"},{\"id\":\"70687\"},{\"id\":\"70711\"},{\"id\":\"70737\"}],\"label_text_font_size\":\"12pt\",\"location\":[0,0],\"title\":\"Predicted Cluster\",\"title_text_font_size\":\"13pt\"},\"id\":\"70664\",\"type\":\"Legend\"},{\"attributes\":{\"bottom_units\":\"screen\",\"coordinates\":null,\"fill_alpha\":0.5,\"fill_color\":\"lightgrey\",\"group\":null,\"left_units\":\"screen\",\"level\":\"overlay\",\"line_alpha\":1.0,\"line_color\":\"black\",\"line_dash\":[4,4],\"line_width\":2,\"right_units\":\"screen\",\"syncable\":false,\"top_units\":\"screen\"},\"id\":\"70381\",\"type\":\"BoxAnnotation\"},{\"attributes\":{\"tools\":[{\"id\":\"70355\"},{\"id\":\"70376\"},{\"id\":\"70377\"},{\"id\":\"70378\"},{\"id\":\"70379\"},{\"id\":\"70380\"}]},\"id\":\"70382\",\"type\":\"Toolbar\"},{\"attributes\":{\"coordinates\":null,\"data_source\":{\"id\":\"70397\"},\"glyph\":{\"id\":\"70400\"},\"group\":null,\"hover_glyph\":null,\"muted_glyph\":{\"id\":\"70402\"},\"nonselection_glyph\":{\"id\":\"70401\"},\"selection_glyph\":{\"id\":\"70417\"},\"view\":{\"id\":\"70404\"}},\"id\":\"70403\",\"type\":\"GlyphRenderer\"},{\"attributes\":{\"toolbars\":[{\"id\":\"70382\"},{\"id\":\"70631\"}],\"tools\":[{\"id\":\"70355\"},{\"id\":\"70376\"},{\"id\":\"70377\"},{\"id\":\"70378\"},{\"id\":\"70379\"},{\"id\":\"70380\"},{\"id\":\"70604\"},{\"id\":\"70625\"},{\"id\":\"70626\"},{\"id\":\"70627\"},{\"id\":\"70628\"},{\"id\":\"70629\"}]},\"id\":\"70886\",\"type\":\"ProxyToolbar\"},{\"attributes\":{\"label\":{\"value\":\"0\"},\"renderers\":[{\"id\":\"70403\"}]},\"id\":\"70416\",\"type\":\"LegendItem\"},{\"attributes\":{},\"id\":\"70391\",\"type\":\"AllLabels\"},{\"attributes\":{\"angle\":{\"value\":0.7853981633974483},\"fill_color\":{\"value\":\"#30a2da\"},\"hatch_color\":{\"value\":\"#30a2da\"},\"line_color\":{\"value\":\"#30a2da\"},\"line_width\":{\"value\":2},\"marker\":{\"value\":\"cross\"},\"size\":{\"value\":10.0},\"x\":{\"field\":\"PC1\"},\"y\":{\"field\":\"PC2\"}},\"id\":\"70649\",\"type\":\"Scatter\"},{\"attributes\":{\"toolbar\":{\"id\":\"70886\"},\"toolbar_location\":\"above\"},\"id\":\"70887\",\"type\":\"ToolbarBox\"},{\"attributes\":{},\"id\":\"70622\",\"type\":\"BasicTicker\"},{\"attributes\":{},\"id\":\"70435\",\"type\":\"UnionRenderers\"},{\"attributes\":{\"angle\":{\"value\":0.7853981633974483},\"fill_alpha\":{\"value\":0.2},\"fill_color\":{\"value\":\"#30a2da\"},\"hatch_alpha\":{\"value\":0.2},\"hatch_color\":{\"value\":\"#30a2da\"},\"line_alpha\":{\"value\":0.2},\"line_color\":{\"value\":\"#30a2da\"},\"line_width\":{\"value\":2},\"marker\":{\"value\":\"cross\"},\"size\":{\"value\":10.0},\"x\":{\"field\":\"PC1\"},\"y\":{\"field\":\"PC2\"}},\"id\":\"70651\",\"type\":\"Scatter\"},{\"attributes\":{\"source\":{\"id\":\"70713\"}},\"id\":\"70720\",\"type\":\"CDSView\"},{\"attributes\":{},\"id\":\"70398\",\"type\":\"Selection\"},{\"attributes\":{},\"id\":\"70643\",\"type\":\"AllLabels\"},{\"attributes\":{\"data\":{\"Predicted_Cluster\":[1,1,1,1,1,1,1,1,1,1,1,1,1,1,1,1,1,1,1,1,1,1,1,1,1,1],\"coin_id\":[\"tether\",\"ripple\",\"bitcoin-cash-sv\",\"crypto-com-chain\",\"usd-coin\",\"eos\",\"tron\",\"okb\",\"stellar\",\"cdai\",\"neo\",\"leo-token\",\"huobi-token\",\"nem\",\"binance-usd\",\"iota\",\"vechain\",\"theta-token\",\"dash\",\"ethereum-classic\",\"havven\",\"omisego\",\"ontology\",\"ftx-token\",\"true-usd\",\"digibyte\"],\"price_change_percentage_24h\":{\"__ndarray__\":\"mCJF1OlLlj/mJRG3Ed+kv1qZGRifu9w//rJXHrAz1T/yMTqenpahPx9kk3dK7sM/GTRehHalwD90fnl54Irtv9XPDahDw9G/+VOWQSEmxz+kpbukw1bSP6eM4M4OgKo/BcMOj9+jqr/Chq6S5ebLv2h3TIfCZ68/weEQ8QyV0D/KmZTmC7niP1YH9WGFy/m/N7JuVBEB07/EU4GAhEGyv8Ocf0hw2/a/lrPBJY23/j/IKcQzxy3av5WrmDyeito/Bf22eE/6sz9Y362Ir3rzPw==\",\"dtype\":\"float64\",\"order\":\"little\",\"shape\":[26]},\"price_change_percentage_7d\":{\"__ndarray__\":\"bZSIvk+a5r9RujxqH/Ppvw2U7adXaMi/d+r7VGbW+b9EGSx/8nTnv4rfBo4Lhe2/BEBwXEEApb8Udj8VbP/2vySelkVDp9i/7SZvVsyO5r8uu+JVH+LUvziN+gRMte2/o2qlez1D3b/CtPLKIS7rvyYjaswHnea/US6joeTvzz/dRmuCvtDvv/9TV66U6fq/ZWX+mWVCuD8GJ0pHuV/Nv8nIE2ZWH5q/TTxj/me11z+Htdvf1gXtv2Avihmzf9o/e31xtwIC5r/STlu6Y3Ljvw==\",\"dtype\":\"float64\",\"order\":\"little\",\"shape\":[26]}},\"selected\":{\"id\":\"70419\"},\"selection_policy\":{\"id\":\"70435\"}},\"id\":\"70418\",\"type\":\"ColumnDataSource\"},{\"attributes\":{\"source\":{\"id\":\"70689\"}},\"id\":\"70696\",\"type\":\"CDSView\"},{\"attributes\":{},\"id\":\"70661\",\"type\":\"UnionRenderers\"},{\"attributes\":{\"fill_color\":{\"value\":\"#6d904f\"},\"hatch_color\":{\"value\":\"#6d904f\"},\"line_color\":{\"value\":\"#6d904f\"},\"line_width\":{\"value\":2},\"marker\":{\"value\":\"cross\"},\"size\":{\"value\":10.0},\"x\":{\"field\":\"price_change_percentage_24h\"},\"y\":{\"field\":\"price_change_percentage_7d\"}},\"id\":\"70467\",\"type\":\"Scatter\"},{\"attributes\":{\"angle\":{\"value\":0.7853981633974483},\"fill_alpha\":{\"value\":0.1},\"fill_color\":{\"value\":\"#30a2da\"},\"hatch_alpha\":{\"value\":0.1},\"hatch_color\":{\"value\":\"#30a2da\"},\"line_alpha\":{\"value\":0.1},\"line_color\":{\"value\":\"#30a2da\"},\"line_width\":{\"value\":2},\"marker\":{\"value\":\"cross\"},\"size\":{\"value\":10.0},\"x\":{\"field\":\"PC1\"},\"y\":{\"field\":\"PC2\"}},\"id\":\"70650\",\"type\":\"Scatter\"},{\"attributes\":{\"label\":{\"value\":\"2\"},\"renderers\":[{\"id\":\"70695\"}]},\"id\":\"70711\",\"type\":\"LegendItem\"},{\"attributes\":{},\"id\":\"70419\",\"type\":\"Selection\"},{\"attributes\":{\"margin\":[5,5,5,5],\"name\":\"HSpacer141551\",\"sizing_mode\":\"stretch_width\"},\"id\":\"70352\",\"type\":\"Spacer\"},{\"attributes\":{\"fill_color\":{\"value\":\"#e5ae38\"},\"hatch_color\":{\"value\":\"#e5ae38\"},\"line_color\":{\"value\":\"#e5ae38\"},\"line_width\":{\"value\":2},\"marker\":{\"value\":\"triangle\"},\"size\":{\"value\":10.0},\"x\":{\"field\":\"price_change_percentage_24h\"},\"y\":{\"field\":\"price_change_percentage_7d\"}},\"id\":\"70443\",\"type\":\"Scatter\"},{\"attributes\":{\"callback\":null,\"renderers\":[{\"id\":\"70403\"},{\"id\":\"70424\"},{\"id\":\"70446\"},{\"id\":\"70470\"}],\"tags\":[\"hv_created\"],\"tooltips\":[[\"Predicted Cluster\",\"@{Predicted_Cluster}\"],[\"price_change_percentage_24h\",\"@{price_change_percentage_24h}\"],[\"price_change_percentage_7d\",\"@{price_change_percentage_7d}\"],[\"coin_id\",\"@{coin_id}\"]]},\"id\":\"70355\",\"type\":\"HoverTool\"},{\"attributes\":{\"tools\":[{\"id\":\"70604\"},{\"id\":\"70625\"},{\"id\":\"70626\"},{\"id\":\"70627\"},{\"id\":\"70628\"},{\"id\":\"70629\"}]},\"id\":\"70631\",\"type\":\"Toolbar\"},{\"attributes\":{\"coordinates\":null,\"data_source\":{\"id\":\"70646\"},\"glyph\":{\"id\":\"70649\"},\"group\":null,\"hover_glyph\":null,\"muted_glyph\":{\"id\":\"70651\"},\"nonselection_glyph\":{\"id\":\"70650\"},\"selection_glyph\":{\"id\":\"70666\"},\"view\":{\"id\":\"70653\"}},\"id\":\"70652\",\"type\":\"GlyphRenderer\"},{\"attributes\":{},\"id\":\"70390\",\"type\":\"BasicTickFormatter\"},{\"attributes\":{\"data\":{\"PC1\":{\"__ndarray__\":\"hBQ7s2krE0A=\",\"dtype\":\"float64\",\"order\":\"little\",\"shape\":[1]},\"PC2\":{\"__ndarray__\":\"+VnQWxoSG0A=\",\"dtype\":\"float64\",\"order\":\"little\",\"shape\":[1]},\"Predicted_Cluster\":[2]},\"selected\":{\"id\":\"70690\"},\"selection_policy\":{\"id\":\"70708\"}},\"id\":\"70689\",\"type\":\"ColumnDataSource\"},{\"attributes\":{},\"id\":\"70485\",\"type\":\"UnionRenderers\"},{\"attributes\":{\"source\":{\"id\":\"70397\"}},\"id\":\"70404\",\"type\":\"CDSView\"},{\"attributes\":{\"fill_color\":{\"value\":\"#fc4f30\"},\"hatch_color\":{\"value\":\"#fc4f30\"},\"line_color\":{\"value\":\"#fc4f30\"},\"line_width\":{\"value\":2},\"marker\":{\"value\":\"asterisk\"},\"size\":{\"value\":10.0},\"x\":{\"field\":\"PC1\"},\"y\":{\"field\":\"PC2\"}},\"id\":\"70670\",\"type\":\"Scatter\"},{\"attributes\":{},\"id\":\"70618\",\"type\":\"BasicTicker\"},{\"attributes\":{\"label\":{\"value\":\"0\"},\"renderers\":[{\"id\":\"70652\"}]},\"id\":\"70665\",\"type\":\"LegendItem\"},{\"attributes\":{\"click_policy\":\"mute\",\"coordinates\":null,\"group\":null,\"items\":[{\"id\":\"70416\"},{\"id\":\"70438\"},{\"id\":\"70462\"},{\"id\":\"70488\"}],\"label_text_font_size\":\"12pt\",\"location\":[0,0],\"title\":\"Predicted Cluster\",\"title_text_font_size\":\"13pt\"},\"id\":\"70415\",\"type\":\"Legend\"},{\"attributes\":{\"axis_label\":\"PC2\",\"axis_label_text_font_size\":\"14pt\",\"coordinates\":null,\"formatter\":{\"id\":\"70642\"},\"group\":null,\"major_label_policy\":{\"id\":\"70643\"},\"major_label_text_font_size\":\"12pt\",\"ticker\":{\"id\":\"70622\"}},\"id\":\"70621\",\"type\":\"LinearAxis\"},{\"attributes\":{},\"id\":\"70441\",\"type\":\"Selection\"},{\"attributes\":{\"angle\":{\"value\":0.7853981633974483},\"fill_alpha\":{\"value\":0.2},\"fill_color\":{\"value\":\"#30a2da\"},\"hatch_alpha\":{\"value\":0.2},\"hatch_color\":{\"value\":\"#30a2da\"},\"line_alpha\":{\"value\":0.2},\"line_color\":{\"value\":\"#30a2da\"},\"line_width\":{\"value\":2},\"marker\":{\"value\":\"cross\"},\"size\":{\"value\":10.0},\"x\":{\"field\":\"price_change_percentage_24h\"},\"y\":{\"field\":\"price_change_percentage_7d\"}},\"id\":\"70402\",\"type\":\"Scatter\"},{\"attributes\":{},\"id\":\"70380\",\"type\":\"ResetTool\"},{\"attributes\":{},\"id\":\"70625\",\"type\":\"SaveTool\"},{\"attributes\":{},\"id\":\"70629\",\"type\":\"ResetTool\"},{\"attributes\":{\"source\":{\"id\":\"70418\"}},\"id\":\"70425\",\"type\":\"CDSView\"},{\"attributes\":{\"overlay\":{\"id\":\"70630\"}},\"id\":\"70628\",\"type\":\"BoxZoomTool\"},{\"attributes\":{\"coordinates\":null,\"data_source\":{\"id\":\"70418\"},\"glyph\":{\"id\":\"70421\"},\"group\":null,\"hover_glyph\":null,\"muted_glyph\":{\"id\":\"70423\"},\"nonselection_glyph\":{\"id\":\"70422\"},\"selection_glyph\":{\"id\":\"70439\"},\"view\":{\"id\":\"70425\"}},\"id\":\"70424\",\"type\":\"GlyphRenderer\"},{\"attributes\":{},\"id\":\"70708\",\"type\":\"UnionRenderers\"},{\"attributes\":{\"children\":[{\"id\":\"70352\"},{\"id\":\"70888\"},{\"id\":\"71177\"}],\"margin\":[0,0,0,0],\"name\":\"Row141547\",\"tags\":[\"embedded\"]},\"id\":\"70351\",\"type\":\"Row\"},{\"attributes\":{},\"id\":\"70626\",\"type\":\"PanTool\"},{\"attributes\":{\"coordinates\":null,\"group\":null,\"text\":\"Crypto Clusters - PCA Data\",\"text_color\":\"black\",\"text_font_size\":\"17pt\"},\"id\":\"70609\",\"type\":\"Title\"},{\"attributes\":{\"fill_alpha\":{\"value\":0.1},\"fill_color\":{\"value\":\"#fc4f30\"},\"hatch_alpha\":{\"value\":0.1},\"hatch_color\":{\"value\":\"#fc4f30\"},\"line_alpha\":{\"value\":0.1},\"line_color\":{\"value\":\"#fc4f30\"},\"line_width\":{\"value\":2},\"marker\":{\"value\":\"asterisk\"},\"size\":{\"value\":10.0},\"x\":{\"field\":\"price_change_percentage_24h\"},\"y\":{\"field\":\"price_change_percentage_7d\"}},\"id\":\"70422\",\"type\":\"Scatter\"},{\"attributes\":{\"label\":{\"value\":\"1\"},\"renderers\":[{\"id\":\"70424\"}]},\"id\":\"70438\",\"type\":\"LegendItem\"},{\"attributes\":{\"angle\":{\"value\":0},\"fill_alpha\":{\"value\":1.0},\"fill_color\":{\"value\":\"#e5ae38\"},\"hatch_alpha\":{\"value\":1.0},\"hatch_color\":{\"value\":\"#e5ae38\"},\"hatch_scale\":{\"value\":12.0},\"hatch_weight\":{\"value\":1.0},\"line_alpha\":{\"value\":1.0},\"line_cap\":{\"value\":\"butt\"},\"line_color\":{\"value\":\"#e5ae38\"},\"line_dash\":{\"value\":[]},\"line_dash_offset\":{\"value\":0},\"line_join\":{\"value\":\"bevel\"},\"line_width\":{\"value\":2},\"marker\":{\"value\":\"triangle\"},\"size\":{\"value\":10.0},\"x\":{\"field\":\"PC1\"},\"y\":{\"field\":\"PC2\"}},\"id\":\"70712\",\"type\":\"Scatter\"},{\"attributes\":{\"fill_alpha\":{\"value\":0.1},\"fill_color\":{\"value\":\"#6d904f\"},\"hatch_alpha\":{\"value\":0.1},\"hatch_color\":{\"value\":\"#6d904f\"},\"line_alpha\":{\"value\":0.1},\"line_color\":{\"value\":\"#6d904f\"},\"line_width\":{\"value\":2},\"marker\":{\"value\":\"cross\"},\"size\":{\"value\":10.0},\"x\":{\"field\":\"PC1\"},\"y\":{\"field\":\"PC2\"}},\"id\":\"70717\",\"type\":\"Scatter\"},{\"attributes\":{\"angle\":{\"value\":0.0},\"fill_alpha\":{\"value\":1.0},\"fill_color\":{\"value\":\"#fc4f30\"},\"hatch_alpha\":{\"value\":1.0},\"hatch_color\":{\"value\":\"#fc4f30\"},\"hatch_scale\":{\"value\":12.0},\"hatch_weight\":{\"value\":1.0},\"line_alpha\":{\"value\":1.0},\"line_cap\":{\"value\":\"butt\"},\"line_color\":{\"value\":\"#fc4f30\"},\"line_dash\":{\"value\":[]},\"line_dash_offset\":{\"value\":0},\"line_join\":{\"value\":\"bevel\"},\"line_width\":{\"value\":2},\"marker\":{\"value\":\"asterisk\"},\"size\":{\"value\":10.0},\"x\":{\"field\":\"price_change_percentage_24h\"},\"y\":{\"field\":\"price_change_percentage_7d\"}},\"id\":\"70439\",\"type\":\"Scatter\"},{\"attributes\":{\"angle\":{\"value\":0.7853981633974483},\"fill_alpha\":{\"value\":0.1},\"fill_color\":{\"value\":\"#30a2da\"},\"hatch_alpha\":{\"value\":0.1},\"hatch_color\":{\"value\":\"#30a2da\"},\"line_alpha\":{\"value\":0.1},\"line_color\":{\"value\":\"#30a2da\"},\"line_width\":{\"value\":2},\"marker\":{\"value\":\"cross\"},\"size\":{\"value\":10.0},\"x\":{\"field\":\"price_change_percentage_24h\"},\"y\":{\"field\":\"price_change_percentage_7d\"}},\"id\":\"70401\",\"type\":\"Scatter\"},{\"attributes\":{\"angle\":{\"value\":0.0},\"fill_alpha\":{\"value\":1.0},\"fill_color\":{\"value\":\"#6d904f\"},\"hatch_alpha\":{\"value\":1.0},\"hatch_color\":{\"value\":\"#6d904f\"},\"hatch_scale\":{\"value\":12.0},\"hatch_weight\":{\"value\":1.0},\"line_alpha\":{\"value\":1.0},\"line_cap\":{\"value\":\"butt\"},\"line_color\":{\"value\":\"#6d904f\"},\"line_dash\":{\"value\":[]},\"line_dash_offset\":{\"value\":0},\"line_join\":{\"value\":\"bevel\"},\"line_width\":{\"value\":2},\"marker\":{\"value\":\"cross\"},\"size\":{\"value\":10.0},\"x\":{\"field\":\"PC1\"},\"y\":{\"field\":\"PC2\"}},\"id\":\"70738\",\"type\":\"Scatter\"},{\"attributes\":{},\"id\":\"70714\",\"type\":\"Selection\"},{\"attributes\":{\"label\":{\"value\":\"3\"},\"renderers\":[{\"id\":\"70719\"}]},\"id\":\"70737\",\"type\":\"LegendItem\"},{\"attributes\":{},\"id\":\"70412\",\"type\":\"UnionRenderers\"},{\"attributes\":{\"fill_color\":{\"value\":\"#fc4f30\"},\"hatch_color\":{\"value\":\"#fc4f30\"},\"line_color\":{\"value\":\"#fc4f30\"},\"line_width\":{\"value\":2},\"marker\":{\"value\":\"asterisk\"},\"size\":{\"value\":10.0},\"x\":{\"field\":\"price_change_percentage_24h\"},\"y\":{\"field\":\"price_change_percentage_7d\"}},\"id\":\"70421\",\"type\":\"Scatter\"},{\"attributes\":{\"angle\":{\"value\":0.7853981633974483},\"fill_alpha\":{\"value\":1.0},\"fill_color\":{\"value\":\"#30a2da\"},\"hatch_alpha\":{\"value\":1.0},\"hatch_color\":{\"value\":\"#30a2da\"},\"hatch_scale\":{\"value\":12.0},\"hatch_weight\":{\"value\":1.0},\"line_alpha\":{\"value\":1.0},\"line_cap\":{\"value\":\"butt\"},\"line_color\":{\"value\":\"#30a2da\"},\"line_dash\":{\"value\":[]},\"line_dash_offset\":{\"value\":0},\"line_join\":{\"value\":\"bevel\"},\"line_width\":{\"value\":2},\"marker\":{\"value\":\"cross\"},\"size\":{\"value\":10.0},\"x\":{\"field\":\"price_change_percentage_24h\"},\"y\":{\"field\":\"price_change_percentage_7d\"}},\"id\":\"70417\",\"type\":\"Scatter\"},{\"attributes\":{\"children\":[{\"id\":\"70887\"},{\"id\":\"70885\"}]},\"id\":\"70888\",\"type\":\"Column\"},{\"attributes\":{\"bottom_units\":\"screen\",\"coordinates\":null,\"fill_alpha\":0.5,\"fill_color\":\"lightgrey\",\"group\":null,\"left_units\":\"screen\",\"level\":\"overlay\",\"line_alpha\":1.0,\"line_color\":\"black\",\"line_dash\":[4,4],\"line_width\":2,\"right_units\":\"screen\",\"syncable\":false,\"top_units\":\"screen\"},\"id\":\"70630\",\"type\":\"BoxAnnotation\"},{\"attributes\":{\"end\":2.997678656273595,\"reset_end\":2.997678656273595,\"reset_start\":-2.107454305728652,\"start\":-2.107454305728652,\"tags\":[[[\"price_change_percentage_7d\",\"price_change_percentage_7d\",null]]]},\"id\":\"70354\",\"type\":\"Range1d\"},{\"attributes\":{\"fill_alpha\":{\"value\":0.2},\"fill_color\":{\"value\":\"#fc4f30\"},\"hatch_alpha\":{\"value\":0.2},\"hatch_color\":{\"value\":\"#fc4f30\"},\"line_alpha\":{\"value\":0.2},\"line_color\":{\"value\":\"#fc4f30\"},\"line_width\":{\"value\":2},\"marker\":{\"value\":\"asterisk\"},\"size\":{\"value\":10.0},\"x\":{\"field\":\"price_change_percentage_24h\"},\"y\":{\"field\":\"price_change_percentage_7d\"}},\"id\":\"70423\",\"type\":\"Scatter\"}],\"root_ids\":[\"70351\"]},\"title\":\"Bokeh Application\",\"version\":\"2.4.2\"}};\n",
       "    var render_items = [{\"docid\":\"2b670e5b-477e-4bd6-8071-2583f5ccb8a7\",\"root_ids\":[\"70351\"],\"roots\":{\"70351\":\"5efa5cc0-791a-41d7-b05a-a5bb9d0b6dd2\"}}];\n",
       "    root.Bokeh.embed.embed_items_notebook(docs_json, render_items);\n",
       "  }\n",
       "  if (root.Bokeh !== undefined && root.Bokeh.Panel !== undefined) {\n",
       "    embed_document(root);\n",
       "  } else {\n",
       "    var attempts = 0;\n",
       "    var timer = setInterval(function(root) {\n",
       "      if (root.Bokeh !== undefined && root.Bokeh.Panel !== undefined) {\n",
       "        clearInterval(timer);\n",
       "        embed_document(root);\n",
       "      } else if (document.readyState == \"complete\") {\n",
       "        attempts++;\n",
       "        if (attempts > 200) {\n",
       "          clearInterval(timer);\n",
       "          console.log(\"Bokeh: ERROR: Unable to run BokehJS code because BokehJS library is missing\");\n",
       "        }\n",
       "      }\n",
       "    }, 25, root)\n",
       "  }\n",
       "})(window);</script>"
      ],
      "text/plain": [
       ":Layout\n",
       "   .NdOverlay.I  :NdOverlay   [Predicted Cluster]\n",
       "      :Scatter   [price_change_percentage_24h]   (price_change_percentage_7d,coin_id)\n",
       "   .NdOverlay.II :NdOverlay   [Predicted Cluster]\n",
       "      :Scatter   [PC1]   (PC2)"
      ]
     },
     "execution_count": 690,
     "metadata": {
      "application/vnd.holoviews_exec.v0+json": {
       "id": "70351"
      }
     },
     "output_type": "execute_result"
    }
   ],
   "source": [
    "# Compoosite plot to contrast the clusters\n",
    "cluster_scatter_plot_original + cluster_scatter_plot_pca"
   ]
  },
  {
   "cell_type": "markdown",
   "metadata": {},
   "source": [
    "#### Answer the following question: After visually analyzing the cluster analysis results, what is the impact of using fewer features to cluster the data using K-Means?\n",
    "\n",
    "  * **Question:** After visually analyzing the cluster analysis results, what is the impact of using fewer features to cluster the data using K-Means?\n",
    "\n",
    "  * **Answer:** After visually analyzing the cluster analysis results, the impact of using fewer features to cluster the data using K-Mean results in similar performance to the original as both result in four clusters."
   ]
  }
 ],
 "metadata": {
  "kernelspec": {
   "display_name": "Python [conda env:dev]",
   "language": "python",
   "name": "conda-env-dev-py"
  },
  "language_info": {
   "codemirror_mode": {
    "name": "ipython",
    "version": 3
   },
   "file_extension": ".py",
   "mimetype": "text/x-python",
   "name": "python",
   "nbconvert_exporter": "python",
   "pygments_lexer": "ipython3",
   "version": "3.7.13"
  }
 },
 "nbformat": 4,
 "nbformat_minor": 4
}
